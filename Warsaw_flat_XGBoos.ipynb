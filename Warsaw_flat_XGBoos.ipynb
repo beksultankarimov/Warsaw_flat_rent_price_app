{
  "nbformat": 4,
  "nbformat_minor": 0,
  "metadata": {
    "colab": {
      "name": "otodom for git and kaggle .ipynb",
      "provenance": [],
      "collapsed_sections": [
        "g1Kj9O-ksPP8",
        "wklde0T9A9im",
        "cMkzbMRSRwDN",
        "nBRCdaqHDgU-",
        "_cubOeqzF5Td",
        "HZq-UJvj1KsG",
        "_h5ou6wWiyez",
        "99y7-O59k8T1",
        "eMdA6ieVYrov",
        "y5J8phK-bWjt",
        "zEEe-AfRt_1I",
        "N0dpdt6kttDR",
        "X6F_ueb3RrSy",
        "OyOWRIqRj5og",
        "QBJYHCLVknki",
        "mEF85dpFtl_6",
        "JUZZehLJFfvO",
        "KdmVIeODFm-I",
        "Gs6oGBZ1lXy7"
      ],
      "toc_visible": true
    },
    "kernelspec": {
      "name": "python3",
      "display_name": "Python 3"
    }
  },
  "cells": [
    {
      "cell_type": "markdown",
      "metadata": {
        "id": "-g7R4m9SAfnW"
      },
      "source": [
        "# Initial set up"
      ]
    },
    {
      "cell_type": "code",
      "metadata": {
        "id": "l1cSO1Tf95rj"
      },
      "source": [
        "import pandas as pd\r\n",
        "import numpy as np\r\n",
        "from google.colab import files\r\n",
        "import io"
      ],
      "execution_count": 1,
      "outputs": []
    },
    {
      "cell_type": "code",
      "metadata": {
        "id": "j6Cs0R0G-XKm"
      },
      "source": [
        "raw_df = pd.read_csv('/content/otodom_complete.csv')"
      ],
      "execution_count": 2,
      "outputs": []
    },
    {
      "cell_type": "code",
      "metadata": {
        "colab": {
          "base_uri": "https://localhost:8080/"
        },
        "id": "hHeria1igXLx",
        "outputId": "ac81498d-2103-4af9-8b19-0d8e6c5ea207"
      },
      "source": [
        "raw_df.shape"
      ],
      "execution_count": null,
      "outputs": [
        {
          "output_type": "execute_result",
          "data": {
            "text/plain": [
              "(3482, 30)"
            ]
          },
          "metadata": {
            "tags": []
          },
          "execution_count": 4
        }
      ]
    },
    {
      "cell_type": "code",
      "metadata": {
        "colab": {
          "base_uri": "https://localhost:8080/"
        },
        "id": "jCqpuvd8hwTV",
        "outputId": "4871e7fe-1fb0-4b8c-c99c-15d4796749fc"
      },
      "source": [
        "raw_df.columns"
      ],
      "execution_count": 3,
      "outputs": [
        {
          "output_type": "execute_result",
          "data": {
            "text/plain": [
              "Index(['web-scraper-order', 'web-scraper-start-url', 'offer_url',\n",
              "       'offer_url-href', 'location', 'net_price', 'deposit', 'area',\n",
              "       'room_num', 'build_type', 'floor', 'total_floor', 'build_mat',\n",
              "       'windows', 'heating', 'year_built', 'status', 'agd', 'security',\n",
              "       'add_info', 'rest_info', 'offer_ID', 'next_pagination',\n",
              "       'next_pagination-href', 'add_cost', 'offer_last_update', 'second_page',\n",
              "       'second_page-href', 'third_page', 'third_page-href'],\n",
              "      dtype='object')"
            ]
          },
          "metadata": {
            "tags": []
          },
          "execution_count": 3
        }
      ]
    },
    {
      "cell_type": "code",
      "metadata": {
        "id": "pp65WbC9_tEA"
      },
      "source": [
        "#dropping useless columns\r\n",
        "raw_df = raw_df[['location', 'net_price',  'area',\r\n",
        "       'room_num', 'build_type', 'build_mat','floor', 'total_floor', \r\n",
        "       'windows', 'heating', 'year_built', 'status', 'agd', 'security',\r\n",
        "       'add_info', 'rest_info', 'offer_ID','add_cost','deposit',]] "
      ],
      "execution_count": 4,
      "outputs": []
    },
    {
      "cell_type": "code",
      "metadata": {
        "colab": {
          "base_uri": "https://localhost:8080/",
          "height": 233
        },
        "id": "Og4hh1JlASw-",
        "outputId": "ee7adbef-f797-4c93-f6db-d29541444684"
      },
      "source": [
        "raw_df.reset_index(inplace=True,drop=True)\r\n",
        "raw_df.head(2)"
      ],
      "execution_count": 6,
      "outputs": [
        {
          "output_type": "execute_result",
          "data": {
            "text/html": [
              "<div>\n",
              "<style scoped>\n",
              "    .dataframe tbody tr th:only-of-type {\n",
              "        vertical-align: middle;\n",
              "    }\n",
              "\n",
              "    .dataframe tbody tr th {\n",
              "        vertical-align: top;\n",
              "    }\n",
              "\n",
              "    .dataframe thead th {\n",
              "        text-align: right;\n",
              "    }\n",
              "</style>\n",
              "<table border=\"1\" class=\"dataframe\">\n",
              "  <thead>\n",
              "    <tr style=\"text-align: right;\">\n",
              "      <th></th>\n",
              "      <th>location</th>\n",
              "      <th>net_price</th>\n",
              "      <th>area</th>\n",
              "      <th>room_num</th>\n",
              "      <th>build_type</th>\n",
              "      <th>build_mat</th>\n",
              "      <th>floor</th>\n",
              "      <th>total_floor</th>\n",
              "      <th>windows</th>\n",
              "      <th>heating</th>\n",
              "      <th>year_built</th>\n",
              "      <th>status</th>\n",
              "      <th>agd</th>\n",
              "      <th>security</th>\n",
              "      <th>add_info</th>\n",
              "      <th>rest_info</th>\n",
              "      <th>offer_ID</th>\n",
              "      <th>add_cost</th>\n",
              "      <th>deposit</th>\n",
              "    </tr>\n",
              "  </thead>\n",
              "  <tbody>\n",
              "    <tr>\n",
              "      <th>0</th>\n",
              "      <td>Warszawa, Włochy, ul. 1 Sierpnia</td>\n",
              "      <td>2 100 zł</td>\n",
              "      <td>Powierzchnia:37 m²</td>\n",
              "      <td>Liczba pokoi:2</td>\n",
              "      <td>NaN</td>\n",
              "      <td>NaN</td>\n",
              "      <td>Piętro:parter</td>\n",
              "      <td>Liczba pięter:4</td>\n",
              "      <td>Okna:plastikowe</td>\n",
              "      <td>NaN</td>\n",
              "      <td>NaN</td>\n",
              "      <td>Stan wykończenia:do zamieszkania</td>\n",
              "      <td>zmywarkalodówkameblepiekarnikkuchenkatelewizor...</td>\n",
              "      <td>domofon / wideofon</td>\n",
              "      <td>internet</td>\n",
              "      <td>klimatyzacja</td>\n",
              "      <td>Nr oferty w Otodom: 61451923</td>\n",
              "      <td>NaN</td>\n",
              "      <td>Kaucja:2 100 zł</td>\n",
              "    </tr>\n",
              "    <tr>\n",
              "      <th>1</th>\n",
              "      <td>Warszawa, Mokotów, ul. Suwak 11</td>\n",
              "      <td>1 825 zł</td>\n",
              "      <td>Powierzchnia:38 m²</td>\n",
              "      <td>Liczba pokoi:2</td>\n",
              "      <td>Rodzaj zabudowy:blok</td>\n",
              "      <td>Materiał budynku:pustak</td>\n",
              "      <td>Piętro:parter</td>\n",
              "      <td>NaN</td>\n",
              "      <td>Okna:plastikowe</td>\n",
              "      <td>Ogrzewanie:miejskie</td>\n",
              "      <td>Rok budowy:2020</td>\n",
              "      <td>Stan wykończenia:do zamieszkania</td>\n",
              "      <td>zmywarkalodówkameblepiekarnikkuchenkapralka</td>\n",
              "      <td>domofon / wideofonmonitoring / ochrona</td>\n",
              "      <td>telewizja kablowainternet</td>\n",
              "      <td>garaż/miejsce parkingowewindapom. użytkowe</td>\n",
              "      <td>Nr oferty w Otodom: 61405987</td>\n",
              "      <td>Czynsz - dodatkowo:350 zł</td>\n",
              "      <td>Kaucja:3 400 zł</td>\n",
              "    </tr>\n",
              "  </tbody>\n",
              "</table>\n",
              "</div>"
            ],
            "text/plain": [
              "                           location  ...          deposit\n",
              "0  Warszawa, Włochy, ul. 1 Sierpnia  ...  Kaucja:2 100 zł\n",
              "1   Warszawa, Mokotów, ul. Suwak 11  ...  Kaucja:3 400 zł\n",
              "\n",
              "[2 rows x 19 columns]"
            ]
          },
          "metadata": {
            "tags": []
          },
          "execution_count": 6
        }
      ]
    },
    {
      "cell_type": "markdown",
      "metadata": {
        "id": "5YpkR_j6AoI6"
      },
      "source": [
        "# Cleaning/Wrangling"
      ]
    },
    {
      "cell_type": "markdown",
      "metadata": {
        "id": "g1Kj9O-ksPP8"
      },
      "source": [
        "## offer_ID"
      ]
    },
    {
      "cell_type": "code",
      "metadata": {
        "colab": {
          "base_uri": "https://localhost:8080/"
        },
        "id": "hsNXy8gxsODB",
        "outputId": "30775f02-655c-4382-9c32-5e3409e471eb"
      },
      "source": [
        "raw_df.offer_ID.isna().sum()"
      ],
      "execution_count": 7,
      "outputs": [
        {
          "output_type": "execute_result",
          "data": {
            "text/plain": [
              "1"
            ]
          },
          "metadata": {
            "tags": []
          },
          "execution_count": 7
        }
      ]
    },
    {
      "cell_type": "code",
      "metadata": {
        "colab": {
          "base_uri": "https://localhost:8080/",
          "height": 0
        },
        "id": "r8goLWwhsbTz",
        "outputId": "9daf5c53-ceaf-4016-dae1-f294f6331db2"
      },
      "source": [
        "raw_df.loc[~raw_df.offer_ID.isna()]"
      ],
      "execution_count": 8,
      "outputs": [
        {
          "output_type": "execute_result",
          "data": {
            "text/html": [
              "<div>\n",
              "<style scoped>\n",
              "    .dataframe tbody tr th:only-of-type {\n",
              "        vertical-align: middle;\n",
              "    }\n",
              "\n",
              "    .dataframe tbody tr th {\n",
              "        vertical-align: top;\n",
              "    }\n",
              "\n",
              "    .dataframe thead th {\n",
              "        text-align: right;\n",
              "    }\n",
              "</style>\n",
              "<table border=\"1\" class=\"dataframe\">\n",
              "  <thead>\n",
              "    <tr style=\"text-align: right;\">\n",
              "      <th></th>\n",
              "      <th>location</th>\n",
              "      <th>net_price</th>\n",
              "      <th>area</th>\n",
              "      <th>room_num</th>\n",
              "      <th>build_type</th>\n",
              "      <th>build_mat</th>\n",
              "      <th>floor</th>\n",
              "      <th>total_floor</th>\n",
              "      <th>windows</th>\n",
              "      <th>heating</th>\n",
              "      <th>year_built</th>\n",
              "      <th>status</th>\n",
              "      <th>agd</th>\n",
              "      <th>security</th>\n",
              "      <th>add_info</th>\n",
              "      <th>rest_info</th>\n",
              "      <th>offer_ID</th>\n",
              "      <th>add_cost</th>\n",
              "      <th>deposit</th>\n",
              "    </tr>\n",
              "  </thead>\n",
              "  <tbody>\n",
              "    <tr>\n",
              "      <th>0</th>\n",
              "      <td>Warszawa, Włochy, ul. 1 Sierpnia</td>\n",
              "      <td>2 100 zł</td>\n",
              "      <td>Powierzchnia:37 m²</td>\n",
              "      <td>Liczba pokoi:2</td>\n",
              "      <td>NaN</td>\n",
              "      <td>NaN</td>\n",
              "      <td>Piętro:parter</td>\n",
              "      <td>Liczba pięter:4</td>\n",
              "      <td>Okna:plastikowe</td>\n",
              "      <td>NaN</td>\n",
              "      <td>NaN</td>\n",
              "      <td>Stan wykończenia:do zamieszkania</td>\n",
              "      <td>zmywarkalodówkameblepiekarnikkuchenkatelewizor...</td>\n",
              "      <td>domofon / wideofon</td>\n",
              "      <td>internet</td>\n",
              "      <td>klimatyzacja</td>\n",
              "      <td>Nr oferty w Otodom: 61451923</td>\n",
              "      <td>NaN</td>\n",
              "      <td>Kaucja:2 100 zł</td>\n",
              "    </tr>\n",
              "    <tr>\n",
              "      <th>1</th>\n",
              "      <td>Warszawa, Mokotów, ul. Suwak 11</td>\n",
              "      <td>1 825 zł</td>\n",
              "      <td>Powierzchnia:38 m²</td>\n",
              "      <td>Liczba pokoi:2</td>\n",
              "      <td>Rodzaj zabudowy:blok</td>\n",
              "      <td>Materiał budynku:pustak</td>\n",
              "      <td>Piętro:parter</td>\n",
              "      <td>NaN</td>\n",
              "      <td>Okna:plastikowe</td>\n",
              "      <td>Ogrzewanie:miejskie</td>\n",
              "      <td>Rok budowy:2020</td>\n",
              "      <td>Stan wykończenia:do zamieszkania</td>\n",
              "      <td>zmywarkalodówkameblepiekarnikkuchenkapralka</td>\n",
              "      <td>domofon / wideofonmonitoring / ochrona</td>\n",
              "      <td>telewizja kablowainternet</td>\n",
              "      <td>garaż/miejsce parkingowewindapom. użytkowe</td>\n",
              "      <td>Nr oferty w Otodom: 61405987</td>\n",
              "      <td>Czynsz - dodatkowo:350 zł</td>\n",
              "      <td>Kaucja:3 400 zł</td>\n",
              "    </tr>\n",
              "    <tr>\n",
              "      <th>2</th>\n",
              "      <td>Warszawa, Bielany, ul. Kwitnąca</td>\n",
              "      <td>3 300 zł</td>\n",
              "      <td>Powierzchnia:57 m²</td>\n",
              "      <td>Liczba pokoi:3</td>\n",
              "      <td>Rodzaj zabudowy:blok</td>\n",
              "      <td>Materiał budynku:wielka płyta</td>\n",
              "      <td>Piętro:parter</td>\n",
              "      <td>Liczba pięter:15</td>\n",
              "      <td>Okna:drewniane</td>\n",
              "      <td>Ogrzewanie:miejskie</td>\n",
              "      <td>Rok budowy:1984</td>\n",
              "      <td>Stan wykończenia:do zamieszkania</td>\n",
              "      <td>zmywarkalodówkameblepiekarnikkuchenkatelewizor...</td>\n",
              "      <td>drzwi / okna antywłamaniowedomofon / wideofonm...</td>\n",
              "      <td>telewizja kablowainternet</td>\n",
              "      <td>balkontylko dla niepalącychoddzielna kuchnia</td>\n",
              "      <td>Nr oferty w Otodom: 61375474</td>\n",
              "      <td>Czynsz - dodatkowo:1 zł</td>\n",
              "      <td>Kaucja:3 300 zł</td>\n",
              "    </tr>\n",
              "    <tr>\n",
              "      <th>3</th>\n",
              "      <td>Warszawa, Targówek, ul. św. Wincentego</td>\n",
              "      <td>2 200 zł</td>\n",
              "      <td>Powierzchnia:63 m²</td>\n",
              "      <td>Liczba pokoi:2</td>\n",
              "      <td>Rodzaj zabudowy:blok</td>\n",
              "      <td>Materiał budynku:cegła</td>\n",
              "      <td>Piętro:4</td>\n",
              "      <td>Liczba pięter:5</td>\n",
              "      <td>Okna:drewniane</td>\n",
              "      <td>Ogrzewanie:miejskie</td>\n",
              "      <td>Rok budowy:2005</td>\n",
              "      <td>Stan wykończenia:do zamieszkania</td>\n",
              "      <td>zmywarkalodówkameblepiekarnikkuchenkatelewizor...</td>\n",
              "      <td>teren zamkniętydomofon / wideofonmonitoring / ...</td>\n",
              "      <td>balkon</td>\n",
              "      <td>NaN</td>\n",
              "      <td>Nr oferty w Otodom: 61439492</td>\n",
              "      <td>NaN</td>\n",
              "      <td>NaN</td>\n",
              "    </tr>\n",
              "    <tr>\n",
              "      <th>4</th>\n",
              "      <td>Warszawa, Ochota, Stara Ochota, ul. Juliana Ur...</td>\n",
              "      <td>3 000 zł</td>\n",
              "      <td>Powierzchnia:65 m²</td>\n",
              "      <td>Liczba pokoi:3</td>\n",
              "      <td>Rodzaj zabudowy:kamienica</td>\n",
              "      <td>Materiał budynku:cegła</td>\n",
              "      <td>Piętro:3</td>\n",
              "      <td>Liczba pięter:4</td>\n",
              "      <td>Okna:plastikowe</td>\n",
              "      <td>Ogrzewanie:miejskie</td>\n",
              "      <td>Rok budowy:1938</td>\n",
              "      <td>Stan wykończenia:do zamieszkania</td>\n",
              "      <td>zmywarkalodówkameblepiekarnikkuchenkapralka</td>\n",
              "      <td>drzwi / okna antywłamanioweteren zamkniętydomo...</td>\n",
              "      <td>piwnicawindatylko dla niepalącychoddzielna kuc...</td>\n",
              "      <td>NaN</td>\n",
              "      <td>Nr oferty w Otodom: 61455072</td>\n",
              "      <td>NaN</td>\n",
              "      <td>Kaucja:3 000 zł</td>\n",
              "    </tr>\n",
              "    <tr>\n",
              "      <th>...</th>\n",
              "      <td>...</td>\n",
              "      <td>...</td>\n",
              "      <td>...</td>\n",
              "      <td>...</td>\n",
              "      <td>...</td>\n",
              "      <td>...</td>\n",
              "      <td>...</td>\n",
              "      <td>...</td>\n",
              "      <td>...</td>\n",
              "      <td>...</td>\n",
              "      <td>...</td>\n",
              "      <td>...</td>\n",
              "      <td>...</td>\n",
              "      <td>...</td>\n",
              "      <td>...</td>\n",
              "      <td>...</td>\n",
              "      <td>...</td>\n",
              "      <td>...</td>\n",
              "      <td>...</td>\n",
              "    </tr>\n",
              "    <tr>\n",
              "      <th>3477</th>\n",
              "      <td>Warszawa, Praga-Południe, Saska Kępa, pl. Plac...</td>\n",
              "      <td>2 000 zł</td>\n",
              "      <td>Powierzchnia:45 m²</td>\n",
              "      <td>Liczba pokoi:1</td>\n",
              "      <td>Rodzaj zabudowy:apartamentowiec</td>\n",
              "      <td>NaN</td>\n",
              "      <td>Piętro:3</td>\n",
              "      <td>Liczba pięter:7</td>\n",
              "      <td>NaN</td>\n",
              "      <td>NaN</td>\n",
              "      <td>NaN</td>\n",
              "      <td>Stan wykończenia:do zamieszkania</td>\n",
              "      <td>zmywarkalodówkameblepiekarnikkuchenkatelewizor...</td>\n",
              "      <td>monitoring / ochrona</td>\n",
              "      <td>telewizja kablowainternettelefon</td>\n",
              "      <td>winda</td>\n",
              "      <td>Nr oferty w Otodom: 61536131</td>\n",
              "      <td>Czynsz - dodatkowo:350 zł</td>\n",
              "      <td>Kaucja:2 500 zł</td>\n",
              "    </tr>\n",
              "    <tr>\n",
              "      <th>3478</th>\n",
              "      <td>Warszawa, Wilanów</td>\n",
              "      <td>3 300 zł</td>\n",
              "      <td>Powierzchnia:50 m²</td>\n",
              "      <td>Liczba pokoi:2</td>\n",
              "      <td>Rodzaj zabudowy:blok</td>\n",
              "      <td>Materiał budynku:cegła</td>\n",
              "      <td>Piętro:1</td>\n",
              "      <td>Liczba pięter:2</td>\n",
              "      <td>Okna:plastikowe</td>\n",
              "      <td>Ogrzewanie:miejskie</td>\n",
              "      <td>Rok budowy:2006</td>\n",
              "      <td>Stan wykończenia:do zamieszkania</td>\n",
              "      <td>zmywarkalodówkameblepiekarnikkuchenkatelewizor...</td>\n",
              "      <td>drzwi / okna antywłamanioweteren zamkniętydomo...</td>\n",
              "      <td>telewizja kablowainternet</td>\n",
              "      <td>balkonpiwnicagaraż/miejsce parkingowepom. użyt...</td>\n",
              "      <td>Nr oferty w Otodom: 61535357</td>\n",
              "      <td>NaN</td>\n",
              "      <td>Kaucja:3 000 zł</td>\n",
              "    </tr>\n",
              "    <tr>\n",
              "      <th>3479</th>\n",
              "      <td>Warszawa, Praga-Południe, Gocław, ul. Jana Now...</td>\n",
              "      <td>2 500 zł</td>\n",
              "      <td>Powierzchnia:46,66 m²</td>\n",
              "      <td>Liczba pokoi:2</td>\n",
              "      <td>Rodzaj zabudowy:apartamentowiec</td>\n",
              "      <td>Materiał budynku:cegła</td>\n",
              "      <td>Piętro:5</td>\n",
              "      <td>Liczba pięter:5</td>\n",
              "      <td>Okna:plastikowe</td>\n",
              "      <td>Ogrzewanie:miejskie</td>\n",
              "      <td>Rok budowy:2015</td>\n",
              "      <td>Stan wykończenia:do zamieszkania</td>\n",
              "      <td>zmywarkalodówkameblepiekarnikkuchenkatelewizor...</td>\n",
              "      <td>teren zamkniętydomofon / wideofonmonitoring / ...</td>\n",
              "      <td>telewizja kablowainternettelefon</td>\n",
              "      <td>balkongaraż/miejsce parkingowewindatylko dla n...</td>\n",
              "      <td>Nr oferty w Otodom: 61535028</td>\n",
              "      <td>NaN</td>\n",
              "      <td>Kaucja:2 500 zł</td>\n",
              "    </tr>\n",
              "    <tr>\n",
              "      <th>3480</th>\n",
              "      <td>Warszawa, Praga-Północ, ul. Łochowska</td>\n",
              "      <td>1 300 zł</td>\n",
              "      <td>Powierzchnia:23 m²</td>\n",
              "      <td>Liczba pokoi:1</td>\n",
              "      <td>Rodzaj zabudowy:kamienica</td>\n",
              "      <td>Materiał budynku:cegła</td>\n",
              "      <td>Piętro:parter</td>\n",
              "      <td>Liczba pięter:4</td>\n",
              "      <td>Okna:drewniane</td>\n",
              "      <td>Ogrzewanie:kotłownia</td>\n",
              "      <td>Rok budowy:1938</td>\n",
              "      <td>Stan wykończenia:do zamieszkania</td>\n",
              "      <td>lodówkameblepralka</td>\n",
              "      <td>drzwi / okna antywłamaniowe</td>\n",
              "      <td>internet</td>\n",
              "      <td>tylko dla niepalących</td>\n",
              "      <td>Nr oferty w Otodom: 61535800</td>\n",
              "      <td>Czynsz - dodatkowo:270 zł</td>\n",
              "      <td>Kaucja:1 700 zł</td>\n",
              "    </tr>\n",
              "    <tr>\n",
              "      <th>3481</th>\n",
              "      <td>Warszawa, Śródmieście, ul. Smolna</td>\n",
              "      <td>2 499 zł</td>\n",
              "      <td>Powierzchnia:41 m²</td>\n",
              "      <td>Liczba pokoi:2</td>\n",
              "      <td>Rodzaj zabudowy:blok</td>\n",
              "      <td>NaN</td>\n",
              "      <td>Piętro:1</td>\n",
              "      <td>Liczba pięter:6</td>\n",
              "      <td>Okna:plastikowe</td>\n",
              "      <td>Ogrzewanie:miejskie</td>\n",
              "      <td>Rok budowy:1990</td>\n",
              "      <td>Stan wykończenia:do zamieszkania</td>\n",
              "      <td>lodówkameblepiekarnikkuchenkatelewizorpralka</td>\n",
              "      <td>drzwi / okna antywłamaniowedomofon / wideofonm...</td>\n",
              "      <td>windaoddzielna kuchnia</td>\n",
              "      <td>NaN</td>\n",
              "      <td>Nr oferty w Otodom: 61535584</td>\n",
              "      <td>Czynsz - dodatkowo:1 zł</td>\n",
              "      <td>Kaucja:2 500 zł</td>\n",
              "    </tr>\n",
              "  </tbody>\n",
              "</table>\n",
              "<p>3481 rows × 19 columns</p>\n",
              "</div>"
            ],
            "text/plain": [
              "                                               location  ...          deposit\n",
              "0                      Warszawa, Włochy, ul. 1 Sierpnia  ...  Kaucja:2 100 zł\n",
              "1                       Warszawa, Mokotów, ul. Suwak 11  ...  Kaucja:3 400 zł\n",
              "2                       Warszawa, Bielany, ul. Kwitnąca  ...  Kaucja:3 300 zł\n",
              "3                Warszawa, Targówek, ul. św. Wincentego  ...              NaN\n",
              "4     Warszawa, Ochota, Stara Ochota, ul. Juliana Ur...  ...  Kaucja:3 000 zł\n",
              "...                                                 ...  ...              ...\n",
              "3477  Warszawa, Praga-Południe, Saska Kępa, pl. Plac...  ...  Kaucja:2 500 zł\n",
              "3478                                  Warszawa, Wilanów  ...  Kaucja:3 000 zł\n",
              "3479  Warszawa, Praga-Południe, Gocław, ul. Jana Now...  ...  Kaucja:2 500 zł\n",
              "3480              Warszawa, Praga-Północ, ul. Łochowska  ...  Kaucja:1 700 zł\n",
              "3481                  Warszawa, Śródmieście, ul. Smolna  ...  Kaucja:2 500 zł\n",
              "\n",
              "[3481 rows x 19 columns]"
            ]
          },
          "metadata": {
            "tags": []
          },
          "execution_count": 8
        }
      ]
    },
    {
      "cell_type": "markdown",
      "metadata": {
        "id": "wklde0T9A9im"
      },
      "source": [
        "## location"
      ]
    },
    {
      "cell_type": "markdown",
      "metadata": {
        "id": "cMkzbMRSRwDN"
      },
      "source": [
        "### Missing Values"
      ]
    },
    {
      "cell_type": "code",
      "metadata": {
        "colab": {
          "base_uri": "https://localhost:8080/"
        },
        "id": "elCWht7LalQj",
        "outputId": "db159f77-9d22-4824-dfcf-76a4f5a4c0fd"
      },
      "source": [
        "raw_df.isna().sum()"
      ],
      "execution_count": 9,
      "outputs": [
        {
          "output_type": "execute_result",
          "data": {
            "text/plain": [
              "location          1\n",
              "net_price         1\n",
              "area              1\n",
              "room_num          1\n",
              "build_type      143\n",
              "build_mat      1243\n",
              "floor            81\n",
              "total_floor     437\n",
              "windows         583\n",
              "heating         484\n",
              "year_built     1014\n",
              "status          291\n",
              "agd              47\n",
              "security         90\n",
              "add_info        292\n",
              "rest_info      1470\n",
              "offer_ID          1\n",
              "add_cost       1567\n",
              "deposit         336\n",
              "dtype: int64"
            ]
          },
          "metadata": {
            "tags": []
          },
          "execution_count": 9
        }
      ]
    },
    {
      "cell_type": "code",
      "metadata": {
        "colab": {
          "base_uri": "https://localhost:8080/",
          "height": 0
        },
        "id": "PE5Pc88WBA0h",
        "outputId": "e7ec7f17-0123-4ca3-8957-d66c2b534737"
      },
      "source": [
        "raw_df.loc[raw_df.location.isna()].head()"
      ],
      "execution_count": 10,
      "outputs": [
        {
          "output_type": "execute_result",
          "data": {
            "text/html": [
              "<div>\n",
              "<style scoped>\n",
              "    .dataframe tbody tr th:only-of-type {\n",
              "        vertical-align: middle;\n",
              "    }\n",
              "\n",
              "    .dataframe tbody tr th {\n",
              "        vertical-align: top;\n",
              "    }\n",
              "\n",
              "    .dataframe thead th {\n",
              "        text-align: right;\n",
              "    }\n",
              "</style>\n",
              "<table border=\"1\" class=\"dataframe\">\n",
              "  <thead>\n",
              "    <tr style=\"text-align: right;\">\n",
              "      <th></th>\n",
              "      <th>location</th>\n",
              "      <th>net_price</th>\n",
              "      <th>area</th>\n",
              "      <th>room_num</th>\n",
              "      <th>build_type</th>\n",
              "      <th>build_mat</th>\n",
              "      <th>floor</th>\n",
              "      <th>total_floor</th>\n",
              "      <th>windows</th>\n",
              "      <th>heating</th>\n",
              "      <th>year_built</th>\n",
              "      <th>status</th>\n",
              "      <th>agd</th>\n",
              "      <th>security</th>\n",
              "      <th>add_info</th>\n",
              "      <th>rest_info</th>\n",
              "      <th>offer_ID</th>\n",
              "      <th>add_cost</th>\n",
              "      <th>deposit</th>\n",
              "    </tr>\n",
              "  </thead>\n",
              "  <tbody>\n",
              "    <tr>\n",
              "      <th>131</th>\n",
              "      <td>NaN</td>\n",
              "      <td>NaN</td>\n",
              "      <td>NaN</td>\n",
              "      <td>NaN</td>\n",
              "      <td>NaN</td>\n",
              "      <td>NaN</td>\n",
              "      <td>NaN</td>\n",
              "      <td>NaN</td>\n",
              "      <td>NaN</td>\n",
              "      <td>NaN</td>\n",
              "      <td>NaN</td>\n",
              "      <td>NaN</td>\n",
              "      <td>NaN</td>\n",
              "      <td>NaN</td>\n",
              "      <td>NaN</td>\n",
              "      <td>NaN</td>\n",
              "      <td>NaN</td>\n",
              "      <td>NaN</td>\n",
              "      <td>NaN</td>\n",
              "    </tr>\n",
              "  </tbody>\n",
              "</table>\n",
              "</div>"
            ],
            "text/plain": [
              "    location net_price area room_num  ... rest_info offer_ID add_cost deposit\n",
              "131      NaN       NaN  NaN      NaN  ...       NaN      NaN      NaN     NaN\n",
              "\n",
              "[1 rows x 19 columns]"
            ]
          },
          "metadata": {
            "tags": []
          },
          "execution_count": 10
        }
      ]
    },
    {
      "cell_type": "code",
      "metadata": {
        "id": "93osUFiuBRaL"
      },
      "source": [
        "#seems like these pages won't be usefull at all s o we drop them\r\n",
        "raw_df = raw_df.loc[~raw_df.location.isna()]"
      ],
      "execution_count": 11,
      "outputs": []
    },
    {
      "cell_type": "markdown",
      "metadata": {
        "id": "nBRCdaqHDgU-"
      },
      "source": [
        "### Feature engeneering"
      ]
    },
    {
      "cell_type": "code",
      "metadata": {
        "colab": {
          "base_uri": "https://localhost:8080/",
          "height": 0
        },
        "id": "j0734vXQDi_B",
        "outputId": "cf64e162-93b5-4f25-cd62-49b93fe73738"
      },
      "source": [
        "raw_df.location[0]"
      ],
      "execution_count": 12,
      "outputs": [
        {
          "output_type": "execute_result",
          "data": {
            "application/vnd.google.colaboratory.intrinsic+json": {
              "type": "string"
            },
            "text/plain": [
              "'Warszawa, Włochy, ul. 1 Sierpnia'"
            ]
          },
          "metadata": {
            "tags": []
          },
          "execution_count": 12
        }
      ]
    },
    {
      "cell_type": "code",
      "metadata": {
        "id": "EIwu58gFED_x"
      },
      "source": [
        "#create a feature with separeted location(by comma)\r\n",
        "raw_df['location_chunks'] = raw_df.location.str.split(',')\r\n",
        "\r\n",
        "#create new features(district, street)\r\n",
        "raw_df['district'] = raw_df.location_chunks.str[1]\r\n",
        "raw_df.drop('location_chunks', axis=1, inplace=True)"
      ],
      "execution_count": 13,
      "outputs": []
    },
    {
      "cell_type": "code",
      "metadata": {
        "colab": {
          "base_uri": "https://localhost:8080/"
        },
        "id": "MurkVM8diXII",
        "outputId": "a244563b-e213-4330-a8af-f64cb66fca32"
      },
      "source": [
        "raw_df.district.value_counts()"
      ],
      "execution_count": 14,
      "outputs": [
        {
          "output_type": "execute_result",
          "data": {
            "text/plain": [
              " Mokotów             647\n",
              " Wola                512\n",
              " Śródmieście         347\n",
              " Praga-Południe      240\n",
              " Ursynów             205\n",
              " Ochota              201\n",
              " Bielany             166\n",
              " Bemowo              155\n",
              " Białołęka           155\n",
              " Praga-Północ        135\n",
              " Wilanów             125\n",
              " Targówek            116\n",
              " Żoliborz            105\n",
              " Ursus                97\n",
              " Włochy               77\n",
              " Centrum              63\n",
              " mazowieckie          44\n",
              " Wawer                42\n",
              " Warszawa             19\n",
              " Rembertów            14\n",
              " Wesoła               14\n",
              " Metro Wilanowska      2\n",
              "Name: district, dtype: int64"
            ]
          },
          "metadata": {
            "tags": []
          },
          "execution_count": 14
        }
      ]
    },
    {
      "cell_type": "markdown",
      "metadata": {
        "id": "_cubOeqzF5Td"
      },
      "source": [
        "## net_price"
      ]
    },
    {
      "cell_type": "code",
      "metadata": {
        "colab": {
          "base_uri": "https://localhost:8080/"
        },
        "id": "r8NE2e9DWZSr",
        "outputId": "d347e95c-0a6c-4afe-d526-bb1d710fac85"
      },
      "source": [
        "#checking currencies\r\n",
        "currency = []\r\n",
        "for j in raw_df.net_price:\r\n",
        "  currency.append(''.join(x for x in j if x.isalpha()))\r\n",
        "raw_df['currency'] = currency\r\n",
        "raw_df.currency.unique()"
      ],
      "execution_count": 15,
      "outputs": [
        {
          "output_type": "execute_result",
          "data": {
            "text/plain": [
              "array(['zł'], dtype=object)"
            ]
          },
          "metadata": {
            "tags": []
          },
          "execution_count": 15
        }
      ]
    },
    {
      "cell_type": "code",
      "metadata": {
        "id": "9tJxeZjUWeax"
      },
      "source": [
        "# run in case there are other currencies present\r\n",
        "raw_df = raw_df.loc[raw_df.currency == 'zł']\r\n",
        "raw_df.drop('currency', axis=1, inplace=True)"
      ],
      "execution_count": 16,
      "outputs": []
    },
    {
      "cell_type": "code",
      "metadata": {
        "id": "x1UjCd7MWx33"
      },
      "source": [
        "price = []\r\n",
        "for j in raw_df.net_price:\r\n",
        "  j =j.replace(',', '.') #in case there are incorrect float prices with ',' instead of '.'\r\n",
        "  j = int(''.join(i for i in j if i.isdigit()))\r\n",
        "  j=int(j)\r\n",
        "  price.append(j)\r\n",
        "raw_df.net_price = price"
      ],
      "execution_count": 17,
      "outputs": []
    },
    {
      "cell_type": "markdown",
      "metadata": {
        "id": "HZq-UJvj1KsG"
      },
      "source": [
        "### outliers"
      ]
    },
    {
      "cell_type": "code",
      "metadata": {
        "colab": {
          "base_uri": "https://localhost:8080/",
          "height": 0
        },
        "id": "cevxxRZA08NV",
        "outputId": "fb530cfd-487f-4408-e6b8-85deb4142da1"
      },
      "source": [
        "raw_df.boxplot(column=['net_price'])"
      ],
      "execution_count": 18,
      "outputs": [
        {
          "output_type": "execute_result",
          "data": {
            "text/plain": [
              "<matplotlib.axes._subplots.AxesSubplot at 0x7fb24afbf198>"
            ]
          },
          "metadata": {
            "tags": []
          },
          "execution_count": 18
        },
        {
          "output_type": "display_data",
          "data": {
            "image/png": "[encoded data removed]",
            "text/plain": [
              "<Figure size 432x288 with 1 Axes>"
            ]
          },
          "metadata": {
            "tags": [],
            "needs_background": "light"
          }
        }
      ]
    },
    {
      "cell_type": "code",
      "metadata": {
        "id": "BNdoO0o1-wpJ"
      },
      "source": [
        "raw_df = raw_df.loc[raw_df.net_price <= 10000]"
      ],
      "execution_count": 19,
      "outputs": []
    },
    {
      "cell_type": "markdown",
      "metadata": {
        "id": "_h5ou6wWiyez"
      },
      "source": [
        "## deposit\t"
      ]
    },
    {
      "cell_type": "code",
      "metadata": {
        "id": "xheN6Jm3mlNt"
      },
      "source": [
        "raw_df.deposit.fillna('Kaucja:0 zł', inplace=True)"
      ],
      "execution_count": 20,
      "outputs": []
    },
    {
      "cell_type": "code",
      "metadata": {
        "id": "Q6aKZmppkphO",
        "colab": {
          "base_uri": "https://localhost:8080/"
        },
        "outputId": "e4324c66-4267-4837-e01f-8f86d8649f4f"
      },
      "source": [
        "raw_df.deposit"
      ],
      "execution_count": 21,
      "outputs": [
        {
          "output_type": "execute_result",
          "data": {
            "text/plain": [
              "0       Kaucja:2 100 zł\n",
              "1       Kaucja:3 400 zł\n",
              "2       Kaucja:3 300 zł\n",
              "3           Kaucja:0 zł\n",
              "4       Kaucja:3 000 zł\n",
              "             ...       \n",
              "3477    Kaucja:2 500 zł\n",
              "3478    Kaucja:3 000 zł\n",
              "3479    Kaucja:2 500 zł\n",
              "3480    Kaucja:1 700 zł\n",
              "3481    Kaucja:2 500 zł\n",
              "Name: deposit, Length: 3473, dtype: object"
            ]
          },
          "metadata": {
            "tags": []
          },
          "execution_count": 21
        }
      ]
    },
    {
      "cell_type": "code",
      "metadata": {
        "id": "EoZIEtiOi0-z"
      },
      "source": [
        "deposit = []\r\n",
        "for j in raw_df.deposit:\r\n",
        "  j =j.split(\":\",1)[1] \r\n",
        "  j =j.replace(' zł', '')\r\n",
        "  j =j.replace(' ', '')\r\n",
        "  j =j.replace(',', '.')\r\n",
        "  j=float(j)\r\n",
        "  j=int(j)\r\n",
        "  deposit.append(j)\r\n",
        "raw_df.deposit = deposit"
      ],
      "execution_count": 22,
      "outputs": []
    },
    {
      "cell_type": "code",
      "metadata": {
        "id": "qM8bZMGcLecf"
      },
      "source": [
        "raw_df.loc[raw_df.deposit == 0, 'deposit'] = raw_df.net_price"
      ],
      "execution_count": 23,
      "outputs": []
    },
    {
      "cell_type": "markdown",
      "metadata": {
        "id": "99y7-O59k8T1"
      },
      "source": [
        "## add_cost"
      ]
    },
    {
      "cell_type": "code",
      "metadata": {
        "id": "NmsbBmfplVPR"
      },
      "source": [
        "raw_df.add_cost.fillna('Czynsz - dodatkowo:0 zł', inplace=True)"
      ],
      "execution_count": 24,
      "outputs": []
    },
    {
      "cell_type": "code",
      "metadata": {
        "id": "W0zqoYVRl4Ki"
      },
      "source": [
        "add_cost = []\r\n",
        "for j in raw_df.add_cost:\r\n",
        "  j =j.split(\":\",1)[1] \r\n",
        "  j =j.replace(' zł', '')\r\n",
        "  j =j.replace(' ', '')\r\n",
        "  j =j.replace(',', '.')\r\n",
        "  j=float(j)\r\n",
        "  j=int(j)\r\n",
        "  add_cost.append(j)\r\n",
        "raw_df.add_cost = add_cost"
      ],
      "execution_count": 25,
      "outputs": []
    },
    {
      "cell_type": "code",
      "metadata": {
        "id": "_e3FhgTJRvkg"
      },
      "source": [
        "raw_df.loc[raw_df.add_cost == 0, 'add_cost']=np.NaN \r\n",
        "raw_df.loc[raw_df.add_cost == 1, 'add_cost']= 0"
      ],
      "execution_count": 26,
      "outputs": []
    },
    {
      "cell_type": "markdown",
      "metadata": {
        "id": "eMdA6ieVYrov"
      },
      "source": [
        "## area"
      ]
    },
    {
      "cell_type": "code",
      "metadata": {
        "colab": {
          "base_uri": "https://localhost:8080/"
        },
        "id": "HuYeNN3_nNk1",
        "outputId": "be306f63-24c5-40cd-9583-4f6721c91258"
      },
      "source": [
        "raw_df.area"
      ],
      "execution_count": 27,
      "outputs": [
        {
          "output_type": "execute_result",
          "data": {
            "text/plain": [
              "0          Powierzchnia:37 m²\n",
              "1          Powierzchnia:38 m²\n",
              "2          Powierzchnia:57 m²\n",
              "3          Powierzchnia:63 m²\n",
              "4          Powierzchnia:65 m²\n",
              "                ...          \n",
              "3477       Powierzchnia:45 m²\n",
              "3478       Powierzchnia:50 m²\n",
              "3479    Powierzchnia:46,66 m²\n",
              "3480       Powierzchnia:23 m²\n",
              "3481       Powierzchnia:41 m²\n",
              "Name: area, Length: 3473, dtype: object"
            ]
          },
          "metadata": {
            "tags": []
          },
          "execution_count": 27
        }
      ]
    },
    {
      "cell_type": "code",
      "metadata": {
        "id": "gx6SjimhY1Yk"
      },
      "source": [
        "area = []\r\n",
        "for j in raw_df.area:\r\n",
        "  j =j.split(\":\",1)[1] \r\n",
        "  j =j.replace(' m²', '')\r\n",
        "  j =j.replace(' ', '')\r\n",
        "  j =j.replace(',', '.')\r\n",
        "  j=float(j)\r\n",
        "  j=int(j)\r\n",
        "  area.append(j)\r\n",
        "raw_df.area = area"
      ],
      "execution_count": 28,
      "outputs": []
    },
    {
      "cell_type": "code",
      "metadata": {
        "colab": {
          "base_uri": "https://localhost:8080/",
          "height": 0
        },
        "id": "OgBZNwJjBVFQ",
        "outputId": "9119f837-a1c3-4a47-caed-a1e3633c54ad"
      },
      "source": [
        "raw_df.boxplot(column=['area'])"
      ],
      "execution_count": 29,
      "outputs": [
        {
          "output_type": "execute_result",
          "data": {
            "text/plain": [
              "<matplotlib.axes._subplots.AxesSubplot at 0x7fb2497ca080>"
            ]
          },
          "metadata": {
            "tags": []
          },
          "execution_count": 29
        },
        {
          "output_type": "display_data",
          "data": {
            "image/png": "[encoded data removed]",
            "text/plain": [
              "<Figure size 432x288 with 1 Axes>"
            ]
          },
          "metadata": {
            "tags": [],
            "needs_background": "light"
          }
        }
      ]
    },
    {
      "cell_type": "code",
      "metadata": {
        "id": "9d1HqURefZ-A"
      },
      "source": [
        "raw_df = raw_df.loc[raw_df.area <=250]"
      ],
      "execution_count": 30,
      "outputs": []
    },
    {
      "cell_type": "markdown",
      "metadata": {
        "id": "y5J8phK-bWjt"
      },
      "source": [
        "## room_num"
      ]
    },
    {
      "cell_type": "code",
      "metadata": {
        "colab": {
          "base_uri": "https://localhost:8080/"
        },
        "id": "sboa2FtVbYvQ",
        "outputId": "05e2e98b-4e69-4f27-9de1-ecd3fed95f6c"
      },
      "source": [
        "raw_df.room_num"
      ],
      "execution_count": 31,
      "outputs": [
        {
          "output_type": "execute_result",
          "data": {
            "text/plain": [
              "0       Liczba pokoi:2\n",
              "1       Liczba pokoi:2\n",
              "2       Liczba pokoi:3\n",
              "3       Liczba pokoi:2\n",
              "4       Liczba pokoi:3\n",
              "             ...      \n",
              "3477    Liczba pokoi:1\n",
              "3478    Liczba pokoi:2\n",
              "3479    Liczba pokoi:2\n",
              "3480    Liczba pokoi:1\n",
              "3481    Liczba pokoi:2\n",
              "Name: room_num, Length: 3472, dtype: object"
            ]
          },
          "metadata": {
            "tags": []
          },
          "execution_count": 31
        }
      ]
    },
    {
      "cell_type": "code",
      "metadata": {
        "colab": {
          "base_uri": "https://localhost:8080/"
        },
        "id": "hepaTg_veu5c",
        "outputId": "5bd7cb01-89d4-4678-e107-969eb129c9fe"
      },
      "source": [
        "raw_df.room_num.value_counts()"
      ],
      "execution_count": 32,
      "outputs": [
        {
          "output_type": "execute_result",
          "data": {
            "text/plain": [
              "Liczba pokoi:2    1990\n",
              "Liczba pokoi:1     834\n",
              "Liczba pokoi:3     533\n",
              "Liczba pokoi:4      98\n",
              "Liczba pokoi:5      15\n",
              "Liczba pokoi:6       1\n",
              "Liczba pokoi:7       1\n",
              "Name: room_num, dtype: int64"
            ]
          },
          "metadata": {
            "tags": []
          },
          "execution_count": 32
        }
      ]
    },
    {
      "cell_type": "code",
      "metadata": {
        "id": "2ZQ5ew5EbaK0"
      },
      "source": [
        "room_num = []\r\n",
        "for j in raw_df.room_num:\r\n",
        "  j =j.split(\":\",1)[1] \r\n",
        "  j=int(j)\r\n",
        "  room_num.append(j)\r\n",
        "raw_df.room_num = room_num"
      ],
      "execution_count": 33,
      "outputs": []
    },
    {
      "cell_type": "markdown",
      "metadata": {
        "id": "Ibp73-yBXtx9"
      },
      "source": [
        "## build_type\t"
      ]
    },
    {
      "cell_type": "code",
      "metadata": {
        "colab": {
          "base_uri": "https://localhost:8080/"
        },
        "id": "pq-7fybmoyCT",
        "outputId": "105ed3fd-1e74-4629-bf06-1221b33d78eb"
      },
      "source": [
        "raw_df.build_type.isna().sum()"
      ],
      "execution_count": 34,
      "outputs": [
        {
          "output_type": "execute_result",
          "data": {
            "text/plain": [
              "142"
            ]
          },
          "metadata": {
            "tags": []
          },
          "execution_count": 34
        }
      ]
    },
    {
      "cell_type": "code",
      "metadata": {
        "colab": {
          "base_uri": "https://localhost:8080/"
        },
        "id": "rOgAr_uHop4a",
        "outputId": "e652c6ac-10c2-4b3c-a4c5-94197a542ba4"
      },
      "source": [
        "raw_df.build_type\t"
      ],
      "execution_count": 35,
      "outputs": [
        {
          "output_type": "execute_result",
          "data": {
            "text/plain": [
              "0                                   NaN\n",
              "1                  Rodzaj zabudowy:blok\n",
              "2                  Rodzaj zabudowy:blok\n",
              "3                  Rodzaj zabudowy:blok\n",
              "4             Rodzaj zabudowy:kamienica\n",
              "                     ...               \n",
              "3477    Rodzaj zabudowy:apartamentowiec\n",
              "3478               Rodzaj zabudowy:blok\n",
              "3479    Rodzaj zabudowy:apartamentowiec\n",
              "3480          Rodzaj zabudowy:kamienica\n",
              "3481               Rodzaj zabudowy:blok\n",
              "Name: build_type, Length: 3472, dtype: object"
            ]
          },
          "metadata": {
            "tags": []
          },
          "execution_count": 35
        }
      ]
    },
    {
      "cell_type": "code",
      "metadata": {
        "colab": {
          "base_uri": "https://localhost:8080/"
        },
        "id": "-ZT2mSfJpZGX",
        "outputId": "ad89d1a3-65ad-467d-e185-dad921b19752"
      },
      "source": [
        "raw_df.build_type.value_counts()"
      ],
      "execution_count": 36,
      "outputs": [
        {
          "output_type": "execute_result",
          "data": {
            "text/plain": [
              "Rodzaj zabudowy:blok                1837\n",
              "Rodzaj zabudowy:apartamentowiec     1036\n",
              "Rodzaj zabudowy:kamienica            418\n",
              "Rodzaj zabudowy:dom wolnostojący      22\n",
              "Rodzaj zabudowy:szeregowiec           10\n",
              "Rodzaj zabudowy:loft                   4\n",
              "Rodzaj zabudowy:plomba                 3\n",
              "Name: build_type, dtype: int64"
            ]
          },
          "metadata": {
            "tags": []
          },
          "execution_count": 36
        }
      ]
    },
    {
      "cell_type": "code",
      "metadata": {
        "colab": {
          "base_uri": "https://localhost:8080/"
        },
        "id": "lPa5Few7pnGb",
        "outputId": "a42db15a-a057-4308-e2d1-3f52888fbba3"
      },
      "source": [
        "#subset without na\r\n",
        "build_df = raw_df.loc[~raw_df.build_type.isna()]\r\n",
        "\r\n",
        "#getting the useful part of data\r\n",
        "build_type = []\r\n",
        "for j in build_df.build_type:\r\n",
        "  j =j.split(\":\",1)[1] \r\n",
        "  build_type.append(j)\r\n",
        "build_df.build_type = build_type\r\n",
        "\r\n",
        "#dict for mapping\r\n",
        "keys = build_df.offer_ID\r\n",
        "vals = build_df.build_type\r\n",
        "build_zip = dict(zip(keys, vals))\r\n",
        "\r\n",
        "raw_df.build_type = raw_df.offer_ID\r\n",
        "raw_df.build_type = raw_df.build_type.map(build_zip)"
      ],
      "execution_count": 37,
      "outputs": [
        {
          "output_type": "stream",
          "text": [
            "/usr/local/lib/python3.6/dist-packages/pandas/core/generic.py:5170: SettingWithCopyWarning: \n",
            "A value is trying to be set on a copy of a slice from a DataFrame.\n",
            "Try using .loc[row_indexer,col_indexer] = value instead\n",
            "\n",
            "See the caveats in the documentation: https://pandas.pydata.org/pandas-docs/stable/user_guide/indexing.html#returning-a-view-versus-a-copy\n",
            "  self[name] = value\n"
          ],
          "name": "stderr"
        }
      ]
    },
    {
      "cell_type": "code",
      "metadata": {
        "id": "WxYFOT9SqKyc",
        "colab": {
          "base_uri": "https://localhost:8080/"
        },
        "outputId": "44c557f9-25d9-40f7-ba01-191c1980f7a4"
      },
      "source": [
        "raw_df.build_type.value_counts()"
      ],
      "execution_count": 38,
      "outputs": [
        {
          "output_type": "execute_result",
          "data": {
            "text/plain": [
              "blok                1837\n",
              "apartamentowiec     1036\n",
              "kamienica            418\n",
              "dom wolnostojący      22\n",
              "szeregowiec           10\n",
              "loft                   4\n",
              "plomba                 3\n",
              "Name: build_type, dtype: int64"
            ]
          },
          "metadata": {
            "tags": []
          },
          "execution_count": 38
        }
      ]
    },
    {
      "cell_type": "code",
      "metadata": {
        "id": "QeEWrmtNrEo_"
      },
      "source": [
        "#translation\r\n",
        "raw_df.loc[raw_df.build_type == 'blok', 'build_type'] = 'Apartment_medium_q(blok)'\r\n",
        "raw_df.loc[raw_df.build_type == 'apartamentowiec', 'build_type'] = 'Apartment_high_q(apartamentowiec)'\r\n",
        "raw_df.loc[raw_df.build_type == 'kamienica', 'build_type'] = 'Tenement(kamienica)'\r\n",
        "raw_df.loc[raw_df.build_type == 'dom wolnostojący', 'build_type'] = 'Private_house_1_fam(dom wolnostojący)'\r\n",
        "raw_df.loc[raw_df.build_type == 'szeregowiec', 'build_type'] = 'Private_house_1+_fam(szeregowiec)'\r\n",
        "raw_df.loc[raw_df.build_type == 'loft', 'build_type'] = 'Loft/attic(loft)'\r\n",
        "raw_df.loc[raw_df.build_type == 'plomba', 'build_type'] = 'Infill(plomba)'"
      ],
      "execution_count": 39,
      "outputs": []
    },
    {
      "cell_type": "markdown",
      "metadata": {
        "id": "b9fRtZDLuBPm"
      },
      "source": [
        "## build_mat\t"
      ]
    },
    {
      "cell_type": "code",
      "metadata": {
        "colab": {
          "base_uri": "https://localhost:8080/"
        },
        "id": "N2xQkGJ0FWNz",
        "outputId": "6593247f-0d7e-49a0-ba0b-5a51f6147b84"
      },
      "source": [
        "raw_df.build_mat.isna().sum()"
      ],
      "execution_count": 40,
      "outputs": [
        {
          "output_type": "execute_result",
          "data": {
            "text/plain": [
              "1239"
            ]
          },
          "metadata": {
            "tags": []
          },
          "execution_count": 40
        }
      ]
    },
    {
      "cell_type": "code",
      "metadata": {
        "id": "r5RqoB3QFf7C",
        "colab": {
          "base_uri": "https://localhost:8080/"
        },
        "outputId": "f5ed41b6-44ab-4210-c0d0-43fd8d2e2bca"
      },
      "source": [
        "#subset without na\r\n",
        "build_mat_df = raw_df.loc[~raw_df.build_mat.isna()]\r\n",
        "\r\n",
        "#getting the useful part of data\r\n",
        "build_mat = []\r\n",
        "for j in build_mat_df.build_mat:\r\n",
        "  j =j.split(\":\",1)[1] \r\n",
        "  build_mat.append(j)\r\n",
        "\r\n",
        "build_mat_df.build_mat = build_mat\r\n",
        "\r\n",
        "#dict for mapping\r\n",
        "keys1 = build_mat_df.offer_ID\r\n",
        "vals1 = build_mat_df.build_mat\r\n",
        "build_mat_zip = dict(zip(keys1, vals1))\r\n",
        "\r\n",
        "raw_df.build_mat = raw_df.offer_ID\r\n",
        "raw_df.build_mat = raw_df.build_mat.map(build_mat_zip)"
      ],
      "execution_count": 41,
      "outputs": [
        {
          "output_type": "stream",
          "text": [
            "/usr/local/lib/python3.6/dist-packages/pandas/core/generic.py:5170: SettingWithCopyWarning: \n",
            "A value is trying to be set on a copy of a slice from a DataFrame.\n",
            "Try using .loc[row_indexer,col_indexer] = value instead\n",
            "\n",
            "See the caveats in the documentation: https://pandas.pydata.org/pandas-docs/stable/user_guide/indexing.html#returning-a-view-versus-a-copy\n",
            "  self[name] = value\n"
          ],
          "name": "stderr"
        }
      ]
    },
    {
      "cell_type": "code",
      "metadata": {
        "colab": {
          "base_uri": "https://localhost:8080/"
        },
        "id": "rF0LJtHQH1t-",
        "outputId": "29fe11f5-61e9-4b00-a7a0-949eefa151dd"
      },
      "source": [
        "raw_df.build_mat.value_counts()"
      ],
      "execution_count": 42,
      "outputs": [
        {
          "output_type": "execute_result",
          "data": {
            "text/plain": [
              "cegła              1450\n",
              "wielka płyta        241\n",
              "inne                127\n",
              "żelbet              123\n",
              "pustak               99\n",
              "beton                94\n",
              "beton komórkowy      56\n",
              "silikat              39\n",
              "keramzyt              2\n",
              "drewno                2\n",
              "Name: build_mat, dtype: int64"
            ]
          },
          "metadata": {
            "tags": []
          },
          "execution_count": 42
        }
      ]
    },
    {
      "cell_type": "code",
      "metadata": {
        "id": "gcgNmPglWD7i"
      },
      "source": [
        "#translation\r\n",
        "raw_df.loc[raw_df.build_mat == 'cegła', 'build_mat'] = 'Brick(cegła)'\r\n",
        "raw_df.loc[raw_df.build_mat == 'wielka płyta', 'build_mat'] = 'Conreate_slab(wielka_płyta)'\r\n",
        "raw_df.loc[raw_df.build_mat == 'inne', 'build_mat'] = 'Other(inne)'\r\n",
        "raw_df.loc[raw_df.build_mat == 'żelbet', 'build_mat'] = 'Reinforced_concrete(żelbet)'\r\n",
        "raw_df.loc[raw_df.build_mat == 'pustak', 'build_mat'] = 'Concrete_masonry_unit(pustak)'\r\n",
        "raw_df.loc[raw_df.build_mat == 'beton', 'build_mat'] = 'Concreate(beton)'\r\n",
        "raw_df.loc[raw_df.build_mat == 'beton komórkowy', 'build_mat'] = 'Autoclaved_aerated_concrete(beton_komórkowy)'\r\n",
        "raw_df.loc[raw_df.build_mat == 'silikat', 'build_mat'] = 'Silicate brick(silikat)'\r\n",
        "raw_df.loc[raw_df.build_mat == 'drewno', 'build_mat'] = 'Wood(drewno)'\r\n",
        "raw_df.loc[raw_df.build_mat == 'keramzyt', 'build_mat'] = 'Expanded_clay(keramzyt)'"
      ],
      "execution_count": 43,
      "outputs": []
    },
    {
      "cell_type": "markdown",
      "metadata": {
        "id": "zEEe-AfRt_1I"
      },
      "source": [
        "## total_floor"
      ]
    },
    {
      "cell_type": "code",
      "metadata": {
        "colab": {
          "base_uri": "https://localhost:8080/"
        },
        "id": "Iq3KOA0eH9V4",
        "outputId": "0bc1955d-3ddd-4fa9-8abb-039fd0c25c71"
      },
      "source": [
        "raw_df.total_floor.isna().sum()"
      ],
      "execution_count": 44,
      "outputs": [
        {
          "output_type": "execute_result",
          "data": {
            "text/plain": [
              "436"
            ]
          },
          "metadata": {
            "tags": []
          },
          "execution_count": 44
        }
      ]
    },
    {
      "cell_type": "code",
      "metadata": {
        "colab": {
          "base_uri": "https://localhost:8080/"
        },
        "id": "9JrEwjRKIBxG",
        "outputId": "0c84396e-269c-4e74-f600-af95cb4fc704"
      },
      "source": [
        "raw_df.total_floor"
      ],
      "execution_count": 45,
      "outputs": [
        {
          "output_type": "execute_result",
          "data": {
            "text/plain": [
              "0        Liczba pięter:4\n",
              "1                    NaN\n",
              "2       Liczba pięter:15\n",
              "3        Liczba pięter:5\n",
              "4        Liczba pięter:4\n",
              "              ...       \n",
              "3477     Liczba pięter:7\n",
              "3478     Liczba pięter:2\n",
              "3479     Liczba pięter:5\n",
              "3480     Liczba pięter:4\n",
              "3481     Liczba pięter:6\n",
              "Name: total_floor, Length: 3472, dtype: object"
            ]
          },
          "metadata": {
            "tags": []
          },
          "execution_count": 45
        }
      ]
    },
    {
      "cell_type": "code",
      "metadata": {
        "colab": {
          "base_uri": "https://localhost:8080/"
        },
        "id": "1H8IyEF8IMj6",
        "outputId": "02b55e34-be37-412a-ad0f-7b0cc56fc5fb"
      },
      "source": [
        "#subset without na\r\n",
        "total_floor_df = raw_df.loc[~raw_df.total_floor.isna()]\r\n",
        "\r\n",
        "#getting the useful part of data\r\n",
        "total_floor = []\r\n",
        "for j in total_floor_df.total_floor:\r\n",
        "  j =j.split(\":\",1)[1] \r\n",
        "  j=int(j)\r\n",
        "  total_floor.append(j)\r\n",
        "\r\n",
        "total_floor_df.total_floor = total_floor\r\n",
        "\r\n",
        "#dict for mapping\r\n",
        "keys2 = total_floor_df.offer_ID\r\n",
        "vals2 = total_floor_df.total_floor\r\n",
        "total_floor_zip = dict(zip(keys2, vals2))\r\n",
        "\r\n",
        "raw_df.total_floor = raw_df.offer_ID\r\n",
        "raw_df.total_floor = raw_df.total_floor.map(total_floor_zip)\r\n",
        "\r\n",
        "raw_df.total_floor.value_counts()"
      ],
      "execution_count": 46,
      "outputs": [
        {
          "output_type": "stream",
          "text": [
            "/usr/local/lib/python3.6/dist-packages/pandas/core/generic.py:5170: SettingWithCopyWarning: \n",
            "A value is trying to be set on a copy of a slice from a DataFrame.\n",
            "Try using .loc[row_indexer,col_indexer] = value instead\n",
            "\n",
            "See the caveats in the documentation: https://pandas.pydata.org/pandas-docs/stable/user_guide/indexing.html#returning-a-view-versus-a-copy\n",
            "  self[name] = value\n"
          ],
          "name": "stderr"
        },
        {
          "output_type": "execute_result",
          "data": {
            "text/plain": [
              "4.0     617\n",
              "6.0     387\n",
              "3.0     343\n",
              "5.0     314\n",
              "10.0    301\n",
              "7.0     261\n",
              "8.0     234\n",
              "2.0     130\n",
              "15.0     86\n",
              "11.0     85\n",
              "9.0      77\n",
              "12.0     74\n",
              "1.0      28\n",
              "14.0     28\n",
              "17.0     19\n",
              "13.0     17\n",
              "16.0     15\n",
              "22.0      6\n",
              "19.0      3\n",
              "30.0      3\n",
              "25.0      2\n",
              "20.0      2\n",
              "21.0      1\n",
              "18.0      1\n",
              "24.0      1\n",
              "23.0      1\n",
              "Name: total_floor, dtype: int64"
            ]
          },
          "metadata": {
            "tags": []
          },
          "execution_count": 46
        }
      ]
    },
    {
      "cell_type": "markdown",
      "metadata": {
        "id": "N0dpdt6kttDR"
      },
      "source": [
        "## floor"
      ]
    },
    {
      "cell_type": "code",
      "metadata": {
        "colab": {
          "base_uri": "https://localhost:8080/"
        },
        "id": "MlvT2tyftvN-",
        "outputId": "12d2efc8-7080-445b-bcbf-1300b56a0eb7"
      },
      "source": [
        "raw_df.floor.isna().sum()"
      ],
      "execution_count": 47,
      "outputs": [
        {
          "output_type": "execute_result",
          "data": {
            "text/plain": [
              "80"
            ]
          },
          "metadata": {
            "tags": []
          },
          "execution_count": 47
        }
      ]
    },
    {
      "cell_type": "code",
      "metadata": {
        "colab": {
          "base_uri": "https://localhost:8080/"
        },
        "id": "Z_OBQOQEszMb",
        "outputId": "12ec7a3e-74db-455e-8cda-1ab5410ef358"
      },
      "source": [
        "#subset without na\r\n",
        "floor_df = raw_df.loc[~raw_df.floor.isna()]\r\n",
        "\r\n",
        "#getting the useful part of data\r\n",
        "floor = []\r\n",
        "for j in floor_df.floor:\r\n",
        "  j =j.split(\":\",1)[1] \r\n",
        "  if j == 'parter':\r\n",
        "    j=1.0\r\n",
        "  if j == '> 10':\r\n",
        "    j=11.0\r\n",
        "  if j == 'suterena':\r\n",
        "    j=0\r\n",
        "  if j == 'poddasze':\r\n",
        "    j=j\r\n",
        "  else:\r\n",
        "    j=float(j)\r\n",
        "  floor.append(j)\r\n",
        "\r\n",
        "floor_df.floor = floor\r\n",
        "\r\n",
        "#dict for mapping\r\n",
        "keys3 = floor_df.offer_ID\r\n",
        "vals3 = floor_df.floor\r\n",
        "floor_zip = dict(zip(keys3, vals3))\r\n",
        "\r\n",
        "raw_df.floor = raw_df.offer_ID\r\n",
        "raw_df.floor = raw_df.floor.map(floor_zip)\r\n",
        "\r\n",
        "raw_df.floor.value_counts()"
      ],
      "execution_count": 48,
      "outputs": [
        {
          "output_type": "stream",
          "text": [
            "/usr/local/lib/python3.6/dist-packages/pandas/core/generic.py:5170: SettingWithCopyWarning: \n",
            "A value is trying to be set on a copy of a slice from a DataFrame.\n",
            "Try using .loc[row_indexer,col_indexer] = value instead\n",
            "\n",
            "See the caveats in the documentation: https://pandas.pydata.org/pandas-docs/stable/user_guide/indexing.html#returning-a-view-versus-a-copy\n",
            "  self[name] = value\n"
          ],
          "name": "stderr"
        },
        {
          "output_type": "execute_result",
          "data": {
            "text/plain": [
              "1.0         945\n",
              "2.0         600\n",
              "3.0         517\n",
              "4.0         368\n",
              "5.0         265\n",
              "6.0         204\n",
              "7.0         134\n",
              "8.0         111\n",
              "11.0         86\n",
              "9.0          80\n",
              "10.0         71\n",
              "poddasze      7\n",
              "0.0           4\n",
              "Name: floor, dtype: int64"
            ]
          },
          "metadata": {
            "tags": []
          },
          "execution_count": 48
        }
      ]
    },
    {
      "cell_type": "code",
      "metadata": {
        "colab": {
          "base_uri": "https://localhost:8080/"
        },
        "id": "J0sdJGnoKiMv",
        "outputId": "2c8441c9-b6e5-4ff3-c762-fa15d7e09b6d"
      },
      "source": [
        "raw_df['poddasze'] = 0\r\n",
        "\r\n",
        "raw_df.loc[raw_df.floor == 'poddasze', 'poddasze'] = 1\r\n",
        "raw_df.loc[raw_df.floor == 'poddasze', 'floor'] = raw_df.total_floor\r\n",
        "\r\n",
        "raw_df.floor.value_counts()"
      ],
      "execution_count": 49,
      "outputs": [
        {
          "output_type": "execute_result",
          "data": {
            "text/plain": [
              "1.0     945\n",
              "2.0     604\n",
              "3.0     517\n",
              "4.0     369\n",
              "5.0     265\n",
              "6.0     205\n",
              "7.0     134\n",
              "8.0     111\n",
              "11.0     86\n",
              "9.0      80\n",
              "10.0     71\n",
              "0.0       4\n",
              "15.0      1\n",
              "Name: floor, dtype: int64"
            ]
          },
          "metadata": {
            "tags": []
          },
          "execution_count": 49
        }
      ]
    },
    {
      "cell_type": "code",
      "metadata": {
        "colab": {
          "base_uri": "https://localhost:8080/"
        },
        "id": "DKrVP7uSq1mb",
        "outputId": "31022e19-9975-4ee5-cffc-31531391e2d0"
      },
      "source": [
        "data_types_dict = {'floor': float} \r\n",
        "raw_df = raw_df.astype(data_types_dict) \r\n",
        "raw_df.floor"
      ],
      "execution_count": 50,
      "outputs": [
        {
          "output_type": "execute_result",
          "data": {
            "text/plain": [
              "0       1.0\n",
              "1       1.0\n",
              "2       1.0\n",
              "3       4.0\n",
              "4       3.0\n",
              "       ... \n",
              "3477    3.0\n",
              "3478    1.0\n",
              "3479    5.0\n",
              "3480    1.0\n",
              "3481    1.0\n",
              "Name: floor, Length: 3472, dtype: float64"
            ]
          },
          "metadata": {
            "tags": []
          },
          "execution_count": 50
        }
      ]
    },
    {
      "cell_type": "markdown",
      "metadata": {
        "id": "1Tk9PYYSLlfW"
      },
      "source": [
        "## windows"
      ]
    },
    {
      "cell_type": "code",
      "metadata": {
        "colab": {
          "base_uri": "https://localhost:8080/"
        },
        "id": "KD3K9k3lLoLU",
        "outputId": "d1c49f24-5428-4844-bf6f-65d721419b30"
      },
      "source": [
        "raw_df.windows.isna().sum()"
      ],
      "execution_count": 51,
      "outputs": [
        {
          "output_type": "execute_result",
          "data": {
            "text/plain": [
              "580"
            ]
          },
          "metadata": {
            "tags": []
          },
          "execution_count": 51
        }
      ]
    },
    {
      "cell_type": "code",
      "metadata": {
        "colab": {
          "base_uri": "https://localhost:8080/"
        },
        "id": "gv3ATgNlLyGw",
        "outputId": "7bbb9008-2b88-4ccf-e60d-cbdd72086e67"
      },
      "source": [
        "#subset without na\r\n",
        "windows_df = raw_df.loc[~raw_df.windows.isna()]\r\n",
        "\r\n",
        "#getting the useful part of data\r\n",
        "windows = []\r\n",
        "for j in windows_df.windows:\r\n",
        "  j =j.split(\":\",1)[1] \r\n",
        "  windows.append(j)\r\n",
        "\r\n",
        "windows_df.windows = windows\r\n",
        "\r\n",
        "#dict for mapping\r\n",
        "keys4 = windows_df.offer_ID\r\n",
        "vals4 = windows_df.windows\r\n",
        "windows_zip = dict(zip(keys4, vals4))\r\n",
        "\r\n",
        "raw_df.windows = raw_df.offer_ID\r\n",
        "raw_df.windows = raw_df.windows.map(windows_zip)\r\n",
        "raw_df.windows.value_counts()"
      ],
      "execution_count": 52,
      "outputs": [
        {
          "output_type": "stream",
          "text": [
            "/usr/local/lib/python3.6/dist-packages/pandas/core/generic.py:5170: SettingWithCopyWarning: \n",
            "A value is trying to be set on a copy of a slice from a DataFrame.\n",
            "Try using .loc[row_indexer,col_indexer] = value instead\n",
            "\n",
            "See the caveats in the documentation: https://pandas.pydata.org/pandas-docs/stable/user_guide/indexing.html#returning-a-view-versus-a-copy\n",
            "  self[name] = value\n"
          ],
          "name": "stderr"
        },
        {
          "output_type": "execute_result",
          "data": {
            "text/plain": [
              "plastikowe    2148\n",
              "drewniane      708\n",
              "aluminiowe      36\n",
              "Name: windows, dtype: int64"
            ]
          },
          "metadata": {
            "tags": []
          },
          "execution_count": 52
        }
      ]
    },
    {
      "cell_type": "code",
      "metadata": {
        "id": "3X4GABDWYSNo"
      },
      "source": [
        "#translation\r\n",
        "raw_df.loc[raw_df.windows == 'plastikowe', 'windows'] = 'Plastic(plastikowe)'\r\n",
        "raw_df.loc[raw_df.windows == 'drewniane', 'windows'] = 'Wooden(drewniane)'\r\n",
        "raw_df.loc[raw_df.windows == 'aluminiowe', 'windows'] = 'Aluminum(aluminiowe)'"
      ],
      "execution_count": 53,
      "outputs": []
    },
    {
      "cell_type": "markdown",
      "metadata": {
        "id": "XJBlUaKNRTom"
      },
      "source": [
        "## heating"
      ]
    },
    {
      "cell_type": "code",
      "metadata": {
        "colab": {
          "base_uri": "https://localhost:8080/"
        },
        "id": "9totc5L8RTUe",
        "outputId": "778e09d5-9b2b-4c21-bae2-17e6f9f45def"
      },
      "source": [
        "raw_df.heating.isna().sum()"
      ],
      "execution_count": 54,
      "outputs": [
        {
          "output_type": "execute_result",
          "data": {
            "text/plain": [
              "482"
            ]
          },
          "metadata": {
            "tags": []
          },
          "execution_count": 54
        }
      ]
    },
    {
      "cell_type": "code",
      "metadata": {
        "colab": {
          "base_uri": "https://localhost:8080/"
        },
        "id": "gOBUE1SNRbAN",
        "outputId": "997d60df-afb8-41db-d1dc-ad5cedab525b"
      },
      "source": [
        "#subset without na\r\n",
        "heating_df = raw_df.loc[~raw_df.heating.isna()]\r\n",
        "\r\n",
        "#getting the useful part of data\r\n",
        "heating = []\r\n",
        "for j in heating_df.heating:\r\n",
        "  j =j.split(\":\",1)[1] \r\n",
        "  heating.append(j)\r\n",
        "\r\n",
        "heating_df.heating = heating\r\n",
        "\r\n",
        "#dict for mapping\r\n",
        "keys4 = heating_df.offer_ID\r\n",
        "vals4 = heating_df.heating\r\n",
        "heating_zip = dict(zip(keys4, vals4))\r\n",
        "\r\n",
        "raw_df.heating = raw_df.offer_ID\r\n",
        "raw_df.heating = raw_df.heating.map(heating_zip)"
      ],
      "execution_count": 55,
      "outputs": [
        {
          "output_type": "stream",
          "text": [
            "/usr/local/lib/python3.6/dist-packages/pandas/core/generic.py:5170: SettingWithCopyWarning: \n",
            "A value is trying to be set on a copy of a slice from a DataFrame.\n",
            "Try using .loc[row_indexer,col_indexer] = value instead\n",
            "\n",
            "See the caveats in the documentation: https://pandas.pydata.org/pandas-docs/stable/user_guide/indexing.html#returning-a-view-versus-a-copy\n",
            "  self[name] = value\n"
          ],
          "name": "stderr"
        }
      ]
    },
    {
      "cell_type": "code",
      "metadata": {
        "colab": {
          "base_uri": "https://localhost:8080/"
        },
        "id": "G3PKHBvMbVFg",
        "outputId": "ad9d8084-2603-4577-c13f-3e27d96a34db"
      },
      "source": [
        "raw_df.heating.value_counts()"
      ],
      "execution_count": 56,
      "outputs": [
        {
          "output_type": "execute_result",
          "data": {
            "text/plain": [
              "miejskie       2775\n",
              "gazowe          109\n",
              "kotłownia        68\n",
              "elektryczne      22\n",
              "inne             16\n",
              "Name: heating, dtype: int64"
            ]
          },
          "metadata": {
            "tags": []
          },
          "execution_count": 56
        }
      ]
    },
    {
      "cell_type": "code",
      "metadata": {
        "id": "B9EzlZJNYkJh"
      },
      "source": [
        "#translation\r\n",
        "raw_df.loc[raw_df.heating == 'miejskie', 'heating'] = 'Central(miejskie)'\r\n",
        "raw_df.loc[raw_df.heating == 'gazowe', 'heating'] = 'Gas(gazowe)'\r\n",
        "raw_df.loc[raw_df.heating == 'elektryczne', 'heating'] = 'Electric(elektryczne)'\r\n",
        "raw_df.loc[raw_df.heating == 'inne', 'heating'] = 'Other(inne)'\r\n",
        "raw_df.loc[raw_df.heating == 'kotłownia', 'heating'] = 'Boiler(kotłownia)'"
      ],
      "execution_count": 57,
      "outputs": []
    },
    {
      "cell_type": "markdown",
      "metadata": {
        "id": "X6F_ueb3RrSy"
      },
      "source": [
        "## year_built"
      ]
    },
    {
      "cell_type": "code",
      "metadata": {
        "colab": {
          "base_uri": "https://localhost:8080/"
        },
        "id": "RorhVl5zRz45",
        "outputId": "36688f1c-0fb3-421e-dc86-88a17d3afcc4"
      },
      "source": [
        "raw_df.year_built.isna().sum()"
      ],
      "execution_count": 58,
      "outputs": [
        {
          "output_type": "execute_result",
          "data": {
            "text/plain": [
              "1010"
            ]
          },
          "metadata": {
            "tags": []
          },
          "execution_count": 58
        }
      ]
    },
    {
      "cell_type": "code",
      "metadata": {
        "colab": {
          "base_uri": "https://localhost:8080/"
        },
        "id": "HcgMog4hR9Ql",
        "outputId": "9d79890e-ab1a-433f-b4b8-ebfb874217e0"
      },
      "source": [
        "raw_df.year_built"
      ],
      "execution_count": 59,
      "outputs": [
        {
          "output_type": "execute_result",
          "data": {
            "text/plain": [
              "0                   NaN\n",
              "1       Rok budowy:2020\n",
              "2       Rok budowy:1984\n",
              "3       Rok budowy:2005\n",
              "4       Rok budowy:1938\n",
              "             ...       \n",
              "3477                NaN\n",
              "3478    Rok budowy:2006\n",
              "3479    Rok budowy:2015\n",
              "3480    Rok budowy:1938\n",
              "3481    Rok budowy:1990\n",
              "Name: year_built, Length: 3472, dtype: object"
            ]
          },
          "metadata": {
            "tags": []
          },
          "execution_count": 59
        }
      ]
    },
    {
      "cell_type": "code",
      "metadata": {
        "colab": {
          "base_uri": "https://localhost:8080/"
        },
        "id": "hvRGeLSkR-tJ",
        "outputId": "e0e3e6ab-72d4-45ff-9449-d9ee8164f48a"
      },
      "source": [
        "#subset without na\r\n",
        "year_built_df = raw_df.loc[~raw_df.year_built.isna()]\r\n",
        "\r\n",
        "#getting the useful part of data\r\n",
        "year_built = []\r\n",
        "for j in year_built_df.year_built:\r\n",
        "  j =j.split(\":\",1)[1] \r\n",
        "  j=int(j)\r\n",
        "  year_built.append(j)\r\n",
        "\r\n",
        "year_built_df.year_built = year_built\r\n",
        "\r\n",
        "#dict for mapping\r\n",
        "keys2 = year_built_df.offer_ID\r\n",
        "vals2 = year_built_df.year_built\r\n",
        "year_built_zip = dict(zip(keys2, vals2))\r\n",
        "\r\n",
        "raw_df.year_built = raw_df.offer_ID\r\n",
        "raw_df.year_built = raw_df.year_built.map(year_built_zip)\r\n",
        "\r\n",
        "raw_df.year_built.value_counts()"
      ],
      "execution_count": 60,
      "outputs": [
        {
          "output_type": "stream",
          "text": [
            "/usr/local/lib/python3.6/dist-packages/pandas/core/generic.py:5170: SettingWithCopyWarning: \n",
            "A value is trying to be set on a copy of a slice from a DataFrame.\n",
            "Try using .loc[row_indexer,col_indexer] = value instead\n",
            "\n",
            "See the caveats in the documentation: https://pandas.pydata.org/pandas-docs/stable/user_guide/indexing.html#returning-a-view-versus-a-copy\n",
            "  self[name] = value\n"
          ],
          "name": "stderr"
        },
        {
          "output_type": "execute_result",
          "data": {
            "text/plain": [
              "2020.0    334\n",
              "2019.0    164\n",
              "2018.0    129\n",
              "2017.0    116\n",
              "2008.0     93\n",
              "         ... \n",
              "1948.0      1\n",
              "75.0        1\n",
              "1993.0      1\n",
              "1915.0      1\n",
              "1923.0      1\n",
              "Name: year_built, Length: 115, dtype: int64"
            ]
          },
          "metadata": {
            "tags": []
          },
          "execution_count": 60
        }
      ]
    },
    {
      "cell_type": "code",
      "metadata": {
        "id": "gkKgQolfSVwg"
      },
      "source": [
        "raw_df.loc[(raw_df.year_built >= 100)&(raw_df.year_built < 1700), 'year_built'] = np.NaN\r\n",
        "raw_df.loc[raw_df.year_built < 100, 'year_built'] = raw_df.year_built+1900"
      ],
      "execution_count": 61,
      "outputs": []
    },
    {
      "cell_type": "markdown",
      "metadata": {
        "id": "ufCok1p1UUdm"
      },
      "source": [
        "## status"
      ]
    },
    {
      "cell_type": "code",
      "metadata": {
        "colab": {
          "base_uri": "https://localhost:8080/"
        },
        "id": "7GgJxqqiUWXV",
        "outputId": "aec16d79-a2bc-4ac7-b0f8-9990402b249f"
      },
      "source": [
        "raw_df.status.isna().sum()"
      ],
      "execution_count": 62,
      "outputs": [
        {
          "output_type": "execute_result",
          "data": {
            "text/plain": [
              "289"
            ]
          },
          "metadata": {
            "tags": []
          },
          "execution_count": 62
        }
      ]
    },
    {
      "cell_type": "code",
      "metadata": {
        "colab": {
          "base_uri": "https://localhost:8080/"
        },
        "id": "XvWfBcOgUdmP",
        "outputId": "ca2bcca5-5558-4e90-c38b-104e99b4dfbe"
      },
      "source": [
        "raw_df.status.value_counts()"
      ],
      "execution_count": 63,
      "outputs": [
        {
          "output_type": "execute_result",
          "data": {
            "text/plain": [
              "Stan wykończenia:do zamieszkania    3175\n",
              "Stan wykończenia:do wykończenia        6\n",
              "Stan wykończenia:do remontu            2\n",
              "Name: status, dtype: int64"
            ]
          },
          "metadata": {
            "tags": []
          },
          "execution_count": 63
        }
      ]
    },
    {
      "cell_type": "code",
      "metadata": {
        "colab": {
          "base_uri": "https://localhost:8080/"
        },
        "id": "Jq2UNBOpUjfp",
        "outputId": "39a43170-a6e9-4dab-ddc6-8e031ccbac07"
      },
      "source": [
        "#subset without na\r\n",
        "status_df = raw_df.loc[~raw_df.status.isna()]\r\n",
        "\r\n",
        "#getting the useful part of data\r\n",
        "status = []\r\n",
        "for j in status_df.status:\r\n",
        "  j =j.split(\":\",1)[1] \r\n",
        "  status.append(j)\r\n",
        "\r\n",
        "status_df.status = status\r\n",
        "\r\n",
        "#dict for mapping\r\n",
        "keys4 = status_df.offer_ID\r\n",
        "vals4 = status_df.status\r\n",
        "status_zip = dict(zip(keys4, vals4))\r\n",
        "\r\n",
        "raw_df.status = raw_df.offer_ID\r\n",
        "raw_df.status = raw_df.status.map(status_zip)"
      ],
      "execution_count": 64,
      "outputs": [
        {
          "output_type": "stream",
          "text": [
            "/usr/local/lib/python3.6/dist-packages/pandas/core/generic.py:5170: SettingWithCopyWarning: \n",
            "A value is trying to be set on a copy of a slice from a DataFrame.\n",
            "Try using .loc[row_indexer,col_indexer] = value instead\n",
            "\n",
            "See the caveats in the documentation: https://pandas.pydata.org/pandas-docs/stable/user_guide/indexing.html#returning-a-view-versus-a-copy\n",
            "  self[name] = value\n"
          ],
          "name": "stderr"
        }
      ]
    },
    {
      "cell_type": "code",
      "metadata": {
        "colab": {
          "base_uri": "https://localhost:8080/"
        },
        "id": "YSK7sI9LfAhi",
        "outputId": "1bd81864-1d11-4e12-c9ea-f4b1b101ffe7"
      },
      "source": [
        "raw_df.status.value_counts()"
      ],
      "execution_count": 65,
      "outputs": [
        {
          "output_type": "execute_result",
          "data": {
            "text/plain": [
              "do zamieszkania    3175\n",
              "do wykończenia        6\n",
              "do remontu            2\n",
              "Name: status, dtype: int64"
            ]
          },
          "metadata": {
            "tags": []
          },
          "execution_count": 65
        }
      ]
    },
    {
      "cell_type": "code",
      "metadata": {
        "id": "oXwfI3QefA--"
      },
      "source": [
        "#translation\r\n",
        "raw_df.loc[raw_df.status == 'do zamieszkania', 'status'] = 'Ready(do_zamieszkania)'\r\n",
        "raw_df.loc[raw_df.status == 'do wykończenia', 'status'] = 'Not_ready_yet(do_wykończenia)'\r\n",
        "raw_df.loc[raw_df.status == 'do remontu', 'status'] = 'Renovation(do remontu)'"
      ],
      "execution_count": 66,
      "outputs": []
    },
    {
      "cell_type": "markdown",
      "metadata": {
        "id": "jJTaL6ieVCsu"
      },
      "source": [
        "## extra features"
      ]
    },
    {
      "cell_type": "code",
      "metadata": {
        "id": "GcI0b1XTU7qK"
      },
      "source": [
        "raw_df['extra_features'] = raw_df.agd.astype('str') + raw_df.security.astype('str')  + raw_df.add_info.astype('str') + raw_df.rest_info.astype('str')"
      ],
      "execution_count": 67,
      "outputs": []
    },
    {
      "cell_type": "code",
      "metadata": {
        "colab": {
          "base_uri": "https://localhost:8080/",
          "height": 0
        },
        "id": "NX3_rmeZKoE3",
        "outputId": "1300cc06-81f7-4f49-ae72-3b427ed2abf7"
      },
      "source": [
        "raw_df.head(2)"
      ],
      "execution_count": 68,
      "outputs": [
        {
          "output_type": "execute_result",
          "data": {
            "text/html": [
              "<div>\n",
              "<style scoped>\n",
              "    .dataframe tbody tr th:only-of-type {\n",
              "        vertical-align: middle;\n",
              "    }\n",
              "\n",
              "    .dataframe tbody tr th {\n",
              "        vertical-align: top;\n",
              "    }\n",
              "\n",
              "    .dataframe thead th {\n",
              "        text-align: right;\n",
              "    }\n",
              "</style>\n",
              "<table border=\"1\" class=\"dataframe\">\n",
              "  <thead>\n",
              "    <tr style=\"text-align: right;\">\n",
              "      <th></th>\n",
              "      <th>location</th>\n",
              "      <th>net_price</th>\n",
              "      <th>area</th>\n",
              "      <th>room_num</th>\n",
              "      <th>build_type</th>\n",
              "      <th>build_mat</th>\n",
              "      <th>floor</th>\n",
              "      <th>total_floor</th>\n",
              "      <th>windows</th>\n",
              "      <th>heating</th>\n",
              "      <th>year_built</th>\n",
              "      <th>status</th>\n",
              "      <th>agd</th>\n",
              "      <th>security</th>\n",
              "      <th>add_info</th>\n",
              "      <th>rest_info</th>\n",
              "      <th>offer_ID</th>\n",
              "      <th>add_cost</th>\n",
              "      <th>deposit</th>\n",
              "      <th>district</th>\n",
              "      <th>poddasze</th>\n",
              "      <th>extra_features</th>\n",
              "    </tr>\n",
              "  </thead>\n",
              "  <tbody>\n",
              "    <tr>\n",
              "      <th>0</th>\n",
              "      <td>Warszawa, Włochy, ul. 1 Sierpnia</td>\n",
              "      <td>2100</td>\n",
              "      <td>37</td>\n",
              "      <td>2</td>\n",
              "      <td>NaN</td>\n",
              "      <td>NaN</td>\n",
              "      <td>1.0</td>\n",
              "      <td>4.0</td>\n",
              "      <td>Plastic(plastikowe)</td>\n",
              "      <td>NaN</td>\n",
              "      <td>NaN</td>\n",
              "      <td>Ready(do_zamieszkania)</td>\n",
              "      <td>zmywarkalodówkameblepiekarnikkuchenkatelewizor...</td>\n",
              "      <td>domofon / wideofon</td>\n",
              "      <td>internet</td>\n",
              "      <td>klimatyzacja</td>\n",
              "      <td>Nr oferty w Otodom: 61451923</td>\n",
              "      <td>NaN</td>\n",
              "      <td>2100</td>\n",
              "      <td>Włochy</td>\n",
              "      <td>0</td>\n",
              "      <td>zmywarkalodówkameblepiekarnikkuchenkatelewizor...</td>\n",
              "    </tr>\n",
              "    <tr>\n",
              "      <th>1</th>\n",
              "      <td>Warszawa, Mokotów, ul. Suwak 11</td>\n",
              "      <td>1825</td>\n",
              "      <td>38</td>\n",
              "      <td>2</td>\n",
              "      <td>Apartment_medium_q(blok)</td>\n",
              "      <td>Concrete_masonry_unit(pustak)</td>\n",
              "      <td>1.0</td>\n",
              "      <td>NaN</td>\n",
              "      <td>Plastic(plastikowe)</td>\n",
              "      <td>Central(miejskie)</td>\n",
              "      <td>2020.0</td>\n",
              "      <td>Ready(do_zamieszkania)</td>\n",
              "      <td>zmywarkalodówkameblepiekarnikkuchenkapralka</td>\n",
              "      <td>domofon / wideofonmonitoring / ochrona</td>\n",
              "      <td>telewizja kablowainternet</td>\n",
              "      <td>garaż/miejsce parkingowewindapom. użytkowe</td>\n",
              "      <td>Nr oferty w Otodom: 61405987</td>\n",
              "      <td>350.0</td>\n",
              "      <td>3400</td>\n",
              "      <td>Mokotów</td>\n",
              "      <td>0</td>\n",
              "      <td>zmywarkalodówkameblepiekarnikkuchenkapralkadom...</td>\n",
              "    </tr>\n",
              "  </tbody>\n",
              "</table>\n",
              "</div>"
            ],
            "text/plain": [
              "                           location  ...                                     extra_features\n",
              "0  Warszawa, Włochy, ul. 1 Sierpnia  ...  zmywarkalodówkameblepiekarnikkuchenkatelewizor...\n",
              "1   Warszawa, Mokotów, ul. Suwak 11  ...  zmywarkalodówkameblepiekarnikkuchenkapralkadom...\n",
              "\n",
              "[2 rows x 22 columns]"
            ]
          },
          "metadata": {
            "tags": []
          },
          "execution_count": 68
        }
      ]
    },
    {
      "cell_type": "code",
      "metadata": {
        "id": "BMiaoDbLLgFh"
      },
      "source": [
        "extra = ['dish_washer(zmywarka)','fridge(lodówka)','furniture(meble)','oven(piekarnik)','stove(kuchenka)','tv_set(telewizor)',\r\n",
        "         'washer(pralka)','secure_doors/windows(drzwi/okna_antywłamaniowe)','intercom/videophone(domofon/wideofon)',\r\n",
        "         'monitoring/security(monitoring/ochrona)','closed_area(teren_zamknięty)','balcony(balkon)','basement(piwnica)',\r\n",
        "         'garage/parking_space(garaż/miejsce_parkingowe)', 'alarm system(system alarmowy)','only_for_non-smokers(tylko_dla_niepalących)','anti-burglary blinds(rolety antywłamaniowe)',\r\n",
        "         'elevator(winda)', 'separate kitchen(oddzielna kuchnia)','internet','cable TV(telewizja kablowa)','telephone(telefon)','air conditioning(klimatyzacja)',\r\n",
        "         'available for students(wynajmę również studentom)','utility room(pom. użytkowe)', 'terrace(taras)','two-level(dwupoziomowe)', 'garden(ogródek)']"
      ],
      "execution_count": 69,
      "outputs": []
    },
    {
      "cell_type": "code",
      "metadata": {
        "id": "O2MyaDNiXB2D"
      },
      "source": [
        "for i in extra:\r\n",
        "  raw_df[i] = raw_df.extra_features"
      ],
      "execution_count": 70,
      "outputs": []
    },
    {
      "cell_type": "code",
      "metadata": {
        "id": "gUhJd6VEZzEH"
      },
      "source": [
        "raw_df['dish_washer(zmywarka)'] = raw_df['dish_washer(zmywarka)'].str.replace(r'(^.*zmywarka.*$)', '1')\r\n",
        "raw_df['fridge(lodówka)'] = raw_df['fridge(lodówka)'].str.replace(r'(^.*lodówka.*$)', '1')\r\n",
        "raw_df['furniture(meble)'] = raw_df['furniture(meble)'].str.replace(r'(^.*meble.*$)', '1')\r\n",
        "raw_df['oven(piekarnik)'] = raw_df['oven(piekarnik)'].str.replace(r'(^.*piekarnik.*$)', '1')\r\n",
        "raw_df['stove(kuchenka)'] = raw_df['stove(kuchenka)'].str.replace(r'(^.*kuchenka.*$)', '1')\r\n",
        "raw_df['tv_set(telewizor)'] = raw_df['tv_set(telewizor)'].str.replace(r'(^.*telewizor.*$)', '1')\r\n",
        "raw_df['washer(pralka)'] = raw_df['washer(pralka)'].str.replace(r'(^.*pralka.*$)', '1')\r\n",
        "raw_df['intercom/videophone(domofon/wideofon)'] = raw_df['intercom/videophone(domofon/wideofon)'].str.replace(r'(^.*domofon/wideofon.*$)', '1')\r\n",
        "raw_df['secure_doors/windows(drzwi/okna_antywłamaniowe)'] = raw_df['secure_doors/windows(drzwi/okna_antywłamaniowe)'].str.replace(r'(^.*drzwi/okna antywłamaniowe.*$)', '1')\r\n",
        "raw_df['monitoring/security(monitoring/ochrona)'] = raw_df['monitoring/security(monitoring/ochrona)'].str.replace(r'(^.*monitoring/security(monitoring/ochrona).*$)', '1')\r\n",
        "raw_df['closed_area(teren_zamknięty)'] = raw_df['closed_area(teren_zamknięty)'].str.replace(r'(^.*teren_zamknięty.*$)', '1')\r\n",
        "raw_df['balcony(balkon)'] = raw_df['balcony(balkon)'].str.replace(r'(^.*balkon.*$)', '1')\r\n",
        "raw_df['basement(piwnica)'] = raw_df['basement(piwnica)'].str.replace(r'(^.*piwnica.*$)', '1')\r\n",
        "raw_df['elevator(winda)'] = raw_df['elevator(winda)'].str.replace(r'(^.*winda.*$)', '1')\r\n",
        "raw_df['garage/parking_space(garaż/miejsce_parkingowe)'] = raw_df['garage/parking_space(garaż/miejsce_parkingowe)'].str.replace(r'(^.*garaż/miejsce_parkingowe.*$)', '1')\r\n",
        "raw_df['alarm system(system alarmowy)'] = raw_df['alarm system(system alarmowy)'].str.replace(r'(^.*system alarmowy.*$)', '1')\r\n",
        "raw_df['only_for_non-smokers(tylko_dla_niepalących)'] = raw_df['only_for_non-smokers(tylko_dla_niepalących)'].str.replace(r'(^.*tylko_dla_niepalących.*$)', '1')\r\n",
        "raw_df['anti-burglary blinds(rolety antywłamaniowe)'] = raw_df['anti-burglary blinds(rolety antywłamaniowe)'].str.replace(r'(^.*rolety antywłamaniowe.*$)', '1')\r\n",
        "raw_df['separate kitchen(oddzielna kuchnia)'] = raw_df['separate kitchen(oddzielna kuchnia)'].str.replace(r'(^.*oddzielna kuchnia.*$)', '1')\r\n",
        "raw_df.internet = raw_df.internet.str.replace(r'(^.*internet.*$)', '1')\r\n",
        "raw_df['cable TV(telewizja kablowa)'] = raw_df['cable TV(telewizja kablowa)'].str.replace(r'(^.*telewizja kablowa.*$)', '1')\r\n",
        "raw_df['telephone(telefon)'] = raw_df['telephone(telefon)'].str.replace(r'(^.*telefon.*$)', '1')\r\n",
        "raw_df['air conditioning(klimatyzacja)'] = raw_df['air conditioning(klimatyzacja)'].str.replace(r'(^.*klimatyzacja.*$)', '1')\r\n",
        "raw_df['available for students(wynajmę również studentom)'] = raw_df['available for students(wynajmę również studentom)'].str.replace(r'(^.*wynajmę również studentom.*$)', '1')\r\n",
        "raw_df['utility room(pom. użytkowe)'] = raw_df['utility room(pom. użytkowe)'].str.replace(r'(^.*pom. użytkowe.*$)', '1')\r\n",
        "raw_df['terrace(taras)'] = raw_df['terrace(taras)'].str.replace(r'(^.*taras.*$)', '1')\r\n",
        "raw_df['two-level(dwupoziomowe)'] = raw_df['two-level(dwupoziomowe)'].str.replace(r'(^.*dwupoziomowe.*$)', '1')\r\n",
        "raw_df['garden(ogródek)'] = raw_df['garden(ogródek)'].str.replace(r'(^.*ogródek.*$)', '1')"
      ],
      "execution_count": 71,
      "outputs": []
    },
    {
      "cell_type": "code",
      "metadata": {
        "id": "b8ANSVTOijBK"
      },
      "source": [
        "for i in extra:\r\n",
        "  raw_df.loc[raw_df[i] == raw_df.extra_features, i] = 0"
      ],
      "execution_count": 72,
      "outputs": []
    },
    {
      "cell_type": "code",
      "metadata": {
        "id": "syonSYZNf293"
      },
      "source": [
        "raw_df.drop(['location','agd','security', 'add_info','rest_info', 'offer_ID','extra_features'],axis=1, inplace=True)"
      ],
      "execution_count": 73,
      "outputs": []
    },
    {
      "cell_type": "markdown",
      "metadata": {
        "id": "OyOWRIqRj5og"
      },
      "source": [
        "# Imputation"
      ]
    },
    {
      "cell_type": "code",
      "metadata": {
        "colab": {
          "base_uri": "https://localhost:8080/"
        },
        "id": "rDSLNHXLkD-z",
        "outputId": "39e350ae-b51f-4b82-b10b-c5e6c36032fe"
      },
      "source": [
        "raw_df.isna().sum()"
      ],
      "execution_count": 74,
      "outputs": [
        {
          "output_type": "execute_result",
          "data": {
            "text/plain": [
              "net_price                                               0\n",
              "area                                                    0\n",
              "room_num                                                0\n",
              "build_type                                            142\n",
              "build_mat                                            1239\n",
              "floor                                                  80\n",
              "total_floor                                           436\n",
              "windows                                               580\n",
              "heating                                               482\n",
              "year_built                                           1011\n",
              "status                                                289\n",
              "add_cost                                             1562\n",
              "deposit                                                 0\n",
              "district                                                0\n",
              "poddasze                                                0\n",
              "dish_washer(zmywarka)                                   0\n",
              "fridge(lodówka)                                         0\n",
              "furniture(meble)                                        0\n",
              "oven(piekarnik)                                         0\n",
              "stove(kuchenka)                                         0\n",
              "tv_set(telewizor)                                       0\n",
              "washer(pralka)                                          0\n",
              "secure_doors/windows(drzwi/okna_antywłamaniowe)         0\n",
              "intercom/videophone(domofon/wideofon)                   0\n",
              "monitoring/security(monitoring/ochrona)                 0\n",
              "closed_area(teren_zamknięty)                            0\n",
              "balcony(balkon)                                         0\n",
              "basement(piwnica)                                       0\n",
              "garage/parking_space(garaż/miejsce_parkingowe)          0\n",
              "alarm system(system alarmowy)                           0\n",
              "only_for_non-smokers(tylko_dla_niepalących)             0\n",
              "anti-burglary blinds(rolety antywłamaniowe)             0\n",
              "elevator(winda)                                         0\n",
              "separate kitchen(oddzielna kuchnia)                     0\n",
              "internet                                                0\n",
              "cable TV(telewizja kablowa)                             0\n",
              "telephone(telefon)                                      0\n",
              "air conditioning(klimatyzacja)                          0\n",
              "available for students(wynajmę również studentom)       0\n",
              "utility room(pom. użytkowe)                             0\n",
              "terrace(taras)                                          0\n",
              "two-level(dwupoziomowe)                                 0\n",
              "garden(ogródek)                                         0\n",
              "dtype: int64"
            ]
          },
          "metadata": {
            "tags": []
          },
          "execution_count": 74
        }
      ]
    },
    {
      "cell_type": "markdown",
      "metadata": {
        "id": "QBJYHCLVknki"
      },
      "source": [
        "## Encoding"
      ]
    },
    {
      "cell_type": "code",
      "metadata": {
        "id": "zAY9-QwbkmNQ"
      },
      "source": [
        "data_types_dict2 = dict()\r\n",
        "for i in extra:\r\n",
        "  data_types_dict2[i] = int\r\n",
        "data_types_dict2['poddasze'] = int \r\n",
        "raw_df = raw_df.astype(data_types_dict2) "
      ],
      "execution_count": 79,
      "outputs": []
    },
    {
      "cell_type": "code",
      "metadata": {
        "colab": {
          "base_uri": "https://localhost:8080/"
        },
        "id": "CvSHvmi-kqJw",
        "outputId": "1557aa13-6455-4366-bfd0-8e6caae90c7a"
      },
      "source": [
        "raw_df.info()"
      ],
      "execution_count": 80,
      "outputs": [
        {
          "output_type": "stream",
          "text": [
            "<class 'pandas.core.frame.DataFrame'>\n",
            "Int64Index: 3472 entries, 0 to 3481\n",
            "Data columns (total 43 columns):\n",
            " #   Column                                             Non-Null Count  Dtype  \n",
            "---  ------                                             --------------  -----  \n",
            " 0   net_price                                          3472 non-null   int64  \n",
            " 1   area                                               3472 non-null   int64  \n",
            " 2   room_num                                           3472 non-null   int64  \n",
            " 3   build_type                                         3330 non-null   object \n",
            " 4   build_mat                                          2233 non-null   object \n",
            " 5   floor                                              3392 non-null   float64\n",
            " 6   total_floor                                        3036 non-null   float64\n",
            " 7   windows                                            2892 non-null   object \n",
            " 8   heating                                            2990 non-null   object \n",
            " 9   year_built                                         2461 non-null   float64\n",
            " 10  status                                             3183 non-null   object \n",
            " 11  add_cost                                           1910 non-null   float64\n",
            " 12  deposit                                            3472 non-null   int64  \n",
            " 13  district                                           3472 non-null   object \n",
            " 14  poddasze                                           3472 non-null   int64  \n",
            " 15  dish_washer(zmywarka)                              3472 non-null   int64  \n",
            " 16  fridge(lodówka)                                    3472 non-null   int64  \n",
            " 17  furniture(meble)                                   3472 non-null   int64  \n",
            " 18  oven(piekarnik)                                    3472 non-null   int64  \n",
            " 19  stove(kuchenka)                                    3472 non-null   int64  \n",
            " 20  tv_set(telewizor)                                  3472 non-null   int64  \n",
            " 21  washer(pralka)                                     3472 non-null   int64  \n",
            " 22  secure_doors/windows(drzwi/okna_antywłamaniowe)    3472 non-null   int64  \n",
            " 23  intercom/videophone(domofon/wideofon)              3472 non-null   int64  \n",
            " 24  monitoring/security(monitoring/ochrona)            3472 non-null   int64  \n",
            " 25  closed_area(teren_zamknięty)                       3472 non-null   int64  \n",
            " 26  balcony(balkon)                                    3472 non-null   int64  \n",
            " 27  basement(piwnica)                                  3472 non-null   int64  \n",
            " 28  garage/parking_space(garaż/miejsce_parkingowe)     3472 non-null   int64  \n",
            " 29  alarm system(system alarmowy)                      3472 non-null   int64  \n",
            " 30  only_for_non-smokers(tylko_dla_niepalących)        3472 non-null   int64  \n",
            " 31  anti-burglary blinds(rolety antywłamaniowe)        3472 non-null   int64  \n",
            " 32  elevator(winda)                                    3472 non-null   int64  \n",
            " 33  separate kitchen(oddzielna kuchnia)                3472 non-null   int64  \n",
            " 34  internet                                           3472 non-null   int64  \n",
            " 35  cable TV(telewizja kablowa)                        3472 non-null   int64  \n",
            " 36  telephone(telefon)                                 3472 non-null   int64  \n",
            " 37  air conditioning(klimatyzacja)                     3472 non-null   int64  \n",
            " 38  available for students(wynajmę również studentom)  3472 non-null   int64  \n",
            " 39  utility room(pom. użytkowe)                        3472 non-null   int64  \n",
            " 40  terrace(taras)                                     3472 non-null   int64  \n",
            " 41  two-level(dwupoziomowe)                            3472 non-null   int64  \n",
            " 42  garden(ogródek)                                    3472 non-null   int64  \n",
            "dtypes: float64(4), int64(33), object(6)\n",
            "memory usage: 1.3+ MB\n"
          ],
          "name": "stdout"
        }
      ]
    },
    {
      "cell_type": "code",
      "metadata": {
        "id": "fg4OIuhNroSt"
      },
      "source": [
        "df = pd.get_dummies(raw_df, columns=[\"build_type\",'build_mat','windows','heating','status','district'])"
      ],
      "execution_count": 81,
      "outputs": []
    },
    {
      "cell_type": "code",
      "metadata": {
        "colab": {
          "base_uri": "https://localhost:8080/",
          "height": 0
        },
        "id": "sGG_M0zDtHmp",
        "outputId": "0c185c54-a67c-48e4-9105-fd7fcdecdbdb"
      },
      "source": [
        "df.head()"
      ],
      "execution_count": 82,
      "outputs": [
        {
          "output_type": "execute_result",
          "data": {
            "text/html": [
              "<div>\n",
              "<style scoped>\n",
              "    .dataframe tbody tr th:only-of-type {\n",
              "        vertical-align: middle;\n",
              "    }\n",
              "\n",
              "    .dataframe tbody tr th {\n",
              "        vertical-align: top;\n",
              "    }\n",
              "\n",
              "    .dataframe thead th {\n",
              "        text-align: right;\n",
              "    }\n",
              "</style>\n",
              "<table border=\"1\" class=\"dataframe\">\n",
              "  <thead>\n",
              "    <tr style=\"text-align: right;\">\n",
              "      <th></th>\n",
              "      <th>net_price</th>\n",
              "      <th>area</th>\n",
              "      <th>room_num</th>\n",
              "      <th>floor</th>\n",
              "      <th>total_floor</th>\n",
              "      <th>year_built</th>\n",
              "      <th>add_cost</th>\n",
              "      <th>deposit</th>\n",
              "      <th>poddasze</th>\n",
              "      <th>dish_washer(zmywarka)</th>\n",
              "      <th>fridge(lodówka)</th>\n",
              "      <th>furniture(meble)</th>\n",
              "      <th>oven(piekarnik)</th>\n",
              "      <th>stove(kuchenka)</th>\n",
              "      <th>tv_set(telewizor)</th>\n",
              "      <th>washer(pralka)</th>\n",
              "      <th>secure_doors/windows(drzwi/okna_antywłamaniowe)</th>\n",
              "      <th>intercom/videophone(domofon/wideofon)</th>\n",
              "      <th>monitoring/security(monitoring/ochrona)</th>\n",
              "      <th>closed_area(teren_zamknięty)</th>\n",
              "      <th>balcony(balkon)</th>\n",
              "      <th>basement(piwnica)</th>\n",
              "      <th>garage/parking_space(garaż/miejsce_parkingowe)</th>\n",
              "      <th>alarm system(system alarmowy)</th>\n",
              "      <th>only_for_non-smokers(tylko_dla_niepalących)</th>\n",
              "      <th>anti-burglary blinds(rolety antywłamaniowe)</th>\n",
              "      <th>elevator(winda)</th>\n",
              "      <th>separate kitchen(oddzielna kuchnia)</th>\n",
              "      <th>internet</th>\n",
              "      <th>cable TV(telewizja kablowa)</th>\n",
              "      <th>telephone(telefon)</th>\n",
              "      <th>air conditioning(klimatyzacja)</th>\n",
              "      <th>available for students(wynajmę również studentom)</th>\n",
              "      <th>utility room(pom. użytkowe)</th>\n",
              "      <th>terrace(taras)</th>\n",
              "      <th>two-level(dwupoziomowe)</th>\n",
              "      <th>garden(ogródek)</th>\n",
              "      <th>build_type_Apartment_high_q(apartamentowiec)</th>\n",
              "      <th>build_type_Apartment_medium_q(blok)</th>\n",
              "      <th>build_type_Infill(plomba)</th>\n",
              "      <th>...</th>\n",
              "      <th>build_mat_Concrete_masonry_unit(pustak)</th>\n",
              "      <th>build_mat_Conreate_slab(wielka_płyta)</th>\n",
              "      <th>build_mat_Expanded_clay(keramzyt)</th>\n",
              "      <th>build_mat_Other(inne)</th>\n",
              "      <th>build_mat_Reinforced_concrete(żelbet)</th>\n",
              "      <th>build_mat_Silicate brick(silikat)</th>\n",
              "      <th>build_mat_Wood(drewno)</th>\n",
              "      <th>windows_Aluminum(aluminiowe)</th>\n",
              "      <th>windows_Plastic(plastikowe)</th>\n",
              "      <th>windows_Wooden(drewniane)</th>\n",
              "      <th>heating_Boiler(kotłownia)</th>\n",
              "      <th>heating_Central(miejskie)</th>\n",
              "      <th>heating_Electric(elektryczne)</th>\n",
              "      <th>heating_Gas(gazowe)</th>\n",
              "      <th>heating_Other(inne)</th>\n",
              "      <th>status_Not_ready_yet(do_wykończenia)</th>\n",
              "      <th>status_Ready(do_zamieszkania)</th>\n",
              "      <th>status_Renovation(do remontu)</th>\n",
              "      <th>district_ Bemowo</th>\n",
              "      <th>district_ Białołęka</th>\n",
              "      <th>district_ Bielany</th>\n",
              "      <th>district_ Centrum</th>\n",
              "      <th>district_ Metro Wilanowska</th>\n",
              "      <th>district_ Mokotów</th>\n",
              "      <th>district_ Ochota</th>\n",
              "      <th>district_ Praga-Południe</th>\n",
              "      <th>district_ Praga-Północ</th>\n",
              "      <th>district_ Rembertów</th>\n",
              "      <th>district_ Targówek</th>\n",
              "      <th>district_ Ursus</th>\n",
              "      <th>district_ Ursynów</th>\n",
              "      <th>district_ Warszawa</th>\n",
              "      <th>district_ Wawer</th>\n",
              "      <th>district_ Wesoła</th>\n",
              "      <th>district_ Wilanów</th>\n",
              "      <th>district_ Wola</th>\n",
              "      <th>district_ Włochy</th>\n",
              "      <th>district_ mazowieckie</th>\n",
              "      <th>district_ Śródmieście</th>\n",
              "      <th>district_ Żoliborz</th>\n",
              "    </tr>\n",
              "  </thead>\n",
              "  <tbody>\n",
              "    <tr>\n",
              "      <th>0</th>\n",
              "      <td>2100</td>\n",
              "      <td>37</td>\n",
              "      <td>2</td>\n",
              "      <td>1.0</td>\n",
              "      <td>4.0</td>\n",
              "      <td>NaN</td>\n",
              "      <td>NaN</td>\n",
              "      <td>2100</td>\n",
              "      <td>0</td>\n",
              "      <td>1</td>\n",
              "      <td>1</td>\n",
              "      <td>1</td>\n",
              "      <td>1</td>\n",
              "      <td>1</td>\n",
              "      <td>1</td>\n",
              "      <td>1</td>\n",
              "      <td>0</td>\n",
              "      <td>0</td>\n",
              "      <td>0</td>\n",
              "      <td>0</td>\n",
              "      <td>0</td>\n",
              "      <td>0</td>\n",
              "      <td>0</td>\n",
              "      <td>0</td>\n",
              "      <td>0</td>\n",
              "      <td>0</td>\n",
              "      <td>0</td>\n",
              "      <td>0</td>\n",
              "      <td>1</td>\n",
              "      <td>0</td>\n",
              "      <td>0</td>\n",
              "      <td>1</td>\n",
              "      <td>0</td>\n",
              "      <td>0</td>\n",
              "      <td>0</td>\n",
              "      <td>0</td>\n",
              "      <td>0</td>\n",
              "      <td>0</td>\n",
              "      <td>0</td>\n",
              "      <td>0</td>\n",
              "      <td>...</td>\n",
              "      <td>0</td>\n",
              "      <td>0</td>\n",
              "      <td>0</td>\n",
              "      <td>0</td>\n",
              "      <td>0</td>\n",
              "      <td>0</td>\n",
              "      <td>0</td>\n",
              "      <td>0</td>\n",
              "      <td>1</td>\n",
              "      <td>0</td>\n",
              "      <td>0</td>\n",
              "      <td>0</td>\n",
              "      <td>0</td>\n",
              "      <td>0</td>\n",
              "      <td>0</td>\n",
              "      <td>0</td>\n",
              "      <td>1</td>\n",
              "      <td>0</td>\n",
              "      <td>0</td>\n",
              "      <td>0</td>\n",
              "      <td>0</td>\n",
              "      <td>0</td>\n",
              "      <td>0</td>\n",
              "      <td>0</td>\n",
              "      <td>0</td>\n",
              "      <td>0</td>\n",
              "      <td>0</td>\n",
              "      <td>0</td>\n",
              "      <td>0</td>\n",
              "      <td>0</td>\n",
              "      <td>0</td>\n",
              "      <td>0</td>\n",
              "      <td>0</td>\n",
              "      <td>0</td>\n",
              "      <td>0</td>\n",
              "      <td>0</td>\n",
              "      <td>1</td>\n",
              "      <td>0</td>\n",
              "      <td>0</td>\n",
              "      <td>0</td>\n",
              "    </tr>\n",
              "    <tr>\n",
              "      <th>1</th>\n",
              "      <td>1825</td>\n",
              "      <td>38</td>\n",
              "      <td>2</td>\n",
              "      <td>1.0</td>\n",
              "      <td>NaN</td>\n",
              "      <td>2020.0</td>\n",
              "      <td>350.0</td>\n",
              "      <td>3400</td>\n",
              "      <td>0</td>\n",
              "      <td>1</td>\n",
              "      <td>1</td>\n",
              "      <td>1</td>\n",
              "      <td>1</td>\n",
              "      <td>1</td>\n",
              "      <td>0</td>\n",
              "      <td>1</td>\n",
              "      <td>0</td>\n",
              "      <td>0</td>\n",
              "      <td>0</td>\n",
              "      <td>0</td>\n",
              "      <td>0</td>\n",
              "      <td>0</td>\n",
              "      <td>0</td>\n",
              "      <td>0</td>\n",
              "      <td>0</td>\n",
              "      <td>0</td>\n",
              "      <td>1</td>\n",
              "      <td>0</td>\n",
              "      <td>1</td>\n",
              "      <td>1</td>\n",
              "      <td>0</td>\n",
              "      <td>0</td>\n",
              "      <td>0</td>\n",
              "      <td>1</td>\n",
              "      <td>0</td>\n",
              "      <td>0</td>\n",
              "      <td>0</td>\n",
              "      <td>0</td>\n",
              "      <td>1</td>\n",
              "      <td>0</td>\n",
              "      <td>...</td>\n",
              "      <td>1</td>\n",
              "      <td>0</td>\n",
              "      <td>0</td>\n",
              "      <td>0</td>\n",
              "      <td>0</td>\n",
              "      <td>0</td>\n",
              "      <td>0</td>\n",
              "      <td>0</td>\n",
              "      <td>1</td>\n",
              "      <td>0</td>\n",
              "      <td>0</td>\n",
              "      <td>1</td>\n",
              "      <td>0</td>\n",
              "      <td>0</td>\n",
              "      <td>0</td>\n",
              "      <td>0</td>\n",
              "      <td>1</td>\n",
              "      <td>0</td>\n",
              "      <td>0</td>\n",
              "      <td>0</td>\n",
              "      <td>0</td>\n",
              "      <td>0</td>\n",
              "      <td>0</td>\n",
              "      <td>1</td>\n",
              "      <td>0</td>\n",
              "      <td>0</td>\n",
              "      <td>0</td>\n",
              "      <td>0</td>\n",
              "      <td>0</td>\n",
              "      <td>0</td>\n",
              "      <td>0</td>\n",
              "      <td>0</td>\n",
              "      <td>0</td>\n",
              "      <td>0</td>\n",
              "      <td>0</td>\n",
              "      <td>0</td>\n",
              "      <td>0</td>\n",
              "      <td>0</td>\n",
              "      <td>0</td>\n",
              "      <td>0</td>\n",
              "    </tr>\n",
              "    <tr>\n",
              "      <th>2</th>\n",
              "      <td>3300</td>\n",
              "      <td>57</td>\n",
              "      <td>3</td>\n",
              "      <td>1.0</td>\n",
              "      <td>15.0</td>\n",
              "      <td>1984.0</td>\n",
              "      <td>0.0</td>\n",
              "      <td>3300</td>\n",
              "      <td>0</td>\n",
              "      <td>1</td>\n",
              "      <td>1</td>\n",
              "      <td>1</td>\n",
              "      <td>1</td>\n",
              "      <td>1</td>\n",
              "      <td>1</td>\n",
              "      <td>1</td>\n",
              "      <td>0</td>\n",
              "      <td>0</td>\n",
              "      <td>0</td>\n",
              "      <td>0</td>\n",
              "      <td>1</td>\n",
              "      <td>0</td>\n",
              "      <td>0</td>\n",
              "      <td>0</td>\n",
              "      <td>0</td>\n",
              "      <td>0</td>\n",
              "      <td>0</td>\n",
              "      <td>1</td>\n",
              "      <td>1</td>\n",
              "      <td>1</td>\n",
              "      <td>0</td>\n",
              "      <td>0</td>\n",
              "      <td>0</td>\n",
              "      <td>0</td>\n",
              "      <td>0</td>\n",
              "      <td>0</td>\n",
              "      <td>0</td>\n",
              "      <td>0</td>\n",
              "      <td>1</td>\n",
              "      <td>0</td>\n",
              "      <td>...</td>\n",
              "      <td>0</td>\n",
              "      <td>1</td>\n",
              "      <td>0</td>\n",
              "      <td>0</td>\n",
              "      <td>0</td>\n",
              "      <td>0</td>\n",
              "      <td>0</td>\n",
              "      <td>0</td>\n",
              "      <td>0</td>\n",
              "      <td>1</td>\n",
              "      <td>0</td>\n",
              "      <td>1</td>\n",
              "      <td>0</td>\n",
              "      <td>0</td>\n",
              "      <td>0</td>\n",
              "      <td>0</td>\n",
              "      <td>1</td>\n",
              "      <td>0</td>\n",
              "      <td>0</td>\n",
              "      <td>0</td>\n",
              "      <td>1</td>\n",
              "      <td>0</td>\n",
              "      <td>0</td>\n",
              "      <td>0</td>\n",
              "      <td>0</td>\n",
              "      <td>0</td>\n",
              "      <td>0</td>\n",
              "      <td>0</td>\n",
              "      <td>0</td>\n",
              "      <td>0</td>\n",
              "      <td>0</td>\n",
              "      <td>0</td>\n",
              "      <td>0</td>\n",
              "      <td>0</td>\n",
              "      <td>0</td>\n",
              "      <td>0</td>\n",
              "      <td>0</td>\n",
              "      <td>0</td>\n",
              "      <td>0</td>\n",
              "      <td>0</td>\n",
              "    </tr>\n",
              "    <tr>\n",
              "      <th>3</th>\n",
              "      <td>2200</td>\n",
              "      <td>63</td>\n",
              "      <td>2</td>\n",
              "      <td>4.0</td>\n",
              "      <td>5.0</td>\n",
              "      <td>2005.0</td>\n",
              "      <td>NaN</td>\n",
              "      <td>2200</td>\n",
              "      <td>0</td>\n",
              "      <td>1</td>\n",
              "      <td>1</td>\n",
              "      <td>1</td>\n",
              "      <td>1</td>\n",
              "      <td>1</td>\n",
              "      <td>1</td>\n",
              "      <td>1</td>\n",
              "      <td>0</td>\n",
              "      <td>0</td>\n",
              "      <td>0</td>\n",
              "      <td>0</td>\n",
              "      <td>1</td>\n",
              "      <td>0</td>\n",
              "      <td>0</td>\n",
              "      <td>0</td>\n",
              "      <td>0</td>\n",
              "      <td>0</td>\n",
              "      <td>0</td>\n",
              "      <td>0</td>\n",
              "      <td>0</td>\n",
              "      <td>0</td>\n",
              "      <td>0</td>\n",
              "      <td>0</td>\n",
              "      <td>0</td>\n",
              "      <td>0</td>\n",
              "      <td>0</td>\n",
              "      <td>0</td>\n",
              "      <td>0</td>\n",
              "      <td>0</td>\n",
              "      <td>1</td>\n",
              "      <td>0</td>\n",
              "      <td>...</td>\n",
              "      <td>0</td>\n",
              "      <td>0</td>\n",
              "      <td>0</td>\n",
              "      <td>0</td>\n",
              "      <td>0</td>\n",
              "      <td>0</td>\n",
              "      <td>0</td>\n",
              "      <td>0</td>\n",
              "      <td>0</td>\n",
              "      <td>1</td>\n",
              "      <td>0</td>\n",
              "      <td>1</td>\n",
              "      <td>0</td>\n",
              "      <td>0</td>\n",
              "      <td>0</td>\n",
              "      <td>0</td>\n",
              "      <td>1</td>\n",
              "      <td>0</td>\n",
              "      <td>0</td>\n",
              "      <td>0</td>\n",
              "      <td>0</td>\n",
              "      <td>0</td>\n",
              "      <td>0</td>\n",
              "      <td>0</td>\n",
              "      <td>0</td>\n",
              "      <td>0</td>\n",
              "      <td>0</td>\n",
              "      <td>0</td>\n",
              "      <td>1</td>\n",
              "      <td>0</td>\n",
              "      <td>0</td>\n",
              "      <td>0</td>\n",
              "      <td>0</td>\n",
              "      <td>0</td>\n",
              "      <td>0</td>\n",
              "      <td>0</td>\n",
              "      <td>0</td>\n",
              "      <td>0</td>\n",
              "      <td>0</td>\n",
              "      <td>0</td>\n",
              "    </tr>\n",
              "    <tr>\n",
              "      <th>4</th>\n",
              "      <td>3000</td>\n",
              "      <td>65</td>\n",
              "      <td>3</td>\n",
              "      <td>3.0</td>\n",
              "      <td>4.0</td>\n",
              "      <td>1938.0</td>\n",
              "      <td>NaN</td>\n",
              "      <td>3000</td>\n",
              "      <td>0</td>\n",
              "      <td>1</td>\n",
              "      <td>1</td>\n",
              "      <td>1</td>\n",
              "      <td>1</td>\n",
              "      <td>1</td>\n",
              "      <td>0</td>\n",
              "      <td>1</td>\n",
              "      <td>0</td>\n",
              "      <td>0</td>\n",
              "      <td>0</td>\n",
              "      <td>0</td>\n",
              "      <td>0</td>\n",
              "      <td>1</td>\n",
              "      <td>0</td>\n",
              "      <td>0</td>\n",
              "      <td>0</td>\n",
              "      <td>0</td>\n",
              "      <td>1</td>\n",
              "      <td>1</td>\n",
              "      <td>0</td>\n",
              "      <td>0</td>\n",
              "      <td>0</td>\n",
              "      <td>0</td>\n",
              "      <td>0</td>\n",
              "      <td>0</td>\n",
              "      <td>0</td>\n",
              "      <td>0</td>\n",
              "      <td>0</td>\n",
              "      <td>0</td>\n",
              "      <td>0</td>\n",
              "      <td>0</td>\n",
              "      <td>...</td>\n",
              "      <td>0</td>\n",
              "      <td>0</td>\n",
              "      <td>0</td>\n",
              "      <td>0</td>\n",
              "      <td>0</td>\n",
              "      <td>0</td>\n",
              "      <td>0</td>\n",
              "      <td>0</td>\n",
              "      <td>1</td>\n",
              "      <td>0</td>\n",
              "      <td>0</td>\n",
              "      <td>1</td>\n",
              "      <td>0</td>\n",
              "      <td>0</td>\n",
              "      <td>0</td>\n",
              "      <td>0</td>\n",
              "      <td>1</td>\n",
              "      <td>0</td>\n",
              "      <td>0</td>\n",
              "      <td>0</td>\n",
              "      <td>0</td>\n",
              "      <td>0</td>\n",
              "      <td>0</td>\n",
              "      <td>0</td>\n",
              "      <td>1</td>\n",
              "      <td>0</td>\n",
              "      <td>0</td>\n",
              "      <td>0</td>\n",
              "      <td>0</td>\n",
              "      <td>0</td>\n",
              "      <td>0</td>\n",
              "      <td>0</td>\n",
              "      <td>0</td>\n",
              "      <td>0</td>\n",
              "      <td>0</td>\n",
              "      <td>0</td>\n",
              "      <td>0</td>\n",
              "      <td>0</td>\n",
              "      <td>0</td>\n",
              "      <td>0</td>\n",
              "    </tr>\n",
              "  </tbody>\n",
              "</table>\n",
              "<p>5 rows × 87 columns</p>\n",
              "</div>"
            ],
            "text/plain": [
              "   net_price  area  ...  district_ Śródmieście  district_ Żoliborz\n",
              "0       2100    37  ...                      0                   0\n",
              "1       1825    38  ...                      0                   0\n",
              "2       3300    57  ...                      0                   0\n",
              "3       2200    63  ...                      0                   0\n",
              "4       3000    65  ...                      0                   0\n",
              "\n",
              "[5 rows x 87 columns]"
            ]
          },
          "metadata": {
            "tags": []
          },
          "execution_count": 82
        }
      ]
    },
    {
      "cell_type": "markdown",
      "metadata": {
        "id": "dguRLtoPtzUS"
      },
      "source": [
        "## Imputing"
      ]
    },
    {
      "cell_type": "code",
      "metadata": {
        "colab": {
          "base_uri": "https://localhost:8080/",
          "height": 419
        },
        "id": "aLeOaUxtSQ_K",
        "outputId": "45aa2456-75c4-4e35-eddf-613814a90ccb"
      },
      "source": [
        "add_price_df = df[['area','room_num','floor','year_built', 'net_price', 'deposit', 'add_cost']]\r\n",
        "add_price_df"
      ],
      "execution_count": 83,
      "outputs": [
        {
          "output_type": "execute_result",
          "data": {
            "text/html": [
              "<div>\n",
              "<style scoped>\n",
              "    .dataframe tbody tr th:only-of-type {\n",
              "        vertical-align: middle;\n",
              "    }\n",
              "\n",
              "    .dataframe tbody tr th {\n",
              "        vertical-align: top;\n",
              "    }\n",
              "\n",
              "    .dataframe thead th {\n",
              "        text-align: right;\n",
              "    }\n",
              "</style>\n",
              "<table border=\"1\" class=\"dataframe\">\n",
              "  <thead>\n",
              "    <tr style=\"text-align: right;\">\n",
              "      <th></th>\n",
              "      <th>area</th>\n",
              "      <th>room_num</th>\n",
              "      <th>floor</th>\n",
              "      <th>year_built</th>\n",
              "      <th>net_price</th>\n",
              "      <th>deposit</th>\n",
              "      <th>add_cost</th>\n",
              "    </tr>\n",
              "  </thead>\n",
              "  <tbody>\n",
              "    <tr>\n",
              "      <th>0</th>\n",
              "      <td>37</td>\n",
              "      <td>2</td>\n",
              "      <td>1.0</td>\n",
              "      <td>NaN</td>\n",
              "      <td>2100</td>\n",
              "      <td>2100</td>\n",
              "      <td>NaN</td>\n",
              "    </tr>\n",
              "    <tr>\n",
              "      <th>1</th>\n",
              "      <td>38</td>\n",
              "      <td>2</td>\n",
              "      <td>1.0</td>\n",
              "      <td>2020.0</td>\n",
              "      <td>1825</td>\n",
              "      <td>3400</td>\n",
              "      <td>350.0</td>\n",
              "    </tr>\n",
              "    <tr>\n",
              "      <th>2</th>\n",
              "      <td>57</td>\n",
              "      <td>3</td>\n",
              "      <td>1.0</td>\n",
              "      <td>1984.0</td>\n",
              "      <td>3300</td>\n",
              "      <td>3300</td>\n",
              "      <td>0.0</td>\n",
              "    </tr>\n",
              "    <tr>\n",
              "      <th>3</th>\n",
              "      <td>63</td>\n",
              "      <td>2</td>\n",
              "      <td>4.0</td>\n",
              "      <td>2005.0</td>\n",
              "      <td>2200</td>\n",
              "      <td>2200</td>\n",
              "      <td>NaN</td>\n",
              "    </tr>\n",
              "    <tr>\n",
              "      <th>4</th>\n",
              "      <td>65</td>\n",
              "      <td>3</td>\n",
              "      <td>3.0</td>\n",
              "      <td>1938.0</td>\n",
              "      <td>3000</td>\n",
              "      <td>3000</td>\n",
              "      <td>NaN</td>\n",
              "    </tr>\n",
              "    <tr>\n",
              "      <th>...</th>\n",
              "      <td>...</td>\n",
              "      <td>...</td>\n",
              "      <td>...</td>\n",
              "      <td>...</td>\n",
              "      <td>...</td>\n",
              "      <td>...</td>\n",
              "      <td>...</td>\n",
              "    </tr>\n",
              "    <tr>\n",
              "      <th>3477</th>\n",
              "      <td>45</td>\n",
              "      <td>1</td>\n",
              "      <td>3.0</td>\n",
              "      <td>NaN</td>\n",
              "      <td>2000</td>\n",
              "      <td>2500</td>\n",
              "      <td>350.0</td>\n",
              "    </tr>\n",
              "    <tr>\n",
              "      <th>3478</th>\n",
              "      <td>50</td>\n",
              "      <td>2</td>\n",
              "      <td>1.0</td>\n",
              "      <td>2006.0</td>\n",
              "      <td>3300</td>\n",
              "      <td>3000</td>\n",
              "      <td>NaN</td>\n",
              "    </tr>\n",
              "    <tr>\n",
              "      <th>3479</th>\n",
              "      <td>46</td>\n",
              "      <td>2</td>\n",
              "      <td>5.0</td>\n",
              "      <td>2015.0</td>\n",
              "      <td>2500</td>\n",
              "      <td>2500</td>\n",
              "      <td>NaN</td>\n",
              "    </tr>\n",
              "    <tr>\n",
              "      <th>3480</th>\n",
              "      <td>23</td>\n",
              "      <td>1</td>\n",
              "      <td>1.0</td>\n",
              "      <td>1938.0</td>\n",
              "      <td>1300</td>\n",
              "      <td>1700</td>\n",
              "      <td>270.0</td>\n",
              "    </tr>\n",
              "    <tr>\n",
              "      <th>3481</th>\n",
              "      <td>41</td>\n",
              "      <td>2</td>\n",
              "      <td>1.0</td>\n",
              "      <td>1990.0</td>\n",
              "      <td>2499</td>\n",
              "      <td>2500</td>\n",
              "      <td>0.0</td>\n",
              "    </tr>\n",
              "  </tbody>\n",
              "</table>\n",
              "<p>3472 rows × 7 columns</p>\n",
              "</div>"
            ],
            "text/plain": [
              "      area  room_num  floor  year_built  net_price  deposit  add_cost\n",
              "0       37         2    1.0         NaN       2100     2100       NaN\n",
              "1       38         2    1.0      2020.0       1825     3400     350.0\n",
              "2       57         3    1.0      1984.0       3300     3300       0.0\n",
              "3       63         2    4.0      2005.0       2200     2200       NaN\n",
              "4       65         3    3.0      1938.0       3000     3000       NaN\n",
              "...    ...       ...    ...         ...        ...      ...       ...\n",
              "3477    45         1    3.0         NaN       2000     2500     350.0\n",
              "3478    50         2    1.0      2006.0       3300     3000       NaN\n",
              "3479    46         2    5.0      2015.0       2500     2500       NaN\n",
              "3480    23         1    1.0      1938.0       1300     1700     270.0\n",
              "3481    41         2    1.0      1990.0       2499     2500       0.0\n",
              "\n",
              "[3472 rows x 7 columns]"
            ]
          },
          "metadata": {
            "tags": []
          },
          "execution_count": 83
        }
      ]
    },
    {
      "cell_type": "code",
      "metadata": {
        "colab": {
          "base_uri": "https://localhost:8080/"
        },
        "id": "oiBHgw20TyrA",
        "outputId": "56a28a4f-c8cb-48eb-bbfa-c1349c49c64d"
      },
      "source": [
        "df.isna().sum()"
      ],
      "execution_count": 84,
      "outputs": [
        {
          "output_type": "execute_result",
          "data": {
            "text/plain": [
              "net_price                  0\n",
              "area                       0\n",
              "room_num                   0\n",
              "floor                     80\n",
              "total_floor              436\n",
              "                        ... \n",
              "district_ Wola             0\n",
              "district_ Włochy           0\n",
              "district_ mazowieckie      0\n",
              "district_ Śródmieście      0\n",
              "district_ Żoliborz         0\n",
              "Length: 87, dtype: int64"
            ]
          },
          "metadata": {
            "tags": []
          },
          "execution_count": 84
        }
      ]
    },
    {
      "cell_type": "code",
      "metadata": {
        "colab": {
          "base_uri": "https://localhost:8080/",
          "height": 304
        },
        "id": "zkgcgU9vf6zJ",
        "outputId": "49348891-cad8-45e9-ac82-39a64c709035"
      },
      "source": [
        "from sklearn.impute import KNNImputer\r\n",
        "imputer = KNNImputer(n_neighbors=86)\r\n",
        "df = pd.DataFrame(imputer.fit_transform(df),columns = df.columns)\r\n",
        "df.sample(5)"
      ],
      "execution_count": 85,
      "outputs": [
        {
          "output_type": "execute_result",
          "data": {
            "text/html": [
              "<div>\n",
              "<style scoped>\n",
              "    .dataframe tbody tr th:only-of-type {\n",
              "        vertical-align: middle;\n",
              "    }\n",
              "\n",
              "    .dataframe tbody tr th {\n",
              "        vertical-align: top;\n",
              "    }\n",
              "\n",
              "    .dataframe thead th {\n",
              "        text-align: right;\n",
              "    }\n",
              "</style>\n",
              "<table border=\"1\" class=\"dataframe\">\n",
              "  <thead>\n",
              "    <tr style=\"text-align: right;\">\n",
              "      <th></th>\n",
              "      <th>net_price</th>\n",
              "      <th>area</th>\n",
              "      <th>room_num</th>\n",
              "      <th>floor</th>\n",
              "      <th>total_floor</th>\n",
              "      <th>year_built</th>\n",
              "      <th>add_cost</th>\n",
              "      <th>deposit</th>\n",
              "      <th>poddasze</th>\n",
              "      <th>dish_washer(zmywarka)</th>\n",
              "      <th>fridge(lodówka)</th>\n",
              "      <th>furniture(meble)</th>\n",
              "      <th>oven(piekarnik)</th>\n",
              "      <th>stove(kuchenka)</th>\n",
              "      <th>tv_set(telewizor)</th>\n",
              "      <th>washer(pralka)</th>\n",
              "      <th>secure_doors/windows(drzwi/okna_antywłamaniowe)</th>\n",
              "      <th>intercom/videophone(domofon/wideofon)</th>\n",
              "      <th>monitoring/security(monitoring/ochrona)</th>\n",
              "      <th>closed_area(teren_zamknięty)</th>\n",
              "      <th>balcony(balkon)</th>\n",
              "      <th>basement(piwnica)</th>\n",
              "      <th>garage/parking_space(garaż/miejsce_parkingowe)</th>\n",
              "      <th>alarm system(system alarmowy)</th>\n",
              "      <th>only_for_non-smokers(tylko_dla_niepalących)</th>\n",
              "      <th>anti-burglary blinds(rolety antywłamaniowe)</th>\n",
              "      <th>elevator(winda)</th>\n",
              "      <th>separate kitchen(oddzielna kuchnia)</th>\n",
              "      <th>internet</th>\n",
              "      <th>cable TV(telewizja kablowa)</th>\n",
              "      <th>telephone(telefon)</th>\n",
              "      <th>air conditioning(klimatyzacja)</th>\n",
              "      <th>available for students(wynajmę również studentom)</th>\n",
              "      <th>utility room(pom. użytkowe)</th>\n",
              "      <th>terrace(taras)</th>\n",
              "      <th>two-level(dwupoziomowe)</th>\n",
              "      <th>garden(ogródek)</th>\n",
              "      <th>build_type_Apartment_high_q(apartamentowiec)</th>\n",
              "      <th>build_type_Apartment_medium_q(blok)</th>\n",
              "      <th>build_type_Infill(plomba)</th>\n",
              "      <th>...</th>\n",
              "      <th>build_mat_Concrete_masonry_unit(pustak)</th>\n",
              "      <th>build_mat_Conreate_slab(wielka_płyta)</th>\n",
              "      <th>build_mat_Expanded_clay(keramzyt)</th>\n",
              "      <th>build_mat_Other(inne)</th>\n",
              "      <th>build_mat_Reinforced_concrete(żelbet)</th>\n",
              "      <th>build_mat_Silicate brick(silikat)</th>\n",
              "      <th>build_mat_Wood(drewno)</th>\n",
              "      <th>windows_Aluminum(aluminiowe)</th>\n",
              "      <th>windows_Plastic(plastikowe)</th>\n",
              "      <th>windows_Wooden(drewniane)</th>\n",
              "      <th>heating_Boiler(kotłownia)</th>\n",
              "      <th>heating_Central(miejskie)</th>\n",
              "      <th>heating_Electric(elektryczne)</th>\n",
              "      <th>heating_Gas(gazowe)</th>\n",
              "      <th>heating_Other(inne)</th>\n",
              "      <th>status_Not_ready_yet(do_wykończenia)</th>\n",
              "      <th>status_Ready(do_zamieszkania)</th>\n",
              "      <th>status_Renovation(do remontu)</th>\n",
              "      <th>district_ Bemowo</th>\n",
              "      <th>district_ Białołęka</th>\n",
              "      <th>district_ Bielany</th>\n",
              "      <th>district_ Centrum</th>\n",
              "      <th>district_ Metro Wilanowska</th>\n",
              "      <th>district_ Mokotów</th>\n",
              "      <th>district_ Ochota</th>\n",
              "      <th>district_ Praga-Południe</th>\n",
              "      <th>district_ Praga-Północ</th>\n",
              "      <th>district_ Rembertów</th>\n",
              "      <th>district_ Targówek</th>\n",
              "      <th>district_ Ursus</th>\n",
              "      <th>district_ Ursynów</th>\n",
              "      <th>district_ Warszawa</th>\n",
              "      <th>district_ Wawer</th>\n",
              "      <th>district_ Wesoła</th>\n",
              "      <th>district_ Wilanów</th>\n",
              "      <th>district_ Wola</th>\n",
              "      <th>district_ Włochy</th>\n",
              "      <th>district_ mazowieckie</th>\n",
              "      <th>district_ Śródmieście</th>\n",
              "      <th>district_ Żoliborz</th>\n",
              "    </tr>\n",
              "  </thead>\n",
              "  <tbody>\n",
              "    <tr>\n",
              "      <th>2157</th>\n",
              "      <td>2700.0</td>\n",
              "      <td>49.0</td>\n",
              "      <td>3.0</td>\n",
              "      <td>1.0</td>\n",
              "      <td>6.197674</td>\n",
              "      <td>2021.0</td>\n",
              "      <td>528.0</td>\n",
              "      <td>3000.0</td>\n",
              "      <td>0.0</td>\n",
              "      <td>1.0</td>\n",
              "      <td>1.0</td>\n",
              "      <td>0.0</td>\n",
              "      <td>1.0</td>\n",
              "      <td>1.0</td>\n",
              "      <td>0.0</td>\n",
              "      <td>1.0</td>\n",
              "      <td>0.0</td>\n",
              "      <td>0.0</td>\n",
              "      <td>0.0</td>\n",
              "      <td>0.0</td>\n",
              "      <td>1.0</td>\n",
              "      <td>0.0</td>\n",
              "      <td>0.0</td>\n",
              "      <td>0.0</td>\n",
              "      <td>0.0</td>\n",
              "      <td>0.0</td>\n",
              "      <td>1.0</td>\n",
              "      <td>0.0</td>\n",
              "      <td>1.0</td>\n",
              "      <td>1.0</td>\n",
              "      <td>1.0</td>\n",
              "      <td>0.0</td>\n",
              "      <td>0.0</td>\n",
              "      <td>0.0</td>\n",
              "      <td>0.0</td>\n",
              "      <td>0.0</td>\n",
              "      <td>0.0</td>\n",
              "      <td>1.0</td>\n",
              "      <td>0.0</td>\n",
              "      <td>0.0</td>\n",
              "      <td>...</td>\n",
              "      <td>0.0</td>\n",
              "      <td>0.0</td>\n",
              "      <td>0.0</td>\n",
              "      <td>0.0</td>\n",
              "      <td>0.0</td>\n",
              "      <td>0.0</td>\n",
              "      <td>0.0</td>\n",
              "      <td>0.0</td>\n",
              "      <td>0.0</td>\n",
              "      <td>0.0</td>\n",
              "      <td>0.0</td>\n",
              "      <td>1.0</td>\n",
              "      <td>0.0</td>\n",
              "      <td>0.0</td>\n",
              "      <td>0.0</td>\n",
              "      <td>0.0</td>\n",
              "      <td>0.0</td>\n",
              "      <td>0.0</td>\n",
              "      <td>0.0</td>\n",
              "      <td>0.0</td>\n",
              "      <td>0.0</td>\n",
              "      <td>0.0</td>\n",
              "      <td>0.0</td>\n",
              "      <td>0.0</td>\n",
              "      <td>0.0</td>\n",
              "      <td>0.0</td>\n",
              "      <td>0.0</td>\n",
              "      <td>0.0</td>\n",
              "      <td>0.0</td>\n",
              "      <td>0.0</td>\n",
              "      <td>0.0</td>\n",
              "      <td>0.0</td>\n",
              "      <td>0.0</td>\n",
              "      <td>0.0</td>\n",
              "      <td>0.0</td>\n",
              "      <td>0.0</td>\n",
              "      <td>0.0</td>\n",
              "      <td>0.0</td>\n",
              "      <td>0.0</td>\n",
              "      <td>1.0</td>\n",
              "    </tr>\n",
              "    <tr>\n",
              "      <th>1551</th>\n",
              "      <td>1600.0</td>\n",
              "      <td>25.0</td>\n",
              "      <td>1.0</td>\n",
              "      <td>1.0</td>\n",
              "      <td>7.000000</td>\n",
              "      <td>2020.0</td>\n",
              "      <td>240.0</td>\n",
              "      <td>1600.0</td>\n",
              "      <td>0.0</td>\n",
              "      <td>1.0</td>\n",
              "      <td>1.0</td>\n",
              "      <td>1.0</td>\n",
              "      <td>0.0</td>\n",
              "      <td>0.0</td>\n",
              "      <td>0.0</td>\n",
              "      <td>1.0</td>\n",
              "      <td>0.0</td>\n",
              "      <td>0.0</td>\n",
              "      <td>0.0</td>\n",
              "      <td>0.0</td>\n",
              "      <td>1.0</td>\n",
              "      <td>0.0</td>\n",
              "      <td>0.0</td>\n",
              "      <td>0.0</td>\n",
              "      <td>0.0</td>\n",
              "      <td>0.0</td>\n",
              "      <td>1.0</td>\n",
              "      <td>0.0</td>\n",
              "      <td>1.0</td>\n",
              "      <td>0.0</td>\n",
              "      <td>0.0</td>\n",
              "      <td>0.0</td>\n",
              "      <td>0.0</td>\n",
              "      <td>1.0</td>\n",
              "      <td>0.0</td>\n",
              "      <td>0.0</td>\n",
              "      <td>0.0</td>\n",
              "      <td>0.0</td>\n",
              "      <td>1.0</td>\n",
              "      <td>0.0</td>\n",
              "      <td>...</td>\n",
              "      <td>0.0</td>\n",
              "      <td>0.0</td>\n",
              "      <td>0.0</td>\n",
              "      <td>0.0</td>\n",
              "      <td>0.0</td>\n",
              "      <td>0.0</td>\n",
              "      <td>0.0</td>\n",
              "      <td>0.0</td>\n",
              "      <td>1.0</td>\n",
              "      <td>0.0</td>\n",
              "      <td>0.0</td>\n",
              "      <td>1.0</td>\n",
              "      <td>0.0</td>\n",
              "      <td>0.0</td>\n",
              "      <td>0.0</td>\n",
              "      <td>0.0</td>\n",
              "      <td>1.0</td>\n",
              "      <td>0.0</td>\n",
              "      <td>0.0</td>\n",
              "      <td>0.0</td>\n",
              "      <td>0.0</td>\n",
              "      <td>0.0</td>\n",
              "      <td>0.0</td>\n",
              "      <td>1.0</td>\n",
              "      <td>0.0</td>\n",
              "      <td>0.0</td>\n",
              "      <td>0.0</td>\n",
              "      <td>0.0</td>\n",
              "      <td>0.0</td>\n",
              "      <td>0.0</td>\n",
              "      <td>0.0</td>\n",
              "      <td>0.0</td>\n",
              "      <td>0.0</td>\n",
              "      <td>0.0</td>\n",
              "      <td>0.0</td>\n",
              "      <td>0.0</td>\n",
              "      <td>0.0</td>\n",
              "      <td>0.0</td>\n",
              "      <td>0.0</td>\n",
              "      <td>0.0</td>\n",
              "    </tr>\n",
              "    <tr>\n",
              "      <th>1752</th>\n",
              "      <td>2800.0</td>\n",
              "      <td>58.0</td>\n",
              "      <td>2.0</td>\n",
              "      <td>4.0</td>\n",
              "      <td>6.000000</td>\n",
              "      <td>2005.0</td>\n",
              "      <td>525.0</td>\n",
              "      <td>3600.0</td>\n",
              "      <td>0.0</td>\n",
              "      <td>1.0</td>\n",
              "      <td>1.0</td>\n",
              "      <td>1.0</td>\n",
              "      <td>1.0</td>\n",
              "      <td>1.0</td>\n",
              "      <td>1.0</td>\n",
              "      <td>1.0</td>\n",
              "      <td>0.0</td>\n",
              "      <td>0.0</td>\n",
              "      <td>0.0</td>\n",
              "      <td>0.0</td>\n",
              "      <td>1.0</td>\n",
              "      <td>0.0</td>\n",
              "      <td>0.0</td>\n",
              "      <td>0.0</td>\n",
              "      <td>0.0</td>\n",
              "      <td>0.0</td>\n",
              "      <td>0.0</td>\n",
              "      <td>0.0</td>\n",
              "      <td>1.0</td>\n",
              "      <td>1.0</td>\n",
              "      <td>0.0</td>\n",
              "      <td>0.0</td>\n",
              "      <td>0.0</td>\n",
              "      <td>0.0</td>\n",
              "      <td>0.0</td>\n",
              "      <td>0.0</td>\n",
              "      <td>0.0</td>\n",
              "      <td>1.0</td>\n",
              "      <td>0.0</td>\n",
              "      <td>0.0</td>\n",
              "      <td>...</td>\n",
              "      <td>0.0</td>\n",
              "      <td>0.0</td>\n",
              "      <td>0.0</td>\n",
              "      <td>0.0</td>\n",
              "      <td>0.0</td>\n",
              "      <td>0.0</td>\n",
              "      <td>0.0</td>\n",
              "      <td>0.0</td>\n",
              "      <td>0.0</td>\n",
              "      <td>1.0</td>\n",
              "      <td>0.0</td>\n",
              "      <td>1.0</td>\n",
              "      <td>0.0</td>\n",
              "      <td>0.0</td>\n",
              "      <td>0.0</td>\n",
              "      <td>0.0</td>\n",
              "      <td>1.0</td>\n",
              "      <td>0.0</td>\n",
              "      <td>0.0</td>\n",
              "      <td>0.0</td>\n",
              "      <td>0.0</td>\n",
              "      <td>0.0</td>\n",
              "      <td>0.0</td>\n",
              "      <td>0.0</td>\n",
              "      <td>0.0</td>\n",
              "      <td>0.0</td>\n",
              "      <td>0.0</td>\n",
              "      <td>0.0</td>\n",
              "      <td>0.0</td>\n",
              "      <td>0.0</td>\n",
              "      <td>0.0</td>\n",
              "      <td>0.0</td>\n",
              "      <td>0.0</td>\n",
              "      <td>0.0</td>\n",
              "      <td>0.0</td>\n",
              "      <td>0.0</td>\n",
              "      <td>0.0</td>\n",
              "      <td>0.0</td>\n",
              "      <td>1.0</td>\n",
              "      <td>0.0</td>\n",
              "    </tr>\n",
              "    <tr>\n",
              "      <th>1883</th>\n",
              "      <td>3690.0</td>\n",
              "      <td>56.0</td>\n",
              "      <td>3.0</td>\n",
              "      <td>2.0</td>\n",
              "      <td>4.000000</td>\n",
              "      <td>2017.0</td>\n",
              "      <td>600.0</td>\n",
              "      <td>5000.0</td>\n",
              "      <td>0.0</td>\n",
              "      <td>1.0</td>\n",
              "      <td>1.0</td>\n",
              "      <td>1.0</td>\n",
              "      <td>1.0</td>\n",
              "      <td>1.0</td>\n",
              "      <td>1.0</td>\n",
              "      <td>1.0</td>\n",
              "      <td>0.0</td>\n",
              "      <td>0.0</td>\n",
              "      <td>0.0</td>\n",
              "      <td>0.0</td>\n",
              "      <td>1.0</td>\n",
              "      <td>1.0</td>\n",
              "      <td>0.0</td>\n",
              "      <td>1.0</td>\n",
              "      <td>0.0</td>\n",
              "      <td>0.0</td>\n",
              "      <td>1.0</td>\n",
              "      <td>0.0</td>\n",
              "      <td>1.0</td>\n",
              "      <td>1.0</td>\n",
              "      <td>0.0</td>\n",
              "      <td>0.0</td>\n",
              "      <td>0.0</td>\n",
              "      <td>1.0</td>\n",
              "      <td>1.0</td>\n",
              "      <td>0.0</td>\n",
              "      <td>0.0</td>\n",
              "      <td>1.0</td>\n",
              "      <td>0.0</td>\n",
              "      <td>0.0</td>\n",
              "      <td>...</td>\n",
              "      <td>0.0</td>\n",
              "      <td>0.0</td>\n",
              "      <td>0.0</td>\n",
              "      <td>0.0</td>\n",
              "      <td>0.0</td>\n",
              "      <td>0.0</td>\n",
              "      <td>0.0</td>\n",
              "      <td>0.0</td>\n",
              "      <td>1.0</td>\n",
              "      <td>0.0</td>\n",
              "      <td>0.0</td>\n",
              "      <td>1.0</td>\n",
              "      <td>0.0</td>\n",
              "      <td>0.0</td>\n",
              "      <td>0.0</td>\n",
              "      <td>0.0</td>\n",
              "      <td>1.0</td>\n",
              "      <td>0.0</td>\n",
              "      <td>0.0</td>\n",
              "      <td>0.0</td>\n",
              "      <td>0.0</td>\n",
              "      <td>0.0</td>\n",
              "      <td>0.0</td>\n",
              "      <td>0.0</td>\n",
              "      <td>0.0</td>\n",
              "      <td>0.0</td>\n",
              "      <td>0.0</td>\n",
              "      <td>0.0</td>\n",
              "      <td>0.0</td>\n",
              "      <td>0.0</td>\n",
              "      <td>0.0</td>\n",
              "      <td>0.0</td>\n",
              "      <td>0.0</td>\n",
              "      <td>0.0</td>\n",
              "      <td>1.0</td>\n",
              "      <td>0.0</td>\n",
              "      <td>0.0</td>\n",
              "      <td>0.0</td>\n",
              "      <td>0.0</td>\n",
              "      <td>0.0</td>\n",
              "    </tr>\n",
              "    <tr>\n",
              "      <th>1850</th>\n",
              "      <td>2200.0</td>\n",
              "      <td>52.0</td>\n",
              "      <td>2.0</td>\n",
              "      <td>5.0</td>\n",
              "      <td>6.000000</td>\n",
              "      <td>2011.0</td>\n",
              "      <td>450.0</td>\n",
              "      <td>2000.0</td>\n",
              "      <td>0.0</td>\n",
              "      <td>1.0</td>\n",
              "      <td>1.0</td>\n",
              "      <td>1.0</td>\n",
              "      <td>1.0</td>\n",
              "      <td>1.0</td>\n",
              "      <td>0.0</td>\n",
              "      <td>1.0</td>\n",
              "      <td>0.0</td>\n",
              "      <td>0.0</td>\n",
              "      <td>0.0</td>\n",
              "      <td>0.0</td>\n",
              "      <td>1.0</td>\n",
              "      <td>0.0</td>\n",
              "      <td>0.0</td>\n",
              "      <td>0.0</td>\n",
              "      <td>0.0</td>\n",
              "      <td>0.0</td>\n",
              "      <td>1.0</td>\n",
              "      <td>1.0</td>\n",
              "      <td>0.0</td>\n",
              "      <td>0.0</td>\n",
              "      <td>0.0</td>\n",
              "      <td>0.0</td>\n",
              "      <td>1.0</td>\n",
              "      <td>0.0</td>\n",
              "      <td>1.0</td>\n",
              "      <td>0.0</td>\n",
              "      <td>0.0</td>\n",
              "      <td>0.0</td>\n",
              "      <td>1.0</td>\n",
              "      <td>0.0</td>\n",
              "      <td>...</td>\n",
              "      <td>0.0</td>\n",
              "      <td>0.0</td>\n",
              "      <td>0.0</td>\n",
              "      <td>0.0</td>\n",
              "      <td>0.0</td>\n",
              "      <td>0.0</td>\n",
              "      <td>0.0</td>\n",
              "      <td>0.0</td>\n",
              "      <td>0.0</td>\n",
              "      <td>1.0</td>\n",
              "      <td>0.0</td>\n",
              "      <td>1.0</td>\n",
              "      <td>0.0</td>\n",
              "      <td>0.0</td>\n",
              "      <td>0.0</td>\n",
              "      <td>0.0</td>\n",
              "      <td>1.0</td>\n",
              "      <td>0.0</td>\n",
              "      <td>1.0</td>\n",
              "      <td>0.0</td>\n",
              "      <td>0.0</td>\n",
              "      <td>0.0</td>\n",
              "      <td>0.0</td>\n",
              "      <td>0.0</td>\n",
              "      <td>0.0</td>\n",
              "      <td>0.0</td>\n",
              "      <td>0.0</td>\n",
              "      <td>0.0</td>\n",
              "      <td>0.0</td>\n",
              "      <td>0.0</td>\n",
              "      <td>0.0</td>\n",
              "      <td>0.0</td>\n",
              "      <td>0.0</td>\n",
              "      <td>0.0</td>\n",
              "      <td>0.0</td>\n",
              "      <td>0.0</td>\n",
              "      <td>0.0</td>\n",
              "      <td>0.0</td>\n",
              "      <td>0.0</td>\n",
              "      <td>0.0</td>\n",
              "    </tr>\n",
              "  </tbody>\n",
              "</table>\n",
              "<p>5 rows × 87 columns</p>\n",
              "</div>"
            ],
            "text/plain": [
              "      net_price  area  ...  district_ Śródmieście  district_ Żoliborz\n",
              "2157     2700.0  49.0  ...                    0.0                 1.0\n",
              "1551     1600.0  25.0  ...                    0.0                 0.0\n",
              "1752     2800.0  58.0  ...                    1.0                 0.0\n",
              "1883     3690.0  56.0  ...                    0.0                 0.0\n",
              "1850     2200.0  52.0  ...                    0.0                 0.0\n",
              "\n",
              "[5 rows x 87 columns]"
            ]
          },
          "metadata": {
            "tags": []
          },
          "execution_count": 85
        }
      ]
    },
    {
      "cell_type": "markdown",
      "metadata": {
        "id": "oaJQtGyfK8fl"
      },
      "source": [
        "# Gross_price - main target"
      ]
    },
    {
      "cell_type": "code",
      "metadata": {
        "id": "BFq5IK1IQY7m"
      },
      "source": [
        "df['gross_price'] = df.net_price + df.add_cost\r\n",
        "df.drop(['net_price', 'deposit','add_cost'], axis=1, inplace=True)\r\n",
        "\r\n",
        "y=df.gross_price\r\n",
        "X = df.drop('gross_price', axis=1)"
      ],
      "execution_count": 86,
      "outputs": []
    },
    {
      "cell_type": "code",
      "metadata": {
        "id": "DX_GOmpwF-qn"
      },
      "source": [
        "df.to_csv('data_clean.csv', index=False)"
      ],
      "execution_count": 87,
      "outputs": []
    },
    {
      "cell_type": "code",
      "metadata": {
        "colab": {
          "base_uri": "https://localhost:8080/",
          "height": 490
        },
        "id": "jjWKyVxAGEnz",
        "outputId": "25d411e2-bbbb-4937-8742-20437f5a6065"
      },
      "source": [
        "df"
      ],
      "execution_count": 88,
      "outputs": [
        {
          "output_type": "execute_result",
          "data": {
            "text/html": [
              "<div>\n",
              "<style scoped>\n",
              "    .dataframe tbody tr th:only-of-type {\n",
              "        vertical-align: middle;\n",
              "    }\n",
              "\n",
              "    .dataframe tbody tr th {\n",
              "        vertical-align: top;\n",
              "    }\n",
              "\n",
              "    .dataframe thead th {\n",
              "        text-align: right;\n",
              "    }\n",
              "</style>\n",
              "<table border=\"1\" class=\"dataframe\">\n",
              "  <thead>\n",
              "    <tr style=\"text-align: right;\">\n",
              "      <th></th>\n",
              "      <th>area</th>\n",
              "      <th>room_num</th>\n",
              "      <th>floor</th>\n",
              "      <th>total_floor</th>\n",
              "      <th>year_built</th>\n",
              "      <th>poddasze</th>\n",
              "      <th>dish_washer(zmywarka)</th>\n",
              "      <th>fridge(lodówka)</th>\n",
              "      <th>furniture(meble)</th>\n",
              "      <th>oven(piekarnik)</th>\n",
              "      <th>stove(kuchenka)</th>\n",
              "      <th>tv_set(telewizor)</th>\n",
              "      <th>washer(pralka)</th>\n",
              "      <th>secure_doors/windows(drzwi/okna_antywłamaniowe)</th>\n",
              "      <th>intercom/videophone(domofon/wideofon)</th>\n",
              "      <th>monitoring/security(monitoring/ochrona)</th>\n",
              "      <th>closed_area(teren_zamknięty)</th>\n",
              "      <th>balcony(balkon)</th>\n",
              "      <th>basement(piwnica)</th>\n",
              "      <th>garage/parking_space(garaż/miejsce_parkingowe)</th>\n",
              "      <th>alarm system(system alarmowy)</th>\n",
              "      <th>only_for_non-smokers(tylko_dla_niepalących)</th>\n",
              "      <th>anti-burglary blinds(rolety antywłamaniowe)</th>\n",
              "      <th>elevator(winda)</th>\n",
              "      <th>separate kitchen(oddzielna kuchnia)</th>\n",
              "      <th>internet</th>\n",
              "      <th>cable TV(telewizja kablowa)</th>\n",
              "      <th>telephone(telefon)</th>\n",
              "      <th>air conditioning(klimatyzacja)</th>\n",
              "      <th>available for students(wynajmę również studentom)</th>\n",
              "      <th>utility room(pom. użytkowe)</th>\n",
              "      <th>terrace(taras)</th>\n",
              "      <th>two-level(dwupoziomowe)</th>\n",
              "      <th>garden(ogródek)</th>\n",
              "      <th>build_type_Apartment_high_q(apartamentowiec)</th>\n",
              "      <th>build_type_Apartment_medium_q(blok)</th>\n",
              "      <th>build_type_Infill(plomba)</th>\n",
              "      <th>build_type_Loft/attic(loft)</th>\n",
              "      <th>build_type_Private_house_1+_fam(szeregowiec)</th>\n",
              "      <th>build_type_Private_house_1_fam(dom wolnostojący)</th>\n",
              "      <th>...</th>\n",
              "      <th>build_mat_Conreate_slab(wielka_płyta)</th>\n",
              "      <th>build_mat_Expanded_clay(keramzyt)</th>\n",
              "      <th>build_mat_Other(inne)</th>\n",
              "      <th>build_mat_Reinforced_concrete(żelbet)</th>\n",
              "      <th>build_mat_Silicate brick(silikat)</th>\n",
              "      <th>build_mat_Wood(drewno)</th>\n",
              "      <th>windows_Aluminum(aluminiowe)</th>\n",
              "      <th>windows_Plastic(plastikowe)</th>\n",
              "      <th>windows_Wooden(drewniane)</th>\n",
              "      <th>heating_Boiler(kotłownia)</th>\n",
              "      <th>heating_Central(miejskie)</th>\n",
              "      <th>heating_Electric(elektryczne)</th>\n",
              "      <th>heating_Gas(gazowe)</th>\n",
              "      <th>heating_Other(inne)</th>\n",
              "      <th>status_Not_ready_yet(do_wykończenia)</th>\n",
              "      <th>status_Ready(do_zamieszkania)</th>\n",
              "      <th>status_Renovation(do remontu)</th>\n",
              "      <th>district_ Bemowo</th>\n",
              "      <th>district_ Białołęka</th>\n",
              "      <th>district_ Bielany</th>\n",
              "      <th>district_ Centrum</th>\n",
              "      <th>district_ Metro Wilanowska</th>\n",
              "      <th>district_ Mokotów</th>\n",
              "      <th>district_ Ochota</th>\n",
              "      <th>district_ Praga-Południe</th>\n",
              "      <th>district_ Praga-Północ</th>\n",
              "      <th>district_ Rembertów</th>\n",
              "      <th>district_ Targówek</th>\n",
              "      <th>district_ Ursus</th>\n",
              "      <th>district_ Ursynów</th>\n",
              "      <th>district_ Warszawa</th>\n",
              "      <th>district_ Wawer</th>\n",
              "      <th>district_ Wesoła</th>\n",
              "      <th>district_ Wilanów</th>\n",
              "      <th>district_ Wola</th>\n",
              "      <th>district_ Włochy</th>\n",
              "      <th>district_ mazowieckie</th>\n",
              "      <th>district_ Śródmieście</th>\n",
              "      <th>district_ Żoliborz</th>\n",
              "      <th>gross_price</th>\n",
              "    </tr>\n",
              "  </thead>\n",
              "  <tbody>\n",
              "    <tr>\n",
              "      <th>0</th>\n",
              "      <td>37.0</td>\n",
              "      <td>2.0</td>\n",
              "      <td>1.0</td>\n",
              "      <td>4.000000</td>\n",
              "      <td>2001.453488</td>\n",
              "      <td>0.0</td>\n",
              "      <td>1.0</td>\n",
              "      <td>1.0</td>\n",
              "      <td>1.0</td>\n",
              "      <td>1.0</td>\n",
              "      <td>1.0</td>\n",
              "      <td>1.0</td>\n",
              "      <td>1.0</td>\n",
              "      <td>0.0</td>\n",
              "      <td>0.0</td>\n",
              "      <td>0.0</td>\n",
              "      <td>0.0</td>\n",
              "      <td>0.0</td>\n",
              "      <td>0.0</td>\n",
              "      <td>0.0</td>\n",
              "      <td>0.0</td>\n",
              "      <td>0.0</td>\n",
              "      <td>0.0</td>\n",
              "      <td>0.0</td>\n",
              "      <td>0.0</td>\n",
              "      <td>1.0</td>\n",
              "      <td>0.0</td>\n",
              "      <td>0.0</td>\n",
              "      <td>1.0</td>\n",
              "      <td>0.0</td>\n",
              "      <td>0.0</td>\n",
              "      <td>0.0</td>\n",
              "      <td>0.0</td>\n",
              "      <td>0.0</td>\n",
              "      <td>0.0</td>\n",
              "      <td>0.0</td>\n",
              "      <td>0.0</td>\n",
              "      <td>0.0</td>\n",
              "      <td>0.0</td>\n",
              "      <td>0.0</td>\n",
              "      <td>...</td>\n",
              "      <td>0.0</td>\n",
              "      <td>0.0</td>\n",
              "      <td>0.0</td>\n",
              "      <td>0.0</td>\n",
              "      <td>0.0</td>\n",
              "      <td>0.0</td>\n",
              "      <td>0.0</td>\n",
              "      <td>1.0</td>\n",
              "      <td>0.0</td>\n",
              "      <td>0.0</td>\n",
              "      <td>0.0</td>\n",
              "      <td>0.0</td>\n",
              "      <td>0.0</td>\n",
              "      <td>0.0</td>\n",
              "      <td>0.0</td>\n",
              "      <td>1.0</td>\n",
              "      <td>0.0</td>\n",
              "      <td>0.0</td>\n",
              "      <td>0.0</td>\n",
              "      <td>0.0</td>\n",
              "      <td>0.0</td>\n",
              "      <td>0.0</td>\n",
              "      <td>0.0</td>\n",
              "      <td>0.0</td>\n",
              "      <td>0.0</td>\n",
              "      <td>0.0</td>\n",
              "      <td>0.0</td>\n",
              "      <td>0.0</td>\n",
              "      <td>0.0</td>\n",
              "      <td>0.0</td>\n",
              "      <td>0.0</td>\n",
              "      <td>0.0</td>\n",
              "      <td>0.0</td>\n",
              "      <td>0.0</td>\n",
              "      <td>0.0</td>\n",
              "      <td>1.0</td>\n",
              "      <td>0.0</td>\n",
              "      <td>0.0</td>\n",
              "      <td>0.0</td>\n",
              "      <td>2435.244186</td>\n",
              "    </tr>\n",
              "    <tr>\n",
              "      <th>1</th>\n",
              "      <td>38.0</td>\n",
              "      <td>2.0</td>\n",
              "      <td>1.0</td>\n",
              "      <td>5.802326</td>\n",
              "      <td>2020.000000</td>\n",
              "      <td>0.0</td>\n",
              "      <td>1.0</td>\n",
              "      <td>1.0</td>\n",
              "      <td>1.0</td>\n",
              "      <td>1.0</td>\n",
              "      <td>1.0</td>\n",
              "      <td>0.0</td>\n",
              "      <td>1.0</td>\n",
              "      <td>0.0</td>\n",
              "      <td>0.0</td>\n",
              "      <td>0.0</td>\n",
              "      <td>0.0</td>\n",
              "      <td>0.0</td>\n",
              "      <td>0.0</td>\n",
              "      <td>0.0</td>\n",
              "      <td>0.0</td>\n",
              "      <td>0.0</td>\n",
              "      <td>0.0</td>\n",
              "      <td>1.0</td>\n",
              "      <td>0.0</td>\n",
              "      <td>1.0</td>\n",
              "      <td>1.0</td>\n",
              "      <td>0.0</td>\n",
              "      <td>0.0</td>\n",
              "      <td>0.0</td>\n",
              "      <td>1.0</td>\n",
              "      <td>0.0</td>\n",
              "      <td>0.0</td>\n",
              "      <td>0.0</td>\n",
              "      <td>0.0</td>\n",
              "      <td>1.0</td>\n",
              "      <td>0.0</td>\n",
              "      <td>0.0</td>\n",
              "      <td>0.0</td>\n",
              "      <td>0.0</td>\n",
              "      <td>...</td>\n",
              "      <td>0.0</td>\n",
              "      <td>0.0</td>\n",
              "      <td>0.0</td>\n",
              "      <td>0.0</td>\n",
              "      <td>0.0</td>\n",
              "      <td>0.0</td>\n",
              "      <td>0.0</td>\n",
              "      <td>1.0</td>\n",
              "      <td>0.0</td>\n",
              "      <td>0.0</td>\n",
              "      <td>1.0</td>\n",
              "      <td>0.0</td>\n",
              "      <td>0.0</td>\n",
              "      <td>0.0</td>\n",
              "      <td>0.0</td>\n",
              "      <td>1.0</td>\n",
              "      <td>0.0</td>\n",
              "      <td>0.0</td>\n",
              "      <td>0.0</td>\n",
              "      <td>0.0</td>\n",
              "      <td>0.0</td>\n",
              "      <td>0.0</td>\n",
              "      <td>1.0</td>\n",
              "      <td>0.0</td>\n",
              "      <td>0.0</td>\n",
              "      <td>0.0</td>\n",
              "      <td>0.0</td>\n",
              "      <td>0.0</td>\n",
              "      <td>0.0</td>\n",
              "      <td>0.0</td>\n",
              "      <td>0.0</td>\n",
              "      <td>0.0</td>\n",
              "      <td>0.0</td>\n",
              "      <td>0.0</td>\n",
              "      <td>0.0</td>\n",
              "      <td>0.0</td>\n",
              "      <td>0.0</td>\n",
              "      <td>0.0</td>\n",
              "      <td>0.0</td>\n",
              "      <td>2175.000000</td>\n",
              "    </tr>\n",
              "    <tr>\n",
              "      <th>2</th>\n",
              "      <td>57.0</td>\n",
              "      <td>3.0</td>\n",
              "      <td>1.0</td>\n",
              "      <td>15.000000</td>\n",
              "      <td>1984.000000</td>\n",
              "      <td>0.0</td>\n",
              "      <td>1.0</td>\n",
              "      <td>1.0</td>\n",
              "      <td>1.0</td>\n",
              "      <td>1.0</td>\n",
              "      <td>1.0</td>\n",
              "      <td>1.0</td>\n",
              "      <td>1.0</td>\n",
              "      <td>0.0</td>\n",
              "      <td>0.0</td>\n",
              "      <td>0.0</td>\n",
              "      <td>0.0</td>\n",
              "      <td>1.0</td>\n",
              "      <td>0.0</td>\n",
              "      <td>0.0</td>\n",
              "      <td>0.0</td>\n",
              "      <td>0.0</td>\n",
              "      <td>0.0</td>\n",
              "      <td>0.0</td>\n",
              "      <td>1.0</td>\n",
              "      <td>1.0</td>\n",
              "      <td>1.0</td>\n",
              "      <td>0.0</td>\n",
              "      <td>0.0</td>\n",
              "      <td>0.0</td>\n",
              "      <td>0.0</td>\n",
              "      <td>0.0</td>\n",
              "      <td>0.0</td>\n",
              "      <td>0.0</td>\n",
              "      <td>0.0</td>\n",
              "      <td>1.0</td>\n",
              "      <td>0.0</td>\n",
              "      <td>0.0</td>\n",
              "      <td>0.0</td>\n",
              "      <td>0.0</td>\n",
              "      <td>...</td>\n",
              "      <td>1.0</td>\n",
              "      <td>0.0</td>\n",
              "      <td>0.0</td>\n",
              "      <td>0.0</td>\n",
              "      <td>0.0</td>\n",
              "      <td>0.0</td>\n",
              "      <td>0.0</td>\n",
              "      <td>0.0</td>\n",
              "      <td>1.0</td>\n",
              "      <td>0.0</td>\n",
              "      <td>1.0</td>\n",
              "      <td>0.0</td>\n",
              "      <td>0.0</td>\n",
              "      <td>0.0</td>\n",
              "      <td>0.0</td>\n",
              "      <td>1.0</td>\n",
              "      <td>0.0</td>\n",
              "      <td>0.0</td>\n",
              "      <td>0.0</td>\n",
              "      <td>1.0</td>\n",
              "      <td>0.0</td>\n",
              "      <td>0.0</td>\n",
              "      <td>0.0</td>\n",
              "      <td>0.0</td>\n",
              "      <td>0.0</td>\n",
              "      <td>0.0</td>\n",
              "      <td>0.0</td>\n",
              "      <td>0.0</td>\n",
              "      <td>0.0</td>\n",
              "      <td>0.0</td>\n",
              "      <td>0.0</td>\n",
              "      <td>0.0</td>\n",
              "      <td>0.0</td>\n",
              "      <td>0.0</td>\n",
              "      <td>0.0</td>\n",
              "      <td>0.0</td>\n",
              "      <td>0.0</td>\n",
              "      <td>0.0</td>\n",
              "      <td>0.0</td>\n",
              "      <td>3300.000000</td>\n",
              "    </tr>\n",
              "    <tr>\n",
              "      <th>3</th>\n",
              "      <td>63.0</td>\n",
              "      <td>2.0</td>\n",
              "      <td>4.0</td>\n",
              "      <td>5.000000</td>\n",
              "      <td>2005.000000</td>\n",
              "      <td>0.0</td>\n",
              "      <td>1.0</td>\n",
              "      <td>1.0</td>\n",
              "      <td>1.0</td>\n",
              "      <td>1.0</td>\n",
              "      <td>1.0</td>\n",
              "      <td>1.0</td>\n",
              "      <td>1.0</td>\n",
              "      <td>0.0</td>\n",
              "      <td>0.0</td>\n",
              "      <td>0.0</td>\n",
              "      <td>0.0</td>\n",
              "      <td>1.0</td>\n",
              "      <td>0.0</td>\n",
              "      <td>0.0</td>\n",
              "      <td>0.0</td>\n",
              "      <td>0.0</td>\n",
              "      <td>0.0</td>\n",
              "      <td>0.0</td>\n",
              "      <td>0.0</td>\n",
              "      <td>0.0</td>\n",
              "      <td>0.0</td>\n",
              "      <td>0.0</td>\n",
              "      <td>0.0</td>\n",
              "      <td>0.0</td>\n",
              "      <td>0.0</td>\n",
              "      <td>0.0</td>\n",
              "      <td>0.0</td>\n",
              "      <td>0.0</td>\n",
              "      <td>0.0</td>\n",
              "      <td>1.0</td>\n",
              "      <td>0.0</td>\n",
              "      <td>0.0</td>\n",
              "      <td>0.0</td>\n",
              "      <td>0.0</td>\n",
              "      <td>...</td>\n",
              "      <td>0.0</td>\n",
              "      <td>0.0</td>\n",
              "      <td>0.0</td>\n",
              "      <td>0.0</td>\n",
              "      <td>0.0</td>\n",
              "      <td>0.0</td>\n",
              "      <td>0.0</td>\n",
              "      <td>0.0</td>\n",
              "      <td>1.0</td>\n",
              "      <td>0.0</td>\n",
              "      <td>1.0</td>\n",
              "      <td>0.0</td>\n",
              "      <td>0.0</td>\n",
              "      <td>0.0</td>\n",
              "      <td>0.0</td>\n",
              "      <td>1.0</td>\n",
              "      <td>0.0</td>\n",
              "      <td>0.0</td>\n",
              "      <td>0.0</td>\n",
              "      <td>0.0</td>\n",
              "      <td>0.0</td>\n",
              "      <td>0.0</td>\n",
              "      <td>0.0</td>\n",
              "      <td>0.0</td>\n",
              "      <td>0.0</td>\n",
              "      <td>0.0</td>\n",
              "      <td>0.0</td>\n",
              "      <td>1.0</td>\n",
              "      <td>0.0</td>\n",
              "      <td>0.0</td>\n",
              "      <td>0.0</td>\n",
              "      <td>0.0</td>\n",
              "      <td>0.0</td>\n",
              "      <td>0.0</td>\n",
              "      <td>0.0</td>\n",
              "      <td>0.0</td>\n",
              "      <td>0.0</td>\n",
              "      <td>0.0</td>\n",
              "      <td>0.0</td>\n",
              "      <td>2585.046512</td>\n",
              "    </tr>\n",
              "    <tr>\n",
              "      <th>4</th>\n",
              "      <td>65.0</td>\n",
              "      <td>3.0</td>\n",
              "      <td>3.0</td>\n",
              "      <td>4.000000</td>\n",
              "      <td>1938.000000</td>\n",
              "      <td>0.0</td>\n",
              "      <td>1.0</td>\n",
              "      <td>1.0</td>\n",
              "      <td>1.0</td>\n",
              "      <td>1.0</td>\n",
              "      <td>1.0</td>\n",
              "      <td>0.0</td>\n",
              "      <td>1.0</td>\n",
              "      <td>0.0</td>\n",
              "      <td>0.0</td>\n",
              "      <td>0.0</td>\n",
              "      <td>0.0</td>\n",
              "      <td>0.0</td>\n",
              "      <td>1.0</td>\n",
              "      <td>0.0</td>\n",
              "      <td>0.0</td>\n",
              "      <td>0.0</td>\n",
              "      <td>0.0</td>\n",
              "      <td>1.0</td>\n",
              "      <td>1.0</td>\n",
              "      <td>0.0</td>\n",
              "      <td>0.0</td>\n",
              "      <td>0.0</td>\n",
              "      <td>0.0</td>\n",
              "      <td>0.0</td>\n",
              "      <td>0.0</td>\n",
              "      <td>0.0</td>\n",
              "      <td>0.0</td>\n",
              "      <td>0.0</td>\n",
              "      <td>0.0</td>\n",
              "      <td>0.0</td>\n",
              "      <td>0.0</td>\n",
              "      <td>0.0</td>\n",
              "      <td>0.0</td>\n",
              "      <td>0.0</td>\n",
              "      <td>...</td>\n",
              "      <td>0.0</td>\n",
              "      <td>0.0</td>\n",
              "      <td>0.0</td>\n",
              "      <td>0.0</td>\n",
              "      <td>0.0</td>\n",
              "      <td>0.0</td>\n",
              "      <td>0.0</td>\n",
              "      <td>1.0</td>\n",
              "      <td>0.0</td>\n",
              "      <td>0.0</td>\n",
              "      <td>1.0</td>\n",
              "      <td>0.0</td>\n",
              "      <td>0.0</td>\n",
              "      <td>0.0</td>\n",
              "      <td>0.0</td>\n",
              "      <td>1.0</td>\n",
              "      <td>0.0</td>\n",
              "      <td>0.0</td>\n",
              "      <td>0.0</td>\n",
              "      <td>0.0</td>\n",
              "      <td>0.0</td>\n",
              "      <td>0.0</td>\n",
              "      <td>0.0</td>\n",
              "      <td>1.0</td>\n",
              "      <td>0.0</td>\n",
              "      <td>0.0</td>\n",
              "      <td>0.0</td>\n",
              "      <td>0.0</td>\n",
              "      <td>0.0</td>\n",
              "      <td>0.0</td>\n",
              "      <td>0.0</td>\n",
              "      <td>0.0</td>\n",
              "      <td>0.0</td>\n",
              "      <td>0.0</td>\n",
              "      <td>0.0</td>\n",
              "      <td>0.0</td>\n",
              "      <td>0.0</td>\n",
              "      <td>0.0</td>\n",
              "      <td>0.0</td>\n",
              "      <td>3424.918605</td>\n",
              "    </tr>\n",
              "    <tr>\n",
              "      <th>...</th>\n",
              "      <td>...</td>\n",
              "      <td>...</td>\n",
              "      <td>...</td>\n",
              "      <td>...</td>\n",
              "      <td>...</td>\n",
              "      <td>...</td>\n",
              "      <td>...</td>\n",
              "      <td>...</td>\n",
              "      <td>...</td>\n",
              "      <td>...</td>\n",
              "      <td>...</td>\n",
              "      <td>...</td>\n",
              "      <td>...</td>\n",
              "      <td>...</td>\n",
              "      <td>...</td>\n",
              "      <td>...</td>\n",
              "      <td>...</td>\n",
              "      <td>...</td>\n",
              "      <td>...</td>\n",
              "      <td>...</td>\n",
              "      <td>...</td>\n",
              "      <td>...</td>\n",
              "      <td>...</td>\n",
              "      <td>...</td>\n",
              "      <td>...</td>\n",
              "      <td>...</td>\n",
              "      <td>...</td>\n",
              "      <td>...</td>\n",
              "      <td>...</td>\n",
              "      <td>...</td>\n",
              "      <td>...</td>\n",
              "      <td>...</td>\n",
              "      <td>...</td>\n",
              "      <td>...</td>\n",
              "      <td>...</td>\n",
              "      <td>...</td>\n",
              "      <td>...</td>\n",
              "      <td>...</td>\n",
              "      <td>...</td>\n",
              "      <td>...</td>\n",
              "      <td>...</td>\n",
              "      <td>...</td>\n",
              "      <td>...</td>\n",
              "      <td>...</td>\n",
              "      <td>...</td>\n",
              "      <td>...</td>\n",
              "      <td>...</td>\n",
              "      <td>...</td>\n",
              "      <td>...</td>\n",
              "      <td>...</td>\n",
              "      <td>...</td>\n",
              "      <td>...</td>\n",
              "      <td>...</td>\n",
              "      <td>...</td>\n",
              "      <td>...</td>\n",
              "      <td>...</td>\n",
              "      <td>...</td>\n",
              "      <td>...</td>\n",
              "      <td>...</td>\n",
              "      <td>...</td>\n",
              "      <td>...</td>\n",
              "      <td>...</td>\n",
              "      <td>...</td>\n",
              "      <td>...</td>\n",
              "      <td>...</td>\n",
              "      <td>...</td>\n",
              "      <td>...</td>\n",
              "      <td>...</td>\n",
              "      <td>...</td>\n",
              "      <td>...</td>\n",
              "      <td>...</td>\n",
              "      <td>...</td>\n",
              "      <td>...</td>\n",
              "      <td>...</td>\n",
              "      <td>...</td>\n",
              "      <td>...</td>\n",
              "      <td>...</td>\n",
              "      <td>...</td>\n",
              "      <td>...</td>\n",
              "      <td>...</td>\n",
              "      <td>...</td>\n",
              "    </tr>\n",
              "    <tr>\n",
              "      <th>3467</th>\n",
              "      <td>45.0</td>\n",
              "      <td>1.0</td>\n",
              "      <td>3.0</td>\n",
              "      <td>7.000000</td>\n",
              "      <td>2002.965116</td>\n",
              "      <td>0.0</td>\n",
              "      <td>1.0</td>\n",
              "      <td>1.0</td>\n",
              "      <td>1.0</td>\n",
              "      <td>1.0</td>\n",
              "      <td>1.0</td>\n",
              "      <td>1.0</td>\n",
              "      <td>1.0</td>\n",
              "      <td>0.0</td>\n",
              "      <td>0.0</td>\n",
              "      <td>0.0</td>\n",
              "      <td>0.0</td>\n",
              "      <td>0.0</td>\n",
              "      <td>0.0</td>\n",
              "      <td>0.0</td>\n",
              "      <td>0.0</td>\n",
              "      <td>0.0</td>\n",
              "      <td>0.0</td>\n",
              "      <td>1.0</td>\n",
              "      <td>0.0</td>\n",
              "      <td>1.0</td>\n",
              "      <td>1.0</td>\n",
              "      <td>1.0</td>\n",
              "      <td>0.0</td>\n",
              "      <td>0.0</td>\n",
              "      <td>0.0</td>\n",
              "      <td>0.0</td>\n",
              "      <td>0.0</td>\n",
              "      <td>0.0</td>\n",
              "      <td>1.0</td>\n",
              "      <td>0.0</td>\n",
              "      <td>0.0</td>\n",
              "      <td>0.0</td>\n",
              "      <td>0.0</td>\n",
              "      <td>0.0</td>\n",
              "      <td>...</td>\n",
              "      <td>0.0</td>\n",
              "      <td>0.0</td>\n",
              "      <td>0.0</td>\n",
              "      <td>0.0</td>\n",
              "      <td>0.0</td>\n",
              "      <td>0.0</td>\n",
              "      <td>0.0</td>\n",
              "      <td>0.0</td>\n",
              "      <td>0.0</td>\n",
              "      <td>0.0</td>\n",
              "      <td>0.0</td>\n",
              "      <td>0.0</td>\n",
              "      <td>0.0</td>\n",
              "      <td>0.0</td>\n",
              "      <td>0.0</td>\n",
              "      <td>1.0</td>\n",
              "      <td>0.0</td>\n",
              "      <td>0.0</td>\n",
              "      <td>0.0</td>\n",
              "      <td>0.0</td>\n",
              "      <td>0.0</td>\n",
              "      <td>0.0</td>\n",
              "      <td>0.0</td>\n",
              "      <td>0.0</td>\n",
              "      <td>1.0</td>\n",
              "      <td>0.0</td>\n",
              "      <td>0.0</td>\n",
              "      <td>0.0</td>\n",
              "      <td>0.0</td>\n",
              "      <td>0.0</td>\n",
              "      <td>0.0</td>\n",
              "      <td>0.0</td>\n",
              "      <td>0.0</td>\n",
              "      <td>0.0</td>\n",
              "      <td>0.0</td>\n",
              "      <td>0.0</td>\n",
              "      <td>0.0</td>\n",
              "      <td>0.0</td>\n",
              "      <td>0.0</td>\n",
              "      <td>2350.000000</td>\n",
              "    </tr>\n",
              "    <tr>\n",
              "      <th>3468</th>\n",
              "      <td>50.0</td>\n",
              "      <td>2.0</td>\n",
              "      <td>1.0</td>\n",
              "      <td>2.000000</td>\n",
              "      <td>2006.000000</td>\n",
              "      <td>0.0</td>\n",
              "      <td>1.0</td>\n",
              "      <td>1.0</td>\n",
              "      <td>1.0</td>\n",
              "      <td>1.0</td>\n",
              "      <td>1.0</td>\n",
              "      <td>1.0</td>\n",
              "      <td>1.0</td>\n",
              "      <td>0.0</td>\n",
              "      <td>0.0</td>\n",
              "      <td>0.0</td>\n",
              "      <td>0.0</td>\n",
              "      <td>1.0</td>\n",
              "      <td>1.0</td>\n",
              "      <td>0.0</td>\n",
              "      <td>0.0</td>\n",
              "      <td>0.0</td>\n",
              "      <td>0.0</td>\n",
              "      <td>0.0</td>\n",
              "      <td>0.0</td>\n",
              "      <td>1.0</td>\n",
              "      <td>1.0</td>\n",
              "      <td>0.0</td>\n",
              "      <td>0.0</td>\n",
              "      <td>0.0</td>\n",
              "      <td>1.0</td>\n",
              "      <td>0.0</td>\n",
              "      <td>0.0</td>\n",
              "      <td>0.0</td>\n",
              "      <td>0.0</td>\n",
              "      <td>1.0</td>\n",
              "      <td>0.0</td>\n",
              "      <td>0.0</td>\n",
              "      <td>0.0</td>\n",
              "      <td>0.0</td>\n",
              "      <td>...</td>\n",
              "      <td>0.0</td>\n",
              "      <td>0.0</td>\n",
              "      <td>0.0</td>\n",
              "      <td>0.0</td>\n",
              "      <td>0.0</td>\n",
              "      <td>0.0</td>\n",
              "      <td>0.0</td>\n",
              "      <td>1.0</td>\n",
              "      <td>0.0</td>\n",
              "      <td>0.0</td>\n",
              "      <td>1.0</td>\n",
              "      <td>0.0</td>\n",
              "      <td>0.0</td>\n",
              "      <td>0.0</td>\n",
              "      <td>0.0</td>\n",
              "      <td>1.0</td>\n",
              "      <td>0.0</td>\n",
              "      <td>0.0</td>\n",
              "      <td>0.0</td>\n",
              "      <td>0.0</td>\n",
              "      <td>0.0</td>\n",
              "      <td>0.0</td>\n",
              "      <td>0.0</td>\n",
              "      <td>0.0</td>\n",
              "      <td>0.0</td>\n",
              "      <td>0.0</td>\n",
              "      <td>0.0</td>\n",
              "      <td>0.0</td>\n",
              "      <td>0.0</td>\n",
              "      <td>0.0</td>\n",
              "      <td>0.0</td>\n",
              "      <td>0.0</td>\n",
              "      <td>0.0</td>\n",
              "      <td>1.0</td>\n",
              "      <td>0.0</td>\n",
              "      <td>0.0</td>\n",
              "      <td>0.0</td>\n",
              "      <td>0.0</td>\n",
              "      <td>0.0</td>\n",
              "      <td>3737.302326</td>\n",
              "    </tr>\n",
              "    <tr>\n",
              "      <th>3469</th>\n",
              "      <td>46.0</td>\n",
              "      <td>2.0</td>\n",
              "      <td>5.0</td>\n",
              "      <td>5.000000</td>\n",
              "      <td>2015.000000</td>\n",
              "      <td>0.0</td>\n",
              "      <td>1.0</td>\n",
              "      <td>1.0</td>\n",
              "      <td>1.0</td>\n",
              "      <td>1.0</td>\n",
              "      <td>1.0</td>\n",
              "      <td>1.0</td>\n",
              "      <td>1.0</td>\n",
              "      <td>0.0</td>\n",
              "      <td>0.0</td>\n",
              "      <td>0.0</td>\n",
              "      <td>0.0</td>\n",
              "      <td>1.0</td>\n",
              "      <td>0.0</td>\n",
              "      <td>0.0</td>\n",
              "      <td>0.0</td>\n",
              "      <td>0.0</td>\n",
              "      <td>0.0</td>\n",
              "      <td>1.0</td>\n",
              "      <td>0.0</td>\n",
              "      <td>1.0</td>\n",
              "      <td>1.0</td>\n",
              "      <td>1.0</td>\n",
              "      <td>0.0</td>\n",
              "      <td>0.0</td>\n",
              "      <td>0.0</td>\n",
              "      <td>0.0</td>\n",
              "      <td>0.0</td>\n",
              "      <td>0.0</td>\n",
              "      <td>1.0</td>\n",
              "      <td>0.0</td>\n",
              "      <td>0.0</td>\n",
              "      <td>0.0</td>\n",
              "      <td>0.0</td>\n",
              "      <td>0.0</td>\n",
              "      <td>...</td>\n",
              "      <td>0.0</td>\n",
              "      <td>0.0</td>\n",
              "      <td>0.0</td>\n",
              "      <td>0.0</td>\n",
              "      <td>0.0</td>\n",
              "      <td>0.0</td>\n",
              "      <td>0.0</td>\n",
              "      <td>1.0</td>\n",
              "      <td>0.0</td>\n",
              "      <td>0.0</td>\n",
              "      <td>1.0</td>\n",
              "      <td>0.0</td>\n",
              "      <td>0.0</td>\n",
              "      <td>0.0</td>\n",
              "      <td>0.0</td>\n",
              "      <td>1.0</td>\n",
              "      <td>0.0</td>\n",
              "      <td>0.0</td>\n",
              "      <td>0.0</td>\n",
              "      <td>0.0</td>\n",
              "      <td>0.0</td>\n",
              "      <td>0.0</td>\n",
              "      <td>0.0</td>\n",
              "      <td>0.0</td>\n",
              "      <td>1.0</td>\n",
              "      <td>0.0</td>\n",
              "      <td>0.0</td>\n",
              "      <td>0.0</td>\n",
              "      <td>0.0</td>\n",
              "      <td>0.0</td>\n",
              "      <td>0.0</td>\n",
              "      <td>0.0</td>\n",
              "      <td>0.0</td>\n",
              "      <td>0.0</td>\n",
              "      <td>0.0</td>\n",
              "      <td>0.0</td>\n",
              "      <td>0.0</td>\n",
              "      <td>0.0</td>\n",
              "      <td>0.0</td>\n",
              "      <td>2842.093023</td>\n",
              "    </tr>\n",
              "    <tr>\n",
              "      <th>3470</th>\n",
              "      <td>23.0</td>\n",
              "      <td>1.0</td>\n",
              "      <td>1.0</td>\n",
              "      <td>4.000000</td>\n",
              "      <td>1938.000000</td>\n",
              "      <td>0.0</td>\n",
              "      <td>0.0</td>\n",
              "      <td>1.0</td>\n",
              "      <td>1.0</td>\n",
              "      <td>0.0</td>\n",
              "      <td>0.0</td>\n",
              "      <td>0.0</td>\n",
              "      <td>1.0</td>\n",
              "      <td>0.0</td>\n",
              "      <td>0.0</td>\n",
              "      <td>0.0</td>\n",
              "      <td>0.0</td>\n",
              "      <td>0.0</td>\n",
              "      <td>0.0</td>\n",
              "      <td>0.0</td>\n",
              "      <td>0.0</td>\n",
              "      <td>0.0</td>\n",
              "      <td>0.0</td>\n",
              "      <td>0.0</td>\n",
              "      <td>0.0</td>\n",
              "      <td>1.0</td>\n",
              "      <td>0.0</td>\n",
              "      <td>0.0</td>\n",
              "      <td>0.0</td>\n",
              "      <td>0.0</td>\n",
              "      <td>0.0</td>\n",
              "      <td>0.0</td>\n",
              "      <td>0.0</td>\n",
              "      <td>0.0</td>\n",
              "      <td>0.0</td>\n",
              "      <td>0.0</td>\n",
              "      <td>0.0</td>\n",
              "      <td>0.0</td>\n",
              "      <td>0.0</td>\n",
              "      <td>0.0</td>\n",
              "      <td>...</td>\n",
              "      <td>0.0</td>\n",
              "      <td>0.0</td>\n",
              "      <td>0.0</td>\n",
              "      <td>0.0</td>\n",
              "      <td>0.0</td>\n",
              "      <td>0.0</td>\n",
              "      <td>0.0</td>\n",
              "      <td>0.0</td>\n",
              "      <td>1.0</td>\n",
              "      <td>1.0</td>\n",
              "      <td>0.0</td>\n",
              "      <td>0.0</td>\n",
              "      <td>0.0</td>\n",
              "      <td>0.0</td>\n",
              "      <td>0.0</td>\n",
              "      <td>1.0</td>\n",
              "      <td>0.0</td>\n",
              "      <td>0.0</td>\n",
              "      <td>0.0</td>\n",
              "      <td>0.0</td>\n",
              "      <td>0.0</td>\n",
              "      <td>0.0</td>\n",
              "      <td>0.0</td>\n",
              "      <td>0.0</td>\n",
              "      <td>0.0</td>\n",
              "      <td>1.0</td>\n",
              "      <td>0.0</td>\n",
              "      <td>0.0</td>\n",
              "      <td>0.0</td>\n",
              "      <td>0.0</td>\n",
              "      <td>0.0</td>\n",
              "      <td>0.0</td>\n",
              "      <td>0.0</td>\n",
              "      <td>0.0</td>\n",
              "      <td>0.0</td>\n",
              "      <td>0.0</td>\n",
              "      <td>0.0</td>\n",
              "      <td>0.0</td>\n",
              "      <td>0.0</td>\n",
              "      <td>1570.000000</td>\n",
              "    </tr>\n",
              "    <tr>\n",
              "      <th>3471</th>\n",
              "      <td>41.0</td>\n",
              "      <td>2.0</td>\n",
              "      <td>1.0</td>\n",
              "      <td>6.000000</td>\n",
              "      <td>1990.000000</td>\n",
              "      <td>0.0</td>\n",
              "      <td>0.0</td>\n",
              "      <td>1.0</td>\n",
              "      <td>1.0</td>\n",
              "      <td>1.0</td>\n",
              "      <td>1.0</td>\n",
              "      <td>1.0</td>\n",
              "      <td>1.0</td>\n",
              "      <td>0.0</td>\n",
              "      <td>0.0</td>\n",
              "      <td>0.0</td>\n",
              "      <td>0.0</td>\n",
              "      <td>0.0</td>\n",
              "      <td>0.0</td>\n",
              "      <td>0.0</td>\n",
              "      <td>0.0</td>\n",
              "      <td>0.0</td>\n",
              "      <td>0.0</td>\n",
              "      <td>1.0</td>\n",
              "      <td>1.0</td>\n",
              "      <td>0.0</td>\n",
              "      <td>0.0</td>\n",
              "      <td>0.0</td>\n",
              "      <td>0.0</td>\n",
              "      <td>0.0</td>\n",
              "      <td>0.0</td>\n",
              "      <td>0.0</td>\n",
              "      <td>0.0</td>\n",
              "      <td>0.0</td>\n",
              "      <td>0.0</td>\n",
              "      <td>1.0</td>\n",
              "      <td>0.0</td>\n",
              "      <td>0.0</td>\n",
              "      <td>0.0</td>\n",
              "      <td>0.0</td>\n",
              "      <td>...</td>\n",
              "      <td>0.0</td>\n",
              "      <td>0.0</td>\n",
              "      <td>0.0</td>\n",
              "      <td>0.0</td>\n",
              "      <td>0.0</td>\n",
              "      <td>0.0</td>\n",
              "      <td>0.0</td>\n",
              "      <td>1.0</td>\n",
              "      <td>0.0</td>\n",
              "      <td>0.0</td>\n",
              "      <td>1.0</td>\n",
              "      <td>0.0</td>\n",
              "      <td>0.0</td>\n",
              "      <td>0.0</td>\n",
              "      <td>0.0</td>\n",
              "      <td>1.0</td>\n",
              "      <td>0.0</td>\n",
              "      <td>0.0</td>\n",
              "      <td>0.0</td>\n",
              "      <td>0.0</td>\n",
              "      <td>0.0</td>\n",
              "      <td>0.0</td>\n",
              "      <td>0.0</td>\n",
              "      <td>0.0</td>\n",
              "      <td>0.0</td>\n",
              "      <td>0.0</td>\n",
              "      <td>0.0</td>\n",
              "      <td>0.0</td>\n",
              "      <td>0.0</td>\n",
              "      <td>0.0</td>\n",
              "      <td>0.0</td>\n",
              "      <td>0.0</td>\n",
              "      <td>0.0</td>\n",
              "      <td>0.0</td>\n",
              "      <td>0.0</td>\n",
              "      <td>0.0</td>\n",
              "      <td>0.0</td>\n",
              "      <td>1.0</td>\n",
              "      <td>0.0</td>\n",
              "      <td>2499.000000</td>\n",
              "    </tr>\n",
              "  </tbody>\n",
              "</table>\n",
              "<p>3472 rows × 85 columns</p>\n",
              "</div>"
            ],
            "text/plain": [
              "      area  room_num  ...  district_ Żoliborz  gross_price\n",
              "0     37.0       2.0  ...                 0.0  2435.244186\n",
              "1     38.0       2.0  ...                 0.0  2175.000000\n",
              "2     57.0       3.0  ...                 0.0  3300.000000\n",
              "3     63.0       2.0  ...                 0.0  2585.046512\n",
              "4     65.0       3.0  ...                 0.0  3424.918605\n",
              "...    ...       ...  ...                 ...          ...\n",
              "3467  45.0       1.0  ...                 0.0  2350.000000\n",
              "3468  50.0       2.0  ...                 0.0  3737.302326\n",
              "3469  46.0       2.0  ...                 0.0  2842.093023\n",
              "3470  23.0       1.0  ...                 0.0  1570.000000\n",
              "3471  41.0       2.0  ...                 0.0  2499.000000\n",
              "\n",
              "[3472 rows x 85 columns]"
            ]
          },
          "metadata": {
            "tags": []
          },
          "execution_count": 88
        }
      ]
    },
    {
      "cell_type": "markdown",
      "metadata": {
        "id": "5uLaN0Azuxps"
      },
      "source": [
        "# Reression"
      ]
    },
    {
      "cell_type": "code",
      "metadata": {
        "colab": {
          "base_uri": "https://localhost:8080/"
        },
        "id": "hvYOCtRNKESY",
        "outputId": "ee7c150c-f6ed-48cc-dd50-c631392db6b0"
      },
      "source": [
        "from sklearn.model_selection import train_test_split\r\n",
        "X_train, X_test, y_train, y_test = train_test_split(X, y, test_size=0.33, random_state=42)\r\n",
        "X_train.shape, X_test.shape, y_train.shape, y_test.shape"
      ],
      "execution_count": 89,
      "outputs": [
        {
          "output_type": "execute_result",
          "data": {
            "text/plain": [
              "((2326, 84), (1146, 84), (2326,), (1146,))"
            ]
          },
          "metadata": {
            "tags": []
          },
          "execution_count": 89
        }
      ]
    },
    {
      "cell_type": "markdown",
      "metadata": {
        "id": "KdmVIeODFm-I"
      },
      "source": [
        "### Lazy predict"
      ]
    },
    {
      "cell_type": "code",
      "metadata": {
        "id": "YLKalR2TFuuV",
        "colab": {
          "base_uri": "https://localhost:8080/"
        },
        "outputId": "a1c11c18-9d4d-49e6-b1e5-6c7f4bc90dc7"
      },
      "source": [
        "!pip install lazypredict==0.2.7"
      ],
      "execution_count": 94,
      "outputs": [
        {
          "output_type": "stream",
          "text": [
            "Collecting lazypredict==0.2.7\n",
            "  Downloading https://files.pythonhosted.org/packages/5f/db/1566dca1050ea74e9474dca0f1e7bbffcb0c3e694cf92e7e6e7ef9fca3af/lazypredict-0.2.7-py2.py3-none-any.whl\n",
            "Requirement already satisfied: Click>=7.0 in /usr/local/lib/python3.6/dist-packages (from lazypredict==0.2.7) (7.1.2)\n",
            "Installing collected packages: lazypredict\n",
            "Successfully installed lazypredict-0.2.7\n"
          ],
          "name": "stdout"
        }
      ]
    },
    {
      "cell_type": "code",
      "metadata": {
        "id": "ZyqaCPOuFqk8",
        "colab": {
          "base_uri": "https://localhost:8080/",
          "height": 1000
        },
        "outputId": "d16813d0-63a5-411b-bfba-85aff875c11d"
      },
      "source": [
        "from lazypredict.Supervised import LazyRegressor\r\n",
        "reg = LazyRegressor(verbose=0, ignore_warnings=False, custom_metric=None)\r\n",
        "models, predictions = reg.fit(X_train, X_test, y_train, y_test)\r\n",
        "\r\n",
        "models"
      ],
      "execution_count": 95,
      "outputs": [
        {
          "output_type": "stream",
          "text": [
            "/usr/local/lib/python3.6/dist-packages/sklearn/utils/deprecation.py:144: FutureWarning: The sklearn.utils.testing module is  deprecated in version 0.22 and will be removed in version 0.24. The corresponding classes / functions should instead be imported from sklearn.utils. Anything that cannot be imported from sklearn.utils is now part of the private API.\n",
            "  warnings.warn(message, FutureWarning)\n",
            " 92%|█████████▏| 36/39 [00:18<00:01,  1.60it/s]"
          ],
          "name": "stderr"
        },
        {
          "output_type": "stream",
          "text": [
            "StackingRegressor model failed to execute\n",
            "__init__() missing 1 required positional argument: 'estimators'\n",
            "[17:56:41] WARNING: /workspace/src/objective/regression_obj.cu:152: reg:linear is now deprecated in favor of reg:squarederror.\n"
          ],
          "name": "stdout"
        },
        {
          "output_type": "stream",
          "text": [
            "100%|██████████| 39/39 [00:19<00:00,  2.02it/s]\n"
          ],
          "name": "stderr"
        },
        {
          "output_type": "execute_result",
          "data": {
            "text/html": [
              "<div>\n",
              "<style scoped>\n",
              "    .dataframe tbody tr th:only-of-type {\n",
              "        vertical-align: middle;\n",
              "    }\n",
              "\n",
              "    .dataframe tbody tr th {\n",
              "        vertical-align: top;\n",
              "    }\n",
              "\n",
              "    .dataframe thead th {\n",
              "        text-align: right;\n",
              "    }\n",
              "</style>\n",
              "<table border=\"1\" class=\"dataframe\">\n",
              "  <thead>\n",
              "    <tr style=\"text-align: right;\">\n",
              "      <th></th>\n",
              "      <th>R-Squared</th>\n",
              "      <th>RMSE</th>\n",
              "      <th>Time Taken</th>\n",
              "    </tr>\n",
              "    <tr>\n",
              "      <th>Model</th>\n",
              "      <th></th>\n",
              "      <th></th>\n",
              "      <th></th>\n",
              "    </tr>\n",
              "  </thead>\n",
              "  <tbody>\n",
              "    <tr>\n",
              "      <th>GradientBoostingRegressor</th>\n",
              "      <td>0.74</td>\n",
              "      <td>483.92</td>\n",
              "      <td>0.56</td>\n",
              "    </tr>\n",
              "    <tr>\n",
              "      <th>RandomForestRegressor</th>\n",
              "      <td>0.74</td>\n",
              "      <td>488.13</td>\n",
              "      <td>2.09</td>\n",
              "    </tr>\n",
              "    <tr>\n",
              "      <th>XGBRegressor</th>\n",
              "      <td>0.74</td>\n",
              "      <td>490.78</td>\n",
              "      <td>0.59</td>\n",
              "    </tr>\n",
              "    <tr>\n",
              "      <th>LGBMRegressor</th>\n",
              "      <td>0.74</td>\n",
              "      <td>491.60</td>\n",
              "      <td>0.25</td>\n",
              "    </tr>\n",
              "    <tr>\n",
              "      <th>BaggingRegressor</th>\n",
              "      <td>0.73</td>\n",
              "      <td>499.88</td>\n",
              "      <td>0.25</td>\n",
              "    </tr>\n",
              "    <tr>\n",
              "      <th>HistGradientBoostingRegressor</th>\n",
              "      <td>0.73</td>\n",
              "      <td>500.88</td>\n",
              "      <td>2.07</td>\n",
              "    </tr>\n",
              "    <tr>\n",
              "      <th>LarsCV</th>\n",
              "      <td>0.69</td>\n",
              "      <td>534.09</td>\n",
              "      <td>0.20</td>\n",
              "    </tr>\n",
              "    <tr>\n",
              "      <th>LassoLarsIC</th>\n",
              "      <td>0.69</td>\n",
              "      <td>534.56</td>\n",
              "      <td>0.06</td>\n",
              "    </tr>\n",
              "    <tr>\n",
              "      <th>ExtraTreesRegressor</th>\n",
              "      <td>0.68</td>\n",
              "      <td>545.21</td>\n",
              "      <td>2.26</td>\n",
              "    </tr>\n",
              "    <tr>\n",
              "      <th>LassoLars</th>\n",
              "      <td>0.67</td>\n",
              "      <td>548.86</td>\n",
              "      <td>0.04</td>\n",
              "    </tr>\n",
              "    <tr>\n",
              "      <th>LassoLarsCV</th>\n",
              "      <td>0.67</td>\n",
              "      <td>553.88</td>\n",
              "      <td>0.20</td>\n",
              "    </tr>\n",
              "    <tr>\n",
              "      <th>OrthogonalMatchingPursuitCV</th>\n",
              "      <td>0.66</td>\n",
              "      <td>554.51</td>\n",
              "      <td>0.06</td>\n",
              "    </tr>\n",
              "    <tr>\n",
              "      <th>OrthogonalMatchingPursuit</th>\n",
              "      <td>0.66</td>\n",
              "      <td>554.51</td>\n",
              "      <td>0.03</td>\n",
              "    </tr>\n",
              "    <tr>\n",
              "      <th>LassoCV</th>\n",
              "      <td>0.65</td>\n",
              "      <td>567.53</td>\n",
              "      <td>0.19</td>\n",
              "    </tr>\n",
              "    <tr>\n",
              "      <th>ElasticNet</th>\n",
              "      <td>0.61</td>\n",
              "      <td>594.93</td>\n",
              "      <td>0.03</td>\n",
              "    </tr>\n",
              "    <tr>\n",
              "      <th>ElasticNetCV</th>\n",
              "      <td>0.61</td>\n",
              "      <td>601.50</td>\n",
              "      <td>0.21</td>\n",
              "    </tr>\n",
              "    <tr>\n",
              "      <th>AdaBoostRegressor</th>\n",
              "      <td>0.55</td>\n",
              "      <td>639.64</td>\n",
              "      <td>0.45</td>\n",
              "    </tr>\n",
              "    <tr>\n",
              "      <th>Lasso</th>\n",
              "      <td>0.50</td>\n",
              "      <td>674.63</td>\n",
              "      <td>0.05</td>\n",
              "    </tr>\n",
              "    <tr>\n",
              "      <th>BayesianRidge</th>\n",
              "      <td>0.49</td>\n",
              "      <td>680.95</td>\n",
              "      <td>0.09</td>\n",
              "    </tr>\n",
              "    <tr>\n",
              "      <th>DecisionTreeRegressor</th>\n",
              "      <td>0.49</td>\n",
              "      <td>680.96</td>\n",
              "      <td>0.12</td>\n",
              "    </tr>\n",
              "    <tr>\n",
              "      <th>RidgeCV</th>\n",
              "      <td>0.48</td>\n",
              "      <td>691.24</td>\n",
              "      <td>0.05</td>\n",
              "    </tr>\n",
              "    <tr>\n",
              "      <th>Ridge</th>\n",
              "      <td>0.47</td>\n",
              "      <td>694.32</td>\n",
              "      <td>0.03</td>\n",
              "    </tr>\n",
              "    <tr>\n",
              "      <th>Lars</th>\n",
              "      <td>0.47</td>\n",
              "      <td>695.84</td>\n",
              "      <td>0.07</td>\n",
              "    </tr>\n",
              "    <tr>\n",
              "      <th>PassiveAggressiveRegressor</th>\n",
              "      <td>0.40</td>\n",
              "      <td>744.71</td>\n",
              "      <td>0.04</td>\n",
              "    </tr>\n",
              "    <tr>\n",
              "      <th>ExtraTreeRegressor</th>\n",
              "      <td>0.38</td>\n",
              "      <td>752.85</td>\n",
              "      <td>0.11</td>\n",
              "    </tr>\n",
              "    <tr>\n",
              "      <th>KNeighborsRegressor</th>\n",
              "      <td>0.32</td>\n",
              "      <td>788.23</td>\n",
              "      <td>0.61</td>\n",
              "    </tr>\n",
              "    <tr>\n",
              "      <th>HuberRegressor</th>\n",
              "      <td>0.31</td>\n",
              "      <td>794.00</td>\n",
              "      <td>0.18</td>\n",
              "    </tr>\n",
              "    <tr>\n",
              "      <th>SVR</th>\n",
              "      <td>0.00</td>\n",
              "      <td>957.49</td>\n",
              "      <td>1.47</td>\n",
              "    </tr>\n",
              "    <tr>\n",
              "      <th>DummyRegressor</th>\n",
              "      <td>-0.00</td>\n",
              "      <td>957.67</td>\n",
              "      <td>0.02</td>\n",
              "    </tr>\n",
              "    <tr>\n",
              "      <th>NuSVR</th>\n",
              "      <td>-0.00</td>\n",
              "      <td>958.24</td>\n",
              "      <td>0.97</td>\n",
              "    </tr>\n",
              "    <tr>\n",
              "      <th>LinearSVR</th>\n",
              "      <td>-0.16</td>\n",
              "      <td>1030.17</td>\n",
              "      <td>0.04</td>\n",
              "    </tr>\n",
              "    <tr>\n",
              "      <th>KernelRidge</th>\n",
              "      <td>-7.68</td>\n",
              "      <td>2820.81</td>\n",
              "      <td>0.49</td>\n",
              "    </tr>\n",
              "    <tr>\n",
              "      <th>GaussianProcessRegressor</th>\n",
              "      <td>-7.88</td>\n",
              "      <td>2854.43</td>\n",
              "      <td>1.32</td>\n",
              "    </tr>\n",
              "    <tr>\n",
              "      <th>MLPRegressor</th>\n",
              "      <td>-18.84</td>\n",
              "      <td>4266.01</td>\n",
              "      <td>3.37</td>\n",
              "    </tr>\n",
              "    <tr>\n",
              "      <th>SGDRegressor</th>\n",
              "      <td>-23.89</td>\n",
              "      <td>4777.22</td>\n",
              "      <td>0.04</td>\n",
              "    </tr>\n",
              "    <tr>\n",
              "      <th>TransformedTargetRegressor</th>\n",
              "      <td>-111058178776371724288.00</td>\n",
              "      <td>10092085271155.63</td>\n",
              "      <td>0.04</td>\n",
              "    </tr>\n",
              "    <tr>\n",
              "      <th>LinearRegression</th>\n",
              "      <td>-111058178776371724288.00</td>\n",
              "      <td>10092085271155.63</td>\n",
              "      <td>0.04</td>\n",
              "    </tr>\n",
              "    <tr>\n",
              "      <th>RANSACRegressor</th>\n",
              "      <td>-6370648493444257179238400.00</td>\n",
              "      <td>2417115811388344.00</td>\n",
              "      <td>0.52</td>\n",
              "    </tr>\n",
              "  </tbody>\n",
              "</table>\n",
              "</div>"
            ],
            "text/plain": [
              "                                                  R-Squared  ...  Time Taken\n",
              "Model                                                        ...            \n",
              "GradientBoostingRegressor                              0.74  ...        0.56\n",
              "RandomForestRegressor                                  0.74  ...        2.09\n",
              "XGBRegressor                                           0.74  ...        0.59\n",
              "LGBMRegressor                                          0.74  ...        0.25\n",
              "BaggingRegressor                                       0.73  ...        0.25\n",
              "HistGradientBoostingRegressor                          0.73  ...        2.07\n",
              "LarsCV                                                 0.69  ...        0.20\n",
              "LassoLarsIC                                            0.69  ...        0.06\n",
              "ExtraTreesRegressor                                    0.68  ...        2.26\n",
              "LassoLars                                              0.67  ...        0.04\n",
              "LassoLarsCV                                            0.67  ...        0.20\n",
              "OrthogonalMatchingPursuitCV                            0.66  ...        0.06\n",
              "OrthogonalMatchingPursuit                              0.66  ...        0.03\n",
              "LassoCV                                                0.65  ...        0.19\n",
              "ElasticNet                                             0.61  ...        0.03\n",
              "ElasticNetCV                                           0.61  ...        0.21\n",
              "AdaBoostRegressor                                      0.55  ...        0.45\n",
              "Lasso                                                  0.50  ...        0.05\n",
              "BayesianRidge                                          0.49  ...        0.09\n",
              "DecisionTreeRegressor                                  0.49  ...        0.12\n",
              "RidgeCV                                                0.48  ...        0.05\n",
              "Ridge                                                  0.47  ...        0.03\n",
              "Lars                                                   0.47  ...        0.07\n",
              "PassiveAggressiveRegressor                             0.40  ...        0.04\n",
              "ExtraTreeRegressor                                     0.38  ...        0.11\n",
              "KNeighborsRegressor                                    0.32  ...        0.61\n",
              "HuberRegressor                                         0.31  ...        0.18\n",
              "SVR                                                    0.00  ...        1.47\n",
              "DummyRegressor                                        -0.00  ...        0.02\n",
              "NuSVR                                                 -0.00  ...        0.97\n",
              "LinearSVR                                             -0.16  ...        0.04\n",
              "KernelRidge                                           -7.68  ...        0.49\n",
              "GaussianProcessRegressor                              -7.88  ...        1.32\n",
              "MLPRegressor                                         -18.84  ...        3.37\n",
              "SGDRegressor                                         -23.89  ...        0.04\n",
              "TransformedTargetRegressor        -111058178776371724288.00  ...        0.04\n",
              "LinearRegression                  -111058178776371724288.00  ...        0.04\n",
              "RANSACRegressor               -6370648493444257179238400.00  ...        0.52\n",
              "\n",
              "[38 rows x 3 columns]"
            ]
          },
          "metadata": {
            "tags": []
          },
          "execution_count": 95
        }
      ]
    },
    {
      "cell_type": "markdown",
      "metadata": {
        "id": "Gs6oGBZ1lXy7"
      },
      "source": [
        "## XGBRegressor"
      ]
    },
    {
      "cell_type": "code",
      "metadata": {
        "id": "TepMzD1CQzFm"
      },
      "source": [
        "#!pip install xgboost==1.3.3"
      ],
      "execution_count": 96,
      "outputs": []
    },
    {
      "cell_type": "code",
      "metadata": {
        "id": "dp-JIw5u5zBS"
      },
      "source": [
        "import xgboost as xgb\r\n",
        "from sklearn.model_selection import cross_val_score, KFold\r\n",
        "from sklearn.metrics import mean_squared_error\r\n",
        "import matplotlib.pyplot as plt "
      ],
      "execution_count": 97,
      "outputs": []
    },
    {
      "cell_type": "markdown",
      "metadata": {
        "id": "EkCRf3bUsWDq"
      },
      "source": [
        "### Base model"
      ]
    },
    {
      "cell_type": "code",
      "metadata": {
        "colab": {
          "base_uri": "https://localhost:8080/"
        },
        "id": "VeKCZD71lXJ7",
        "outputId": "b94d7b2e-4160-4d5a-d714-6f184726db63"
      },
      "source": [
        "xgbr = xgb.XGBRegressor(verbosity=0) \r\n",
        "xgbr.fit(X_train, y_train)\r\n",
        "score = xgbr.score(X_train, y_train)\r\n",
        "score"
      ],
      "execution_count": 98,
      "outputs": [
        {
          "output_type": "execute_result",
          "data": {
            "text/plain": [
              "0.840504406717859"
            ]
          },
          "metadata": {
            "tags": []
          },
          "execution_count": 98
        }
      ]
    },
    {
      "cell_type": "code",
      "metadata": {
        "colab": {
          "base_uri": "https://localhost:8080/"
        },
        "id": "ut_9FV-xqAFJ",
        "outputId": "d6ea4057-a815-415d-9967-eebad990e2e0"
      },
      "source": [
        "scores = cross_val_score(xgbr, X_train, y_train,cv=10)\r\n",
        "print(\"Mean cross-validation score: %.2f\" % scores.mean())"
      ],
      "execution_count": 99,
      "outputs": [
        {
          "output_type": "stream",
          "text": [
            "Mean cross-validation score: 0.72\n"
          ],
          "name": "stdout"
        }
      ]
    },
    {
      "cell_type": "code",
      "metadata": {
        "colab": {
          "base_uri": "https://localhost:8080/"
        },
        "id": "rD9SKpoEqTW4",
        "outputId": "b814758b-3ee8-43b9-dde3-273e410a95d3"
      },
      "source": [
        "kfold = KFold(n_splits=10, shuffle=True)\r\n",
        "kf_cv_scores = cross_val_score(xgbr, X_train, y_train, cv=kfold )\r\n",
        "print(\"K-fold CV average score: %.2f\" % kf_cv_scores.mean())"
      ],
      "execution_count": 100,
      "outputs": [
        {
          "output_type": "stream",
          "text": [
            "K-fold CV average score: 0.70\n"
          ],
          "name": "stdout"
        }
      ]
    },
    {
      "cell_type": "code",
      "metadata": {
        "colab": {
          "base_uri": "https://localhost:8080/"
        },
        "id": "9Ksp8y6HqdOx",
        "outputId": "cbe2cf54-d621-4aca-a31d-36b6636c448f"
      },
      "source": [
        "y_pred = xgbr.predict(X_test)\r\n",
        "mse = mean_squared_error(y_test, y_pred)\r\n",
        "print(\"MSE: %.2f\" % mse)\r\n",
        "print(\"RMSE: %.2f\" % (mse**(1/2.0)))"
      ],
      "execution_count": 101,
      "outputs": [
        {
          "output_type": "stream",
          "text": [
            "MSE: 240941.09\n",
            "RMSE: 490.86\n"
          ],
          "name": "stdout"
        }
      ]
    },
    {
      "cell_type": "markdown",
      "metadata": {
        "id": "PmtnKUrhsOWL"
      },
      "source": [
        "### Hyperparameter tuning"
      ]
    },
    {
      "cell_type": "code",
      "metadata": {
        "id": "w5tO_h0gsqsi"
      },
      "source": [
        "parameters_for_testing = {\r\n",
        "    'colsample_bytree':[0.4,0.6,0.8],\r\n",
        "    'gamma':[0,0.03,0.1,0.3],\r\n",
        "    'min_child_weight':[1.5,6,10],\r\n",
        "    'learning_rate':[0.1,0.07],\r\n",
        "    'max_depth':[3,5],\r\n",
        "    'n_estimators':[10000],\r\n",
        "    'reg_alpha':[1e-5, 1e-2,  0.75],\r\n",
        "    'reg_lambda':[1e-5, 1e-2, 0.45],\r\n",
        "    'subsample':[0.6,0.95]  }"
      ],
      "execution_count": 102,
      "outputs": []
    },
    {
      "cell_type": "code",
      "metadata": {
        "id": "971Yol1WqwJ2"
      },
      "source": [
        "#gsearch1 = RandomizedSearchCV(xgbr,parameters_for_testing, n_jobs=6,iid=False, verbose=10,scoring='neg_mean_squared_error')\r\n",
        "#gsearch1.fit(X_train,y_train)\r\n",
        "#gsearch1.best_params_"
      ],
      "execution_count": 103,
      "outputs": []
    },
    {
      "cell_type": "code",
      "metadata": {
        "id": "tq6PXO2DOtl7"
      },
      "source": [
        "#Best Params:\r\n",
        "#{'colsample_bytree': 0.4,\r\n",
        "# 'gamma': 0.3,\r\n",
        "# 'learning_rate': 0.07,\r\n",
        "#'max_depth': 3,\r\n",
        "# 'min_child_weight': 6,\r\n",
        "# 'n_estimators': 10000,\r\n",
        "# 'reg_alpha': 0.75,\r\n",
        "# 'reg_lambda': 0.45,\r\n",
        "# 'subsample': 0.95}"
      ],
      "execution_count": null,
      "outputs": []
    },
    {
      "cell_type": "code",
      "metadata": {
        "colab": {
          "base_uri": "https://localhost:8080/"
        },
        "id": "ZxR8VMMw7JLi",
        "outputId": "a9596ef0-81a0-4319-cee0-703c2c088285"
      },
      "source": [
        "xgbr_best = xgb.XGBRegressor(colsample_bytree= 0.4,gamma= 0.3,learning_rate=0.07,max_depth= 3,min_child_weight=6,n_estimators=10000,\r\n",
        "                             reg_alpha=0.75,reg_lambda=0.45,subsample=0.95) \r\n",
        "xgbr_best.fit(X_train, y_train)\r\n",
        "score = xgbr_best.score(X_train, y_train)\r\n",
        "score"
      ],
      "execution_count": 105,
      "outputs": [
        {
          "output_type": "stream",
          "text": [
            "[17:58:19] WARNING: /workspace/src/objective/regression_obj.cu:152: reg:linear is now deprecated in favor of reg:squarederror.\n"
          ],
          "name": "stdout"
        },
        {
          "output_type": "execute_result",
          "data": {
            "text/plain": [
              "0.9932977544764929"
            ]
          },
          "metadata": {
            "tags": []
          },
          "execution_count": 105
        }
      ]
    },
    {
      "cell_type": "code",
      "metadata": {
        "colab": {
          "base_uri": "https://localhost:8080/"
        },
        "id": "ZGCrpM4-PtmD",
        "outputId": "ac119957-6d7a-4ae7-ece6-ab24c0693eee"
      },
      "source": [
        "y_pred = xgbr_best.predict(X_test)\r\n",
        "y_pred"
      ],
      "execution_count": 106,
      "outputs": [
        {
          "output_type": "execute_result",
          "data": {
            "text/plain": [
              "array([3161.8604, 3301.549 , 2299.2578, ..., 2468.396 , 2913.498 ,\n",
              "       2209.3855], dtype=float32)"
            ]
          },
          "metadata": {
            "tags": []
          },
          "execution_count": 106
        }
      ]
    },
    {
      "cell_type": "code",
      "metadata": {
        "id": "n1PIAN60L0bp"
      },
      "source": [
        "result_df = X_test\r\n",
        "result_df['gross_price'] = y_test\r\n",
        "result_df['predicted_price'] = y_pred"
      ],
      "execution_count": 107,
      "outputs": []
    },
    {
      "cell_type": "code",
      "metadata": {
        "colab": {
          "base_uri": "https://localhost:8080/",
          "height": 204
        },
        "id": "dzvK1CpinyyF",
        "outputId": "0d5bcdac-24fc-4b03-c2e9-324176b9541e"
      },
      "source": [
        "result_df.head()[['gross_price','predicted_price']]"
      ],
      "execution_count": 109,
      "outputs": [
        {
          "output_type": "execute_result",
          "data": {
            "text/html": [
              "<div>\n",
              "<style scoped>\n",
              "    .dataframe tbody tr th:only-of-type {\n",
              "        vertical-align: middle;\n",
              "    }\n",
              "\n",
              "    .dataframe tbody tr th {\n",
              "        vertical-align: top;\n",
              "    }\n",
              "\n",
              "    .dataframe thead th {\n",
              "        text-align: right;\n",
              "    }\n",
              "</style>\n",
              "<table border=\"1\" class=\"dataframe\">\n",
              "  <thead>\n",
              "    <tr style=\"text-align: right;\">\n",
              "      <th></th>\n",
              "      <th>gross_price</th>\n",
              "      <th>predicted_price</th>\n",
              "    </tr>\n",
              "  </thead>\n",
              "  <tbody>\n",
              "    <tr>\n",
              "      <th>1533</th>\n",
              "      <td>3224.00</td>\n",
              "      <td>3161.86</td>\n",
              "    </tr>\n",
              "    <tr>\n",
              "      <th>818</th>\n",
              "      <td>3661.13</td>\n",
              "      <td>3301.55</td>\n",
              "    </tr>\n",
              "    <tr>\n",
              "      <th>1885</th>\n",
              "      <td>2300.00</td>\n",
              "      <td>2299.26</td>\n",
              "    </tr>\n",
              "    <tr>\n",
              "      <th>557</th>\n",
              "      <td>2842.09</td>\n",
              "      <td>3170.30</td>\n",
              "    </tr>\n",
              "    <tr>\n",
              "      <th>229</th>\n",
              "      <td>3000.00</td>\n",
              "      <td>3374.72</td>\n",
              "    </tr>\n",
              "  </tbody>\n",
              "</table>\n",
              "</div>"
            ],
            "text/plain": [
              "      gross_price  predicted_price\n",
              "1533      3224.00          3161.86\n",
              "818       3661.13          3301.55\n",
              "1885      2300.00          2299.26\n",
              "557       2842.09          3170.30\n",
              "229       3000.00          3374.72"
            ]
          },
          "metadata": {
            "tags": []
          },
          "execution_count": 109
        }
      ]
    }
  ]
}